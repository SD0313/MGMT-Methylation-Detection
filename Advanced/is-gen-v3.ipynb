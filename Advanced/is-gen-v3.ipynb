{
 "cells": [
  {
   "cell_type": "code",
   "execution_count": 1,
   "id": "2d5a6397",
   "metadata": {
    "_cell_guid": "b1076dfc-b9ad-4769-8c92-a6c4dae69d19",
    "_uuid": "8f2839f25d086af736a60e9eeb907d3b93b6e0e5",
    "execution": {
     "iopub.execute_input": "2022-01-20T21:49:08.351524Z",
     "iopub.status.busy": "2022-01-20T21:49:08.350011Z",
     "iopub.status.idle": "2022-01-20T21:49:13.600927Z",
     "shell.execute_reply": "2022-01-20T21:49:13.600325Z",
     "shell.execute_reply.started": "2022-01-20T21:48:10.993201Z"
    },
    "papermill": {
     "duration": 5.277334,
     "end_time": "2022-01-20T21:49:13.601086",
     "exception": false,
     "start_time": "2022-01-20T21:49:08.323752",
     "status": "completed"
    },
    "tags": []
   },
   "outputs": [],
   "source": [
    "import tensorflow as tf\n",
    "import pandas as pd\n",
    "import numpy as np\n",
    "import os\n",
    "import matplotlib.pyplot as plt\n",
    "import nilearn as nl\n",
    "import nibabel as nib\n",
    "import cv2\n",
    "from IPython.display import clear_output"
   ]
  },
  {
   "cell_type": "code",
   "execution_count": 2,
   "id": "9c101874",
   "metadata": {
    "execution": {
     "iopub.execute_input": "2022-01-20T21:49:13.646603Z",
     "iopub.status.busy": "2022-01-20T21:49:13.645975Z",
     "iopub.status.idle": "2022-01-20T21:49:13.837067Z",
     "shell.execute_reply": "2022-01-20T21:49:13.836538Z",
     "shell.execute_reply.started": "2022-01-20T21:48:11.002141Z"
    },
    "papermill": {
     "duration": 0.213506,
     "end_time": "2022-01-20T21:49:13.837251",
     "exception": false,
     "start_time": "2022-01-20T21:49:13.623745",
     "status": "completed"
    },
    "tags": []
   },
   "outputs": [],
   "source": [
    "test_img = nib.load(r'../input/brats20-dataset-training-validation/BraTS2020_TrainingData/MICCAI_BraTS2020_TrainingData/BraTS20_Training_001/BraTS20_Training_001_flair.nii').get_fdata()"
   ]
  },
  {
   "cell_type": "code",
   "execution_count": 3,
   "id": "c13f1853",
   "metadata": {
    "execution": {
     "iopub.execute_input": "2022-01-20T21:49:13.883459Z",
     "iopub.status.busy": "2022-01-20T21:49:13.882609Z",
     "iopub.status.idle": "2022-01-20T21:49:13.886000Z",
     "shell.execute_reply": "2022-01-20T21:49:13.886508Z",
     "shell.execute_reply.started": "2022-01-20T21:48:11.043734Z"
    },
    "papermill": {
     "duration": 0.029643,
     "end_time": "2022-01-20T21:49:13.886641",
     "exception": false,
     "start_time": "2022-01-20T21:49:13.856998",
     "status": "completed"
    },
    "tags": []
   },
   "outputs": [
    {
     "data": {
      "text/plain": [
       "(240, 240, 155)"
      ]
     },
     "execution_count": 3,
     "metadata": {},
     "output_type": "execute_result"
    }
   ],
   "source": [
    "test_img.shape"
   ]
  },
  {
   "cell_type": "markdown",
   "id": "8784c28e",
   "metadata": {
    "papermill": {
     "duration": 0.019375,
     "end_time": "2022-01-20T21:49:13.925703",
     "exception": false,
     "start_time": "2022-01-20T21:49:13.906328",
     "status": "completed"
    },
    "tags": []
   },
   "source": [
    "## IS-Gen Without Autoencoder Part 1"
   ]
  },
  {
   "cell_type": "code",
   "execution_count": 4,
   "id": "2dd01158",
   "metadata": {
    "execution": {
     "iopub.execute_input": "2022-01-20T21:49:13.968872Z",
     "iopub.status.busy": "2022-01-20T21:49:13.967330Z",
     "iopub.status.idle": "2022-01-20T21:49:13.969459Z",
     "shell.execute_reply": "2022-01-20T21:49:13.969892Z",
     "shell.execute_reply.started": "2022-01-20T21:48:11.051747Z"
    },
    "papermill": {
     "duration": 0.02521,
     "end_time": "2022-01-20T21:49:13.970011",
     "exception": false,
     "start_time": "2022-01-20T21:49:13.944801",
     "status": "completed"
    },
    "tags": []
   },
   "outputs": [],
   "source": [
    "IMAGE_SIZE = 256"
   ]
  },
  {
   "cell_type": "code",
   "execution_count": 5,
   "id": "f9a8bec4",
   "metadata": {
    "execution": {
     "iopub.execute_input": "2022-01-20T21:49:14.013509Z",
     "iopub.status.busy": "2022-01-20T21:49:14.012853Z",
     "iopub.status.idle": "2022-01-20T21:49:14.015473Z",
     "shell.execute_reply": "2022-01-20T21:49:14.015880Z",
     "shell.execute_reply.started": "2022-01-20T21:48:11.059772Z"
    },
    "papermill": {
     "duration": 0.026661,
     "end_time": "2022-01-20T21:49:14.015995",
     "exception": false,
     "start_time": "2022-01-20T21:49:13.989334",
     "status": "completed"
    },
    "tags": []
   },
   "outputs": [
    {
     "data": {
      "text/plain": [
       "\"Non-Convolution Part 1\\nin1 = tf.keras.layers.Input(shape=(256, 256, 1), name='ina')\\nz = tf.keras.layers.Flatten()(in1)\\nz = tf.keras.layers.Dense(512, activation='relu')(z)\\n\\nin2 = tf.keras.layers.Input(shape=(256, 256, 1), name='inb')\\nx = tf.keras.layers.Flatten()(in2)\\nx = tf.keras.layers.Dense(512, activation='relu')(x)\\n\\nconcat = tf.keras.layers.Concatenate(axis=-1, name='cat')([z, x])\\ny = tf.keras.layers.Dense(65536, activation='relu')(concat)\\nout = tf.keras.layers.Reshape((256, 256, 1))(y)\\n\\npart1 = tf.keras.models.Model(inputs=[in1, in2], outputs=[out])\\npart1.summary()\\n\""
      ]
     },
     "execution_count": 5,
     "metadata": {},
     "output_type": "execute_result"
    }
   ],
   "source": [
    "'''Non-Convolution Part 1\n",
    "in1 = tf.keras.layers.Input(shape=(256, 256, 1), name='ina')\n",
    "z = tf.keras.layers.Flatten()(in1)\n",
    "z = tf.keras.layers.Dense(512, activation='relu')(z)\n",
    "\n",
    "in2 = tf.keras.layers.Input(shape=(256, 256, 1), name='inb')\n",
    "x = tf.keras.layers.Flatten()(in2)\n",
    "x = tf.keras.layers.Dense(512, activation='relu')(x)\n",
    "\n",
    "concat = tf.keras.layers.Concatenate(axis=-1, name='cat')([z, x])\n",
    "y = tf.keras.layers.Dense(65536, activation='relu')(concat)\n",
    "out = tf.keras.layers.Reshape((256, 256, 1))(y)\n",
    "\n",
    "part1 = tf.keras.models.Model(inputs=[in1, in2], outputs=[out])\n",
    "part1.summary()\n",
    "'''"
   ]
  },
  {
   "cell_type": "code",
   "execution_count": 6,
   "id": "6fc47f25",
   "metadata": {
    "execution": {
     "iopub.execute_input": "2022-01-20T21:49:14.070320Z",
     "iopub.status.busy": "2022-01-20T21:49:14.069323Z",
     "iopub.status.idle": "2022-01-20T21:49:17.655632Z",
     "shell.execute_reply": "2022-01-20T21:49:17.655202Z",
     "shell.execute_reply.started": "2022-01-20T21:48:11.068837Z"
    },
    "papermill": {
     "duration": 3.620532,
     "end_time": "2022-01-20T21:49:17.655776",
     "exception": false,
     "start_time": "2022-01-20T21:49:14.035244",
     "status": "completed"
    },
    "tags": []
   },
   "outputs": [
    {
     "name": "stderr",
     "output_type": "stream",
     "text": [
      "2022-01-20 21:49:15.123179: I tensorflow/stream_executor/cuda/cuda_gpu_executor.cc:937] successful NUMA node read from SysFS had negative value (-1), but there must be at least one NUMA node, so returning NUMA node zero\n"
     ]
    },
    {
     "name": "stdout",
     "output_type": "stream",
     "text": [
      "Model: \"model\"\n",
      "__________________________________________________________________________________________________\n",
      "Layer (type)                    Output Shape         Param #     Connected to                     \n",
      "==================================================================================================\n",
      "ina (InputLayer)                [(None, 256, 256, 1) 0                                            \n",
      "__________________________________________________________________________________________________\n",
      "inb (InputLayer)                [(None, 256, 256, 1) 0                                            \n",
      "__________________________________________________________________________________________________\n",
      "conv2d (Conv2D)                 (None, 256, 256, 16) 160         ina[0][0]                        \n",
      "__________________________________________________________________________________________________\n",
      "conv2d_4 (Conv2D)               (None, 256, 256, 16) 160         inb[0][0]                        \n",
      "__________________________________________________________________________________________________\n",
      "max_pooling2d (MaxPooling2D)    (None, 128, 128, 16) 0           conv2d[0][0]                     \n",
      "__________________________________________________________________________________________________\n",
      "max_pooling2d_4 (MaxPooling2D)  (None, 128, 128, 16) 0           conv2d_4[0][0]                   \n",
      "__________________________________________________________________________________________________\n",
      "conv2d_1 (Conv2D)               (None, 128, 128, 32) 4640        max_pooling2d[0][0]              \n",
      "__________________________________________________________________________________________________\n",
      "conv2d_5 (Conv2D)               (None, 128, 128, 32) 4640        max_pooling2d_4[0][0]            \n",
      "__________________________________________________________________________________________________\n",
      "max_pooling2d_1 (MaxPooling2D)  (None, 64, 64, 32)   0           conv2d_1[0][0]                   \n",
      "__________________________________________________________________________________________________\n",
      "max_pooling2d_5 (MaxPooling2D)  (None, 64, 64, 32)   0           conv2d_5[0][0]                   \n",
      "__________________________________________________________________________________________________\n",
      "conv2d_2 (Conv2D)               (None, 64, 64, 32)   9248        max_pooling2d_1[0][0]            \n",
      "__________________________________________________________________________________________________\n",
      "conv2d_6 (Conv2D)               (None, 64, 64, 32)   9248        max_pooling2d_5[0][0]            \n",
      "__________________________________________________________________________________________________\n",
      "max_pooling2d_2 (MaxPooling2D)  (None, 32, 32, 32)   0           conv2d_2[0][0]                   \n",
      "__________________________________________________________________________________________________\n",
      "max_pooling2d_6 (MaxPooling2D)  (None, 32, 32, 32)   0           conv2d_6[0][0]                   \n",
      "__________________________________________________________________________________________________\n",
      "conv2d_3 (Conv2D)               (None, 32, 32, 64)   18496       max_pooling2d_2[0][0]            \n",
      "__________________________________________________________________________________________________\n",
      "conv2d_7 (Conv2D)               (None, 32, 32, 64)   18496       max_pooling2d_6[0][0]            \n",
      "__________________________________________________________________________________________________\n",
      "max_pooling2d_3 (MaxPooling2D)  (None, 16, 16, 64)   0           conv2d_3[0][0]                   \n",
      "__________________________________________________________________________________________________\n",
      "max_pooling2d_7 (MaxPooling2D)  (None, 16, 16, 64)   0           conv2d_7[0][0]                   \n",
      "__________________________________________________________________________________________________\n",
      "cat (Concatenate)               (None, 16, 16, 128)  0           max_pooling2d_3[0][0]            \n",
      "                                                                 max_pooling2d_7[0][0]            \n",
      "__________________________________________________________________________________________________\n",
      "conv2d_8 (Conv2D)               (None, 16, 16, 32)   36896       cat[0][0]                        \n",
      "__________________________________________________________________________________________________\n",
      "up_sampling2d (UpSampling2D)    (None, 32, 32, 32)   0           conv2d_8[0][0]                   \n",
      "__________________________________________________________________________________________________\n",
      "conv2d_9 (Conv2D)               (None, 32, 32, 32)   9248        up_sampling2d[0][0]              \n",
      "__________________________________________________________________________________________________\n",
      "up_sampling2d_1 (UpSampling2D)  (None, 64, 64, 32)   0           conv2d_9[0][0]                   \n",
      "__________________________________________________________________________________________________\n",
      "conv2d_10 (Conv2D)              (None, 64, 64, 16)   4624        up_sampling2d_1[0][0]            \n",
      "__________________________________________________________________________________________________\n",
      "up_sampling2d_2 (UpSampling2D)  (None, 128, 128, 16) 0           conv2d_10[0][0]                  \n",
      "__________________________________________________________________________________________________\n",
      "conv2d_transpose (Conv2DTranspo (None, 128, 128, 16) 2320        up_sampling2d_2[0][0]            \n",
      "__________________________________________________________________________________________________\n",
      "u2u (UpSampling2D)              (None, 256, 256, 16) 0           conv2d_transpose[0][0]           \n",
      "__________________________________________________________________________________________________\n",
      "conv2d_transpose_1 (Conv2DTrans (None, 256, 256, 1)  145         u2u[0][0]                        \n",
      "==================================================================================================\n",
      "Total params: 118,321\n",
      "Trainable params: 118,321\n",
      "Non-trainable params: 0\n",
      "__________________________________________________________________________________________________\n"
     ]
    },
    {
     "name": "stderr",
     "output_type": "stream",
     "text": [
      "2022-01-20 21:49:15.234979: I tensorflow/stream_executor/cuda/cuda_gpu_executor.cc:937] successful NUMA node read from SysFS had negative value (-1), but there must be at least one NUMA node, so returning NUMA node zero\n",
      "2022-01-20 21:49:15.235712: I tensorflow/stream_executor/cuda/cuda_gpu_executor.cc:937] successful NUMA node read from SysFS had negative value (-1), but there must be at least one NUMA node, so returning NUMA node zero\n",
      "2022-01-20 21:49:15.236787: I tensorflow/core/platform/cpu_feature_guard.cc:142] This TensorFlow binary is optimized with oneAPI Deep Neural Network Library (oneDNN) to use the following CPU instructions in performance-critical operations:  AVX2 AVX512F FMA\n",
      "To enable them in other operations, rebuild TensorFlow with the appropriate compiler flags.\n",
      "2022-01-20 21:49:15.247165: I tensorflow/stream_executor/cuda/cuda_gpu_executor.cc:937] successful NUMA node read from SysFS had negative value (-1), but there must be at least one NUMA node, so returning NUMA node zero\n",
      "2022-01-20 21:49:15.247843: I tensorflow/stream_executor/cuda/cuda_gpu_executor.cc:937] successful NUMA node read from SysFS had negative value (-1), but there must be at least one NUMA node, so returning NUMA node zero\n",
      "2022-01-20 21:49:15.248512: I tensorflow/stream_executor/cuda/cuda_gpu_executor.cc:937] successful NUMA node read from SysFS had negative value (-1), but there must be at least one NUMA node, so returning NUMA node zero\n",
      "2022-01-20 21:49:17.174669: I tensorflow/stream_executor/cuda/cuda_gpu_executor.cc:937] successful NUMA node read from SysFS had negative value (-1), but there must be at least one NUMA node, so returning NUMA node zero\n",
      "2022-01-20 21:49:17.175477: I tensorflow/stream_executor/cuda/cuda_gpu_executor.cc:937] successful NUMA node read from SysFS had negative value (-1), but there must be at least one NUMA node, so returning NUMA node zero\n",
      "2022-01-20 21:49:17.176093: I tensorflow/stream_executor/cuda/cuda_gpu_executor.cc:937] successful NUMA node read from SysFS had negative value (-1), but there must be at least one NUMA node, so returning NUMA node zero\n",
      "2022-01-20 21:49:17.176680: I tensorflow/core/common_runtime/gpu/gpu_device.cc:1510] Created device /job:localhost/replica:0/task:0/device:GPU:0 with 15403 MB memory:  -> device: 0, name: Tesla P100-PCIE-16GB, pci bus id: 0000:00:04.0, compute capability: 6.0\n"
     ]
    }
   ],
   "source": [
    "in1 = tf.keras.layers.Input(shape=(256, 256, 1), name='ina')\n",
    "z = tf.keras.layers.Conv2D(16, 3, activation='relu', padding='same')(in1)\n",
    "z = tf.keras.layers.MaxPool2D(2)(z)\n",
    "z = tf.keras.layers.Conv2D(32, 3, activation='relu', padding='same')(z)\n",
    "z = tf.keras.layers.MaxPool2D(2)(z)\n",
    "z = tf.keras.layers.Conv2D(32, 3, activation='relu', padding='same')(z)\n",
    "z = tf.keras.layers.MaxPool2D(2)(z)\n",
    "z = tf.keras.layers.Conv2D(64, 3, activation='relu', padding='same')(z)\n",
    "z = tf.keras.layers.MaxPool2D(2)(z)\n",
    "\n",
    "in2 = tf.keras.layers.Input(shape=(256, 256, 1), name='inb')\n",
    "x = tf.keras.layers.Conv2D(16, 3, activation='relu', padding='same')(in2)\n",
    "x = tf.keras.layers.MaxPool2D(2)(x)\n",
    "x = tf.keras.layers.Conv2D(32, 3, activation='relu', padding='same')(x)\n",
    "x = tf.keras.layers.MaxPool2D(2)(x)\n",
    "x = tf.keras.layers.Conv2D(32, 3, activation='relu', padding='same')(x)\n",
    "x = tf.keras.layers.MaxPool2D(2)(x)\n",
    "x = tf.keras.layers.Conv2D(64, 3, activation='relu', padding='same')(x)\n",
    "x = tf.keras.layers.MaxPool2D(2)(x)\n",
    "\n",
    "concat = tf.keras.layers.Concatenate(axis=-1, name='cat')([z, x])\n",
    "\n",
    "y = tf.keras.layers.Conv2D(32, 3, activation='relu', padding='same')(concat)\n",
    "y = tf.keras.layers.UpSampling2D(2)(y)\n",
    "y = tf.keras.layers.Conv2D(32, 3, activation='relu', padding='same')(y)\n",
    "y = tf.keras.layers.UpSampling2D(2)(y)\n",
    "y = tf.keras.layers.Conv2D(16, 3, activation='relu', padding='same')(y)\n",
    "y = tf.keras.layers.UpSampling2D(2)(y)\n",
    "y = tf.keras.layers.Conv2DTranspose(16, 3, activation='relu', padding='same')(y)\n",
    "y = tf.keras.layers.UpSampling2D(2, name='u2u')(y)\n",
    "out = tf.keras.layers.Conv2DTranspose(1, 3, activation='sigmoid', padding='same')(y)\n",
    "\n",
    "part1 = tf.keras.models.Model(inputs=[in1, in2], outputs=[out])\n",
    "\n",
    "part1.summary()"
   ]
  },
  {
   "cell_type": "code",
   "execution_count": 7,
   "id": "2ce72a93",
   "metadata": {
    "execution": {
     "iopub.execute_input": "2022-01-20T21:49:17.711564Z",
     "iopub.status.busy": "2022-01-20T21:49:17.709420Z",
     "iopub.status.idle": "2022-01-20T21:49:17.756068Z",
     "shell.execute_reply": "2022-01-20T21:49:17.756524Z",
     "shell.execute_reply.started": "2022-01-20T21:48:11.231529Z"
    },
    "papermill": {
     "duration": 0.079854,
     "end_time": "2022-01-20T21:49:17.756669",
     "exception": false,
     "start_time": "2022-01-20T21:49:17.676815",
     "status": "completed"
    },
    "tags": []
   },
   "outputs": [
    {
     "name": "stdout",
     "output_type": "stream",
     "text": [
      "Model: \"sequential\"\n",
      "_________________________________________________________________\n",
      "Layer (type)                 Output Shape              Param #   \n",
      "=================================================================\n",
      "conv2d_11 (Conv2D)           (None, 254, 254, 32)      320       \n",
      "_________________________________________________________________\n",
      "max_pooling2d_8 (MaxPooling2 (None, 127, 127, 32)      0         \n",
      "_________________________________________________________________\n",
      "conv2d_12 (Conv2D)           (None, 125, 125, 64)      18496     \n",
      "_________________________________________________________________\n",
      "max_pooling2d_9 (MaxPooling2 (None, 62, 62, 64)        0         \n",
      "_________________________________________________________________\n",
      "conv2d_13 (Conv2D)           (None, 60, 60, 64)        36928     \n",
      "_________________________________________________________________\n",
      "flatten (Flatten)            (None, 230400)            0         \n",
      "_________________________________________________________________\n",
      "dense (Dense)                (None, 128)               29491328  \n",
      "_________________________________________________________________\n",
      "dense_1 (Dense)              (None, 1)                 129       \n",
      "=================================================================\n",
      "Total params: 29,547,201\n",
      "Trainable params: 29,547,201\n",
      "Non-trainable params: 0\n",
      "_________________________________________________________________\n"
     ]
    }
   ],
   "source": [
    "part2 = tf.keras.models.Sequential([tf.keras.layers.Input((IMAGE_SIZE, IMAGE_SIZE, 1)),\n",
    "                                    tf.keras.layers.Conv2D(32, 3, activation='relu'),\n",
    "                                    tf.keras.layers.MaxPool2D(2),\n",
    "                                    tf.keras.layers.Conv2D(64, 3, activation='relu'),\n",
    "                                    tf.keras.layers.MaxPool2D(2),\n",
    "                                    tf.keras.layers.Conv2D(64, 3, activation='relu'),\n",
    "                                    tf.keras.layers.Flatten(),\n",
    "                                    tf.keras.layers.Dense(128, activation='relu'),\n",
    "                                    tf.keras.layers.Dense(1, activation='sigmoid')])\n",
    "part2.summary()"
   ]
  },
  {
   "cell_type": "code",
   "execution_count": 8,
   "id": "16a55006",
   "metadata": {
    "execution": {
     "iopub.execute_input": "2022-01-20T21:49:17.801194Z",
     "iopub.status.busy": "2022-01-20T21:49:17.800412Z",
     "iopub.status.idle": "2022-01-20T21:49:17.803940Z",
     "shell.execute_reply": "2022-01-20T21:49:17.803544Z",
     "shell.execute_reply.started": "2022-01-20T21:48:11.289558Z"
    },
    "papermill": {
     "duration": 0.026553,
     "end_time": "2022-01-20T21:49:17.804043",
     "exception": false,
     "start_time": "2022-01-20T21:49:17.777490",
     "status": "completed"
    },
    "tags": []
   },
   "outputs": [],
   "source": [
    "# part1_weights = '../input/mrequalizer-weights/part1_updated.h5'\n",
    "# part2_weights = '../input/mrequalizer-weights/part2_updated.h5'\n",
    "\n",
    "# part1 = tf.keras.models.load_model(part1_weights)\n",
    "# part2 = tf.keras.models.load_model(part2_weights)"
   ]
  },
  {
   "cell_type": "markdown",
   "id": "4ea3affc",
   "metadata": {
    "papermill": {
     "duration": 0.020544,
     "end_time": "2022-01-20T21:49:17.845268",
     "exception": false,
     "start_time": "2022-01-20T21:49:17.824724",
     "status": "completed"
    },
    "tags": []
   },
   "source": [
    "**Loading in Data**"
   ]
  },
  {
   "cell_type": "code",
   "execution_count": 9,
   "id": "dd5215e6",
   "metadata": {
    "execution": {
     "iopub.execute_input": "2022-01-20T21:49:17.896464Z",
     "iopub.status.busy": "2022-01-20T21:49:17.895764Z",
     "iopub.status.idle": "2022-01-20T21:49:17.897877Z",
     "shell.execute_reply": "2022-01-20T21:49:17.898303Z",
     "shell.execute_reply.started": "2022-01-20T21:48:11.308294Z"
    },
    "papermill": {
     "duration": 0.032459,
     "end_time": "2022-01-20T21:49:17.898426",
     "exception": false,
     "start_time": "2022-01-20T21:49:17.865967",
     "status": "completed"
    },
    "tags": []
   },
   "outputs": [],
   "source": [
    "import random\n",
    "def generator(filenames):\n",
    "    \n",
    "    def callable_generator():\n",
    "        for filename in filenames:\n",
    "            loaded = nib.load(filename).get_fdata()\n",
    "            indeces = list(range(loaded.shape[-1]-4))\n",
    "            max_pix_val = np.max(loaded)\n",
    "            min_pix_val = np.min(loaded)\n",
    "            random.shuffle(indeces)\n",
    "            for i in indeces:\n",
    "                n = random.randint(2, 4)\n",
    "                while i+(2*n) >= loaded.shape[-1]:\n",
    "                    n = random.randint(2, 4)\n",
    "                in1 = loaded[:, :, i]\n",
    "                y = loaded[:, :, i+n]\n",
    "                in2 = loaded[:, :, i+(2*n)]\n",
    "                if np.sum(in1) == 0 and np.sum(in2) == 0:\n",
    "                    continue\n",
    "                resized1 = cv2.resize(in1, (IMAGE_SIZE, IMAGE_SIZE))/max_pix_val\n",
    "                resized2 = cv2.resize(in2, (IMAGE_SIZE, IMAGE_SIZE))/max_pix_val\n",
    "                y_resized = cv2.resize(y, (IMAGE_SIZE, IMAGE_SIZE))/max_pix_val\n",
    "                arr = np.empty((2, IMAGE_SIZE, IMAGE_SIZE, 1))\n",
    "                arr[0] = resized1.reshape(IMAGE_SIZE, IMAGE_SIZE, 1)\n",
    "                arr[1] = resized2.reshape(IMAGE_SIZE, IMAGE_SIZE, 1)\n",
    "#                 yield {'ina': resized1.reshape(258, 258, 1), 'inb': resized2.reshape(258, 258, 1)}, y_resized.reshape(258, 258, 1)            \n",
    "                yield arr, y_resized.reshape(IMAGE_SIZE, IMAGE_SIZE, 1)            \n",
    "\n",
    "    return callable_generator"
   ]
  },
  {
   "cell_type": "code",
   "execution_count": 10,
   "id": "35e97b1c",
   "metadata": {
    "execution": {
     "iopub.execute_input": "2022-01-20T21:49:17.946014Z",
     "iopub.status.busy": "2022-01-20T21:49:17.945509Z",
     "iopub.status.idle": "2022-01-20T21:49:19.954193Z",
     "shell.execute_reply": "2022-01-20T21:49:19.953666Z",
     "shell.execute_reply.started": "2022-01-20T21:48:11.320285Z"
    },
    "papermill": {
     "duration": 2.035315,
     "end_time": "2022-01-20T21:49:19.954332",
     "exception": false,
     "start_time": "2022-01-20T21:49:17.919017",
     "status": "completed"
    },
    "tags": []
   },
   "outputs": [],
   "source": [
    "TRAIN_DIR = '../input/brats20-dataset-training-validation/BraTS2020_TrainingData/MICCAI_BraTS2020_TrainingData'\n",
    "VAL_DIR = '../input/brats20-dataset-training-validation/BraTS2020_ValidationData/MICCAI_BraTS2020_ValidationData'\n",
    "fileset1 = []\n",
    "fileset2 = []\n",
    "for path in os.listdir(TRAIN_DIR):\n",
    "    full_path = os.path.join(TRAIN_DIR, path)\n",
    "    if os.path.isdir(full_path):\n",
    "        for file in os.listdir(full_path):\n",
    "            if 'seg' not in file and 't1.nii' not in file:\n",
    "#                 print('hi', end=' ')\n",
    "                fileset1.append(os.path.join(full_path, file))\n",
    "            \n",
    "for path in os.listdir(VAL_DIR):\n",
    "    full_path = os.path.join(VAL_DIR, path)\n",
    "    if os.path.isdir(full_path):\n",
    "        for file in os.listdir(full_path):\n",
    "            if 'seg' not in file and 't1.nii' not in file:\n",
    "                fileset2.append(os.path.join(full_path, file))"
   ]
  },
  {
   "cell_type": "code",
   "execution_count": 11,
   "id": "1c1da08b",
   "metadata": {
    "execution": {
     "iopub.execute_input": "2022-01-20T21:49:20.000535Z",
     "iopub.status.busy": "2022-01-20T21:49:19.999770Z",
     "iopub.status.idle": "2022-01-20T21:49:20.002309Z",
     "shell.execute_reply": "2022-01-20T21:49:20.001863Z",
     "shell.execute_reply.started": "2022-01-20T21:48:11.758769Z"
    },
    "papermill": {
     "duration": 0.026982,
     "end_time": "2022-01-20T21:49:20.002427",
     "exception": false,
     "start_time": "2022-01-20T21:49:19.975445",
     "status": "completed"
    },
    "tags": []
   },
   "outputs": [],
   "source": [
    "all_files = fileset1+fileset2"
   ]
  },
  {
   "cell_type": "code",
   "execution_count": 12,
   "id": "653711e5",
   "metadata": {
    "execution": {
     "iopub.execute_input": "2022-01-20T21:49:20.049300Z",
     "iopub.status.busy": "2022-01-20T21:49:20.048507Z",
     "iopub.status.idle": "2022-01-20T21:49:20.050491Z",
     "shell.execute_reply": "2022-01-20T21:49:20.050903Z",
     "shell.execute_reply.started": "2022-01-20T21:48:11.765005Z"
    },
    "papermill": {
     "duration": 0.027898,
     "end_time": "2022-01-20T21:49:20.051032",
     "exception": false,
     "start_time": "2022-01-20T21:49:20.023134",
     "status": "completed"
    },
    "tags": []
   },
   "outputs": [],
   "source": [
    "t1ce = [file for file in all_files if 't1ce' in file]\n",
    "t2 = [file for file in all_files if 't2' in file]\n",
    "flair = [file for file in all_files if 'flair' in file]"
   ]
  },
  {
   "cell_type": "code",
   "execution_count": 13,
   "id": "c2dc8c90",
   "metadata": {
    "execution": {
     "iopub.execute_input": "2022-01-20T21:49:20.097099Z",
     "iopub.status.busy": "2022-01-20T21:49:20.096446Z",
     "iopub.status.idle": "2022-01-20T21:49:20.164730Z",
     "shell.execute_reply": "2022-01-20T21:49:20.164245Z",
     "shell.execute_reply.started": "2022-01-20T21:48:11.774962Z"
    },
    "papermill": {
     "duration": 0.093156,
     "end_time": "2022-01-20T21:49:20.164858",
     "exception": false,
     "start_time": "2022-01-20T21:49:20.071702",
     "status": "completed"
    },
    "tags": []
   },
   "outputs": [],
   "source": [
    "from sklearn.model_selection import train_test_split\n",
    "\n",
    "flair_train, flair_val = train_test_split(flair, test_size=0.2, random_state=42)\n",
    "t1ce_train, t1ce_val = train_test_split(t1ce, test_size=0.2, random_state=42)\n",
    "t2_train, t2_val = train_test_split(t2, test_size=0.2, random_state=42)"
   ]
  },
  {
   "cell_type": "code",
   "execution_count": 14,
   "id": "cf8e8323",
   "metadata": {
    "execution": {
     "iopub.execute_input": "2022-01-20T21:49:20.215670Z",
     "iopub.status.busy": "2022-01-20T21:49:20.214948Z",
     "iopub.status.idle": "2022-01-20T21:49:20.282804Z",
     "shell.execute_reply": "2022-01-20T21:49:20.282035Z",
     "shell.execute_reply.started": "2022-01-20T21:48:11.786017Z"
    },
    "papermill": {
     "duration": 0.096375,
     "end_time": "2022-01-20T21:49:20.282924",
     "exception": false,
     "start_time": "2022-01-20T21:49:20.186549",
     "status": "completed"
    },
    "tags": []
   },
   "outputs": [],
   "source": [
    "flair_train_dataset = tf.data.Dataset.from_generator(generator(flair_train),\n",
    "                                              (tf.float32, tf.float32),\n",
    "                                              ((2, IMAGE_SIZE, IMAGE_SIZE, 1), (IMAGE_SIZE, IMAGE_SIZE, 1)))\n",
    "t1ce_train_dataset = tf.data.Dataset.from_generator(generator(t1ce_train),\n",
    "                                              (tf.float32, tf.float32),\n",
    "                                              ((2, IMAGE_SIZE, IMAGE_SIZE, 1), (IMAGE_SIZE, IMAGE_SIZE, 1)))\n",
    "t2_train_dataset = tf.data.Dataset.from_generator(generator(t2_train),\n",
    "                                              (tf.float32, tf.float32),\n",
    "                                              ((2, IMAGE_SIZE, IMAGE_SIZE, 1), (IMAGE_SIZE, IMAGE_SIZE, 1)))\n"
   ]
  },
  {
   "cell_type": "code",
   "execution_count": 15,
   "id": "bd525c21",
   "metadata": {
    "execution": {
     "iopub.execute_input": "2022-01-20T21:49:20.329452Z",
     "iopub.status.busy": "2022-01-20T21:49:20.328813Z",
     "iopub.status.idle": "2022-01-20T21:49:20.339544Z",
     "shell.execute_reply": "2022-01-20T21:49:20.339062Z",
     "shell.execute_reply.started": "2022-01-20T21:48:11.849408Z"
    },
    "papermill": {
     "duration": 0.035798,
     "end_time": "2022-01-20T21:49:20.339652",
     "exception": false,
     "start_time": "2022-01-20T21:49:20.303854",
     "status": "completed"
    },
    "tags": []
   },
   "outputs": [],
   "source": [
    "BATCH_SIZE = 1\n",
    "def prep_data(train_dataset):\n",
    "    train_dataset = train_dataset.cache().batch(BATCH_SIZE).repeat()\n",
    "    train_dataset = train_dataset.prefetch(buffer_size=tf.data.experimental.AUTOTUNE)\n",
    "    return train_dataset\n",
    "flair_train_dataset = prep_data(flair_train_dataset)\n",
    "t1ce_train_dataset = prep_data(t1ce_train_dataset)\n",
    "t2_train_dataset = prep_data(t2_train_dataset)"
   ]
  },
  {
   "cell_type": "code",
   "execution_count": 16,
   "id": "cb54a115",
   "metadata": {
    "execution": {
     "iopub.execute_input": "2022-01-20T21:49:20.390973Z",
     "iopub.status.busy": "2022-01-20T21:49:20.390176Z",
     "iopub.status.idle": "2022-01-20T21:49:20.392722Z",
     "shell.execute_reply": "2022-01-20T21:49:20.392054Z",
     "shell.execute_reply.started": "2022-01-20T21:48:11.863746Z"
    },
    "papermill": {
     "duration": 0.032318,
     "end_time": "2022-01-20T21:49:20.392826",
     "exception": false,
     "start_time": "2022-01-20T21:49:20.360508",
     "status": "completed"
    },
    "tags": []
   },
   "outputs": [],
   "source": [
    "def show_test_case(test_case, mid_slice_ind=21):\n",
    "    test_img = nib.load(test_case).get_fdata()\n",
    "    max_pix = np.max(test_img)\n",
    "    in1 = cv2.resize(test_img[:, :, mid_slice_ind-4], (IMAGE_SIZE, IMAGE_SIZE))/max_pix\n",
    "    in2 = cv2.resize(test_img[:, :, mid_slice_ind+4], (IMAGE_SIZE, IMAGE_SIZE))/max_pix\n",
    "    label = cv2.resize(test_img[:, :, mid_slice_ind], (IMAGE_SIZE, IMAGE_SIZE))/max_pix\n",
    "    in1 = in1.reshape(1, IMAGE_SIZE, IMAGE_SIZE, 1)\n",
    "    in2 = in2.reshape(1, IMAGE_SIZE, IMAGE_SIZE, 1)\n",
    "    data = [in1, in2]\n",
    "    output = part1(data)\n",
    "    f, axarr = plt.subplots(1, 2, squeeze=False)\n",
    "    axarr[0][0].axis(False)\n",
    "    axarr[0][1].axis(False)\n",
    "    axarr[0][0].imshow(label, cmap='gray', vmin=0., vmax=1.)\n",
    "    axarr[0][1].imshow(output[0, :, :, 0], cmap='gray', vmin=0., vmax=1.)\n",
    "    return label, output[0, :, :, 0]"
   ]
  },
  {
   "cell_type": "code",
   "execution_count": 17,
   "id": "29269a63",
   "metadata": {
    "execution": {
     "iopub.execute_input": "2022-01-20T21:49:20.441958Z",
     "iopub.status.busy": "2022-01-20T21:49:20.441155Z",
     "iopub.status.idle": "2022-01-20T21:49:20.443555Z",
     "shell.execute_reply": "2022-01-20T21:49:20.443103Z",
     "shell.execute_reply.started": "2022-01-20T21:48:11.877448Z"
    },
    "papermill": {
     "duration": 0.030078,
     "end_time": "2022-01-20T21:49:20.443661",
     "exception": false,
     "start_time": "2022-01-20T21:49:20.413583",
     "status": "completed"
    },
    "tags": []
   },
   "outputs": [],
   "source": [
    "def part1_loss(y_true, y_pred, disc_pred, mse_weight=1e-3, ce_weight=1.):\n",
    "#     mse_loss = tf.keras.losses.MeanSquaredError()\n",
    "#     mse = mse_loss(y_true, y_pred)\n",
    "    # Weighted MSE\n",
    "    black = tf.reduce_mean(((y_true[y_true == 0.] - y_pred[y_true == 0.])**2))\n",
    "    non_black = tf.reduce_mean(((y_true[y_true != 0.] - y_pred[y_true != 0.])**2))*5\n",
    "    mse = black+non_black\n",
    "#     if mse.numpy() >= 1.:\n",
    "#         print('ERROR')\n",
    "# #         print(type(y_true.numpy()))\n",
    "#         np.save('error_pred.npy', y_pred.numpy())\n",
    "#         np.save('error_true.npy', y_true.numpy())\n",
    "# #         error_pred = y_pred\n",
    "    cross_entropy = tf.keras.losses.BinaryCrossentropy(from_logits=False)\n",
    "    ce = cross_entropy(tf.ones_like(disc_pred), disc_pred)\n",
    "    return tf.reduce_mean((mse*mse_weight)+(ce*ce_weight))\n",
    "\n",
    "def discriminator_loss(real_output, fake_output):\n",
    "    cross_entropy = tf.keras.losses.BinaryCrossentropy(from_logits=False)\n",
    "    real_loss = cross_entropy(tf.ones_like(real_output), real_output)\n",
    "    fake_loss = cross_entropy(tf.zeros_like(fake_output), fake_output)\n",
    "    total_loss = real_loss + fake_loss\n",
    "    return tf.reduce_mean(total_loss)"
   ]
  },
  {
   "cell_type": "code",
   "execution_count": 18,
   "id": "5bd2f73a",
   "metadata": {
    "execution": {
     "iopub.execute_input": "2022-01-20T21:49:20.497465Z",
     "iopub.status.busy": "2022-01-20T21:49:20.496756Z",
     "iopub.status.idle": "2022-01-20T21:49:20.498792Z",
     "shell.execute_reply": "2022-01-20T21:49:20.499201Z",
     "shell.execute_reply.started": "2022-01-20T21:48:11.889857Z"
    },
    "papermill": {
     "duration": 0.035005,
     "end_time": "2022-01-20T21:49:20.499318",
     "exception": false,
     "start_time": "2022-01-20T21:49:20.464313",
     "status": "completed"
    },
    "tags": []
   },
   "outputs": [],
   "source": [
    "LEARNING_RATE = 1e-4\n",
    "generator_optimizer = tf.keras.optimizers.Adam(LEARNING_RATE)\n",
    "discriminator_optimizer = tf.keras.optimizers.Adam(LEARNING_RATE)\n",
    "MSE_WEIGHT = 1.\n",
    "CE_WEIGHT = 0.03\n",
    "tf.config.run_functions_eagerly(True)\n",
    "@tf.function\n",
    "def train_step(batch, adversarial=True):\n",
    "    part2.trainable = adversarial\n",
    "    with tf.GradientTape() as gen_tape, tf.GradientTape() as disc_tape:\n",
    "        y1 = tf.constant([[0.]] * BATCH_SIZE + [[1.]] * BATCH_SIZE)\n",
    "        in1 = batch[0][:, 0, ...]\n",
    "        in2 = batch[0][:, 1, ...]\n",
    "        data = [in1, in2]\n",
    "        gen_images = part1(data, training=True)\n",
    "        fake_output = part2(gen_images, training=adversarial)\n",
    "        real_output = part2(in1, training=adversarial)\n",
    "        p1_loss = part1_loss(batch[1], gen_images, fake_output, \n",
    "                             mse_weight=MSE_WEIGHT, ce_weight= (CE_WEIGHT if adversarial else 0.))\n",
    "#         if adversarial:\n",
    "        p2_loss = discriminator_loss(real_output, fake_output)\n",
    "    \n",
    "    gradients_of_generator = gen_tape.gradient(p1_loss, part1.trainable_variables)\n",
    "#     if adversarial:\n",
    "    gradients_of_discriminator = disc_tape.gradient(p2_loss, part2.trainable_variables)\n",
    "    discriminator_optimizer.apply_gradients(zip(gradients_of_discriminator, part2.trainable_variables))\n",
    "        \n",
    "    generator_optimizer.apply_gradients(zip(gradients_of_generator, part1.trainable_variables))\n",
    "    if adversarial:\n",
    "        return p1_loss, p2_loss\n",
    "    return p1_loss, p1_loss\n",
    "\n",
    "        \n",
    "def train_gan(train_dataset, n_epochs=50, max_steps_per_epoch=None, adversarial=False):\n",
    "    for epoch in range(n_epochs):\n",
    "        for i, batch in enumerate(train_dataset):\n",
    "            if max_steps_per_epoch is not None:\n",
    "                if i == max_steps_per_epoch:\n",
    "                    break\n",
    "#             adversarial = (epoch >= 1)\n",
    "            l1, l2 = train_step(batch, adversarial=adversarial)\n",
    "            del batch\n",
    "            clear_output(wait=True)\n",
    "            print(\"Epoch {}/{}\".format(epoch + 1, n_epochs))\n",
    "            print(f'Step {i+1}')\n",
    "            print(f'Generator Loss: {round(l1.numpy(), 2)}')\n",
    "            if adversarial:\n",
    "                print(f'Discriminator Loss: {round(l2.numpy(), 2)}')\n",
    "#             show_test_case(r'../input/brats20-dataset-training-validation/BraTS2020_TrainingData/MICCAI_BraTS2020_TrainingData/BraTS20_Training_001/BraTS20_Training_001_flair.nii')"
   ]
  },
  {
   "cell_type": "code",
   "execution_count": 19,
   "id": "f5f73f85",
   "metadata": {
    "execution": {
     "iopub.execute_input": "2022-01-20T21:49:20.544678Z",
     "iopub.status.busy": "2022-01-20T21:49:20.544077Z",
     "iopub.status.idle": "2022-01-21T00:06:46.153144Z",
     "shell.execute_reply": "2022-01-21T00:06:46.153593Z",
     "shell.execute_reply.started": "2022-01-20T21:48:11.915624Z"
    },
    "papermill": {
     "duration": 8245.633689,
     "end_time": "2022-01-21T00:06:46.153764",
     "exception": false,
     "start_time": "2022-01-20T21:49:20.520075",
     "status": "completed"
    },
    "tags": []
   },
   "outputs": [
    {
     "name": "stdout",
     "output_type": "stream",
     "text": [
      "Epoch 5/5\n",
      "Step 1000\n",
      "Generator Loss: 0.5199999809265137\n",
      "Discriminator Loss: 3.4800000190734863\n"
     ]
    },
    {
     "name": "stderr",
     "output_type": "stream",
     "text": [
      "2022-01-21 00:06:46.130306: W tensorflow/core/kernels/data/cache_dataset_ops.cc:768] The calling iterator did not fully read the dataset being cached. In order to avoid unexpected truncation of the dataset, the partially cached contents of the dataset  will be discarded. This can happen if you have an input pipeline similar to `dataset.cache().take(k).repeat()`. You should use `dataset.take(k).cache().repeat()` instead.\n"
     ]
    }
   ],
   "source": [
    "for i in range(20):\n",
    "    train_gan(t2_train_dataset, n_epochs=5, max_steps_per_epoch=1000, adversarial=(i%2 != 0))\n",
    "#     train_gan(5, max_steps_per_epoch=1000, adversarial=)"
   ]
  },
  {
   "cell_type": "code",
   "execution_count": 20,
   "id": "2f206fdd",
   "metadata": {
    "execution": {
     "iopub.execute_input": "2022-01-21T00:06:46.200346Z",
     "iopub.status.busy": "2022-01-21T00:06:46.199799Z",
     "iopub.status.idle": "2022-01-21T00:06:46.202769Z",
     "shell.execute_reply": "2022-01-21T00:06:46.203157Z",
     "shell.execute_reply.started": "2022-01-20T21:48:53.211199Z"
    },
    "papermill": {
     "duration": 0.027716,
     "end_time": "2022-01-21T00:06:46.203292",
     "exception": false,
     "start_time": "2022-01-21T00:06:46.175576",
     "status": "completed"
    },
    "tags": []
   },
   "outputs": [],
   "source": [
    "# part1.save('t2_part1.h5')\n",
    "# part2.save('t2_part2.h5')"
   ]
  },
  {
   "cell_type": "code",
   "execution_count": 21,
   "id": "d10e068e",
   "metadata": {
    "execution": {
     "iopub.execute_input": "2022-01-21T00:06:46.249240Z",
     "iopub.status.busy": "2022-01-21T00:06:46.248713Z",
     "iopub.status.idle": "2022-01-21T00:06:46.651327Z",
     "shell.execute_reply": "2022-01-21T00:06:46.652045Z",
     "shell.execute_reply.started": "2022-01-20T21:48:53.213373Z"
    },
    "papermill": {
     "duration": 0.427963,
     "end_time": "2022-01-21T00:06:46.652298",
     "exception": false,
     "start_time": "2022-01-21T00:06:46.224335",
     "status": "completed"
    },
    "tags": []
   },
   "outputs": [
    {
     "data": {
      "image/png": "[encoded data removed]",
      "text/plain": [
       "<Figure size 432x288 with 2 Axes>"
      ]
     },
     "metadata": {
      "needs_background": "light"
     },
     "output_type": "display_data"
    }
   ],
   "source": [
    "label, output = show_test_case(t2_val[2],\n",
    "                       mid_slice_ind=27)"
   ]
  },
  {
   "cell_type": "code",
   "execution_count": 22,
   "id": "aa13f5c5",
   "metadata": {
    "execution": {
     "iopub.execute_input": "2022-01-21T00:06:46.707857Z",
     "iopub.status.busy": "2022-01-21T00:06:46.706959Z",
     "iopub.status.idle": "2022-01-21T00:06:46.904001Z",
     "shell.execute_reply": "2022-01-21T00:06:46.905036Z",
     "shell.execute_reply.started": "2022-01-20T21:48:53.215213Z"
    },
    "papermill": {
     "duration": 0.223715,
     "end_time": "2022-01-21T00:06:46.905296",
     "exception": false,
     "start_time": "2022-01-21T00:06:46.681581",
     "status": "completed"
    },
    "tags": []
   },
   "outputs": [
    {
     "data": {
      "image/png": "[encoded data removed]",
      "text/plain": [
       "<Figure size 432x288 with 2 Axes>"
      ]
     },
     "metadata": {
      "needs_background": "light"
     },
     "output_type": "display_data"
    }
   ],
   "source": [
    "label, output = show_test_case(t2_val[2],\n",
    "                       mid_slice_ind=50)"
   ]
  },
  {
   "cell_type": "code",
   "execution_count": 23,
   "id": "6fd02b38",
   "metadata": {
    "execution": {
     "iopub.execute_input": "2022-01-21T00:06:46.965886Z",
     "iopub.status.busy": "2022-01-21T00:06:46.965277Z",
     "iopub.status.idle": "2022-01-21T00:06:47.335608Z",
     "shell.execute_reply": "2022-01-21T00:06:47.336479Z",
     "shell.execute_reply.started": "2022-01-20T21:48:53.217088Z"
    },
    "papermill": {
     "duration": 0.397835,
     "end_time": "2022-01-21T00:06:47.336733",
     "exception": false,
     "start_time": "2022-01-21T00:06:46.938898",
     "status": "completed"
    },
    "tags": []
   },
   "outputs": [
    {
     "data": {
      "image/png": "[encoded data removed]",
      "text/plain": [
       "<Figure size 432x288 with 2 Axes>"
      ]
     },
     "metadata": {
      "needs_background": "light"
     },
     "output_type": "display_data"
    }
   ],
   "source": [
    "label, output = show_test_case(t2_val[3],\n",
    "                       mid_slice_ind=50)"
   ]
  },
  {
   "cell_type": "code",
   "execution_count": 24,
   "id": "5b58e945",
   "metadata": {
    "execution": {
     "iopub.execute_input": "2022-01-21T00:06:47.404184Z",
     "iopub.status.busy": "2022-01-21T00:06:47.402202Z",
     "iopub.status.idle": "2022-01-21T00:06:47.602260Z",
     "shell.execute_reply": "2022-01-21T00:06:47.601482Z",
     "shell.execute_reply.started": "2022-01-20T21:48:53.218993Z"
    },
    "papermill": {
     "duration": 0.229976,
     "end_time": "2022-01-21T00:06:47.602452",
     "exception": false,
     "start_time": "2022-01-21T00:06:47.372476",
     "status": "completed"
    },
    "tags": []
   },
   "outputs": [
    {
     "data": {
      "image/png": "[encoded data removed]",
      "text/plain": [
       "<Figure size 432x288 with 2 Axes>"
      ]
     },
     "metadata": {
      "needs_background": "light"
     },
     "output_type": "display_data"
    }
   ],
   "source": [
    "label, output = show_test_case(t2_val[3],\n",
    "                       mid_slice_ind=68)"
   ]
  },
  {
   "cell_type": "code",
   "execution_count": 25,
   "id": "85793ec5",
   "metadata": {
    "execution": {
     "iopub.execute_input": "2022-01-21T00:06:47.667538Z",
     "iopub.status.busy": "2022-01-21T00:06:47.666002Z",
     "iopub.status.idle": "2022-01-21T00:06:47.668224Z",
     "shell.execute_reply": "2022-01-21T00:06:47.668639Z",
     "shell.execute_reply.started": "2022-01-20T21:48:53.220763Z"
    },
    "papermill": {
     "duration": 0.030713,
     "end_time": "2022-01-21T00:06:47.668759",
     "exception": false,
     "start_time": "2022-01-21T00:06:47.638046",
     "status": "completed"
    },
    "tags": []
   },
   "outputs": [],
   "source": [
    "# def get_mse()"
   ]
  },
  {
   "cell_type": "markdown",
   "id": "8c99a8cb",
   "metadata": {
    "papermill": {
     "duration": 0.024653,
     "end_time": "2022-01-21T00:06:47.717965",
     "exception": false,
     "start_time": "2022-01-21T00:06:47.693312",
     "status": "completed"
    },
    "tags": []
   },
   "source": [
    "Part 2 Sequential Model (OLD):\n",
    "```python\n",
    "part2 = tf.keras.models.Sequential([tf.keras.layers.Input((258, 258, 1)),\n",
    "                                    tf.keras.layers.Conv2D(32, 3, activation='relu'),\n",
    "                                    tf.keras.layers.MaxPool2D(2),\n",
    "                                    tf.keras.layers.Conv2D(64, 3, activation='relu'),\n",
    "                                    tf.keras.layers.MaxPool2D(2),\n",
    "                                    tf.keras.layers.Conv2D(64, 3, activation='relu'),\n",
    "                                    tf.keras.layers.Flatten(),\n",
    "                                    tf.keras.layers.Dense(128, activation='relu'),\n",
    "                                    tf.keras.layers.Dense(1, activation='sigmoid')])\n",
    "part2.summary()\n",
    "```"
   ]
  },
  {
   "cell_type": "code",
   "execution_count": null,
   "id": "17eae151",
   "metadata": {
    "papermill": {
     "duration": 0.024758,
     "end_time": "2022-01-21T00:06:47.767329",
     "exception": false,
     "start_time": "2022-01-21T00:06:47.742571",
     "status": "completed"
    },
    "tags": []
   },
   "outputs": [],
   "source": []
  }
 ],
 "metadata": {
  "kernelspec": {
   "display_name": "Python 3",
   "language": "python",
   "name": "python3"
  },
  "language_info": {
   "codemirror_mode": {
    "name": "ipython",
    "version": 3
   },
   "file_extension": ".py",
   "mimetype": "text/x-python",
   "name": "python",
   "nbconvert_exporter": "python",
   "pygments_lexer": "ipython3",
   "version": "3.7.10"
  },
  "papermill": {
   "default_parameters": {},
   "duration": 8269.995961,
   "end_time": "2022-01-21T00:06:50.886001",
   "environment_variables": {},
   "exception": null,
   "input_path": "__notebook__.ipynb",
   "output_path": "__notebook__.ipynb",
   "parameters": {},
   "start_time": "2022-01-20T21:49:00.890040",
   "version": "2.3.3"
  }
 },
 "nbformat": 4,
 "nbformat_minor": 5
}
