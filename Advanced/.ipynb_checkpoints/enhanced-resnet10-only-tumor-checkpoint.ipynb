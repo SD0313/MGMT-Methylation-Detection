{
 "cells": [
  {
   "cell_type": "code",
   "execution_count": 1,
   "metadata": {
    "execution": {
     "iopub.execute_input": "2021-12-26T23:40:33.308433Z",
     "iopub.status.busy": "2021-12-26T23:40:33.308047Z",
     "iopub.status.idle": "2021-12-26T23:40:41.164188Z",
     "shell.execute_reply": "2021-12-26T23:40:41.163110Z",
     "shell.execute_reply.started": "2021-12-26T23:40:33.308336Z"
    }
   },
   "outputs": [
    {
     "name": "stdout",
     "output_type": "stream",
     "text": [
      "Processing /kaggle/input/rsna-monai-packages/monai-0.6.0-202107081903-py3-none-any.whl\n",
      "Requirement already satisfied: numpy>=1.17 in /opt/conda/lib/python3.7/site-packages (from monai==0.6.0) (1.19.5)\n",
      "Requirement already satisfied: torch>=1.5 in /opt/conda/lib/python3.7/site-packages (from monai==0.6.0) (1.7.0)\n",
      "Requirement already satisfied: future in /opt/conda/lib/python3.7/site-packages (from torch>=1.5->monai==0.6.0) (0.18.2)\n",
      "Requirement already satisfied: typing_extensions in /opt/conda/lib/python3.7/site-packages (from torch>=1.5->monai==0.6.0) (3.7.4.3)\n",
      "Requirement already satisfied: dataclasses in /opt/conda/lib/python3.7/site-packages (from torch>=1.5->monai==0.6.0) (0.6)\n",
      "Installing collected packages: monai\n",
      "Successfully installed monai-0.6.0\n",
      "\u001b[33mWARNING: Running pip as root will break packages and permissions. You should install packages reliably by using venv: https://pip.pypa.io/warnings/venv\u001b[0m\n",
      "Note: you may need to restart the kernel to use updated packages.\n"
     ]
    }
   ],
   "source": [
    "pip install '../input/rsna-monai-packages/monai-0.6.0-202107081903-py3-none-any.whl'"
   ]
  },
  {
   "cell_type": "code",
   "execution_count": 2,
   "metadata": {
    "_cell_guid": "b1076dfc-b9ad-4769-8c92-a6c4dae69d19",
    "_uuid": "8f2839f25d086af736a60e9eeb907d3b93b6e0e5",
    "execution": {
     "iopub.execute_input": "2021-12-26T23:40:41.166207Z",
     "iopub.status.busy": "2021-12-26T23:40:41.165863Z",
     "iopub.status.idle": "2021-12-26T23:40:42.154757Z",
     "shell.execute_reply": "2021-12-26T23:40:42.153873Z",
     "shell.execute_reply.started": "2021-12-26T23:40:41.166168Z"
    }
   },
   "outputs": [],
   "source": [
    "import pandas as pd\n",
    "import numpy as np\n",
    "from tqdm import tqdm\n",
    "import os\n",
    "\n",
    "import pydicom\n",
    "from pydicom.pixel_data_handlers.util import apply_voi_lut\n",
    "\n",
    "from sklearn.model_selection import StratifiedKFold\n",
    "from sklearn.metrics import accuracy_score, confusion_matrix, classification_report, roc_auc_score\n",
    "import glob"
   ]
  },
  {
   "cell_type": "code",
   "execution_count": 3,
   "metadata": {
    "execution": {
     "iopub.execute_input": "2021-12-26T23:40:42.158047Z",
     "iopub.status.busy": "2021-12-26T23:40:42.157759Z",
     "iopub.status.idle": "2021-12-26T23:40:49.039111Z",
     "shell.execute_reply": "2021-12-26T23:40:49.038274Z",
     "shell.execute_reply.started": "2021-12-26T23:40:42.158022Z"
    }
   },
   "outputs": [],
   "source": [
    "import albumentations as A\n",
    "import pandas as pd\n",
    "import numpy as np\n",
    "import torch\n",
    "import torch.nn as nn\n",
    "import torch.optim as optim\n",
    "from albumentations.pytorch import ToTensorV2\n",
    "from sklearn.metrics import roc_auc_score, accuracy_score\n",
    "from torch.optim import lr_scheduler\n",
    "from tqdm import tqdm\n",
    "import re\n",
    "\n",
    "from tensorflow import keras\n",
    "import tensorflow as tf\n",
    "import pandas as pd\n",
    "import numpy as np\n",
    "import os\n",
    "import matplotlib.pyplot as plt\n",
    "import nilearn as nl\n",
    "import nibabel as nib\n",
    "import cv2\n",
    "from IPython.display import clear_output\n",
    "from PIL import Image\n",
    "from pydicom import read_file, dcmread\n",
    "from scipy.ndimage import zoom"
   ]
  },
  {
   "cell_type": "code",
   "execution_count": 4,
   "metadata": {
    "execution": {
     "iopub.execute_input": "2021-12-26T23:40:49.040950Z",
     "iopub.status.busy": "2021-12-26T23:40:49.040620Z",
     "iopub.status.idle": "2021-12-26T23:40:49.046059Z",
     "shell.execute_reply": "2021-12-26T23:40:49.044987Z",
     "shell.execute_reply.started": "2021-12-26T23:40:49.040914Z"
    }
   },
   "outputs": [],
   "source": [
    "NUM_IMAGES_3D = 128\n",
    "TRAINING_BATCH_SIZE = 1\n",
    "TEST_BATCH_SIZE = 2\n",
    "IMAGE_SIZE = 256\n",
    "N_EPOCHS = 40\n",
    "do_valid = True\n",
    "n_workers = 4\n",
    "type_ = \"FLAIR\"\n",
    "MODEL_NAME = 'version1.enhanced'"
   ]
  },
  {
   "cell_type": "code",
   "execution_count": 5,
   "metadata": {
    "execution": {
     "iopub.execute_input": "2021-12-26T23:40:49.048076Z",
     "iopub.status.busy": "2021-12-26T23:40:49.047458Z",
     "iopub.status.idle": "2021-12-26T23:40:49.055599Z",
     "shell.execute_reply": "2021-12-26T23:40:49.054813Z",
     "shell.execute_reply.started": "2021-12-26T23:40:49.048036Z"
    }
   },
   "outputs": [],
   "source": [
    "def load_dicom_image(path, img_size=IMAGE_SIZE, voi_lut=True, rotate=0):\n",
    "    dicom = pydicom.read_file(path)\n",
    "    data = dicom.pixel_array\n",
    "    if voi_lut:\n",
    "        data = apply_voi_lut(dicom.pixel_array, dicom)\n",
    "    else:\n",
    "        data = dicom.pixel_array\n",
    "\n",
    "    if rotate > 0:\n",
    "        rot_choices = [\n",
    "            0,\n",
    "            cv2.ROTATE_90_CLOCKWISE,\n",
    "            cv2.ROTATE_90_COUNTERCLOCKWISE,\n",
    "            cv2.ROTATE_180,\n",
    "        ]\n",
    "        data = cv2.rotate(data, rot_choices[rotate])\n",
    "\n",
    "    data = cv2.resize(data, (img_size, img_size))\n",
    "    return data"
   ]
  },
  {
   "cell_type": "code",
   "execution_count": 6,
   "metadata": {
    "execution": {
     "iopub.execute_input": "2021-12-26T23:40:49.057521Z",
     "iopub.status.busy": "2021-12-26T23:40:49.057041Z",
     "iopub.status.idle": "2021-12-26T23:40:56.593966Z",
     "shell.execute_reply": "2021-12-26T23:40:56.593098Z",
     "shell.execute_reply.started": "2021-12-26T23:40:49.057484Z"
    }
   },
   "outputs": [],
   "source": [
    "def dice_coef(y_true, y_pred, smooth=1.0):\n",
    "    class_num = 4\n",
    "    for i in range(class_num):\n",
    "        y_true_f = K.flatten(y_true[:,:,:,i])\n",
    "        y_pred_f = K.flatten(y_pred[:,:,:,i])\n",
    "        intersection = K.sum(y_true_f * y_pred_f)\n",
    "        loss = ((2. * intersection + smooth) / (K.sum(y_true_f) + K.sum(y_pred_f) + smooth))\n",
    "   #     K.print_tensor(loss, message='loss value for class {} : '.format(SEGMENT_CLASSES[i]))\n",
    "        if i == 0:\n",
    "            total_loss = loss\n",
    "        else:\n",
    "            total_loss = total_loss + loss\n",
    "    total_loss = total_loss / class_num\n",
    "#    K.print_tensor(total_loss, message=' total dice coef: ')\n",
    "    return total_loss\n",
    "\n",
    "\n",
    " \n",
    "# define per class evaluation of dice coef\n",
    "# inspired by https://github.com/keras-team/keras/issues/9395\n",
    "def dice_coef_necrotic(y_true, y_pred, epsilon=1e-6):\n",
    "    intersection = K.sum(K.abs(y_true[:,:,:,1] * y_pred[:,:,:,1]))\n",
    "    return (2. * intersection) / (K.sum(K.square(y_true[:,:,:,1])) + K.sum(K.square(y_pred[:,:,:,1])) + epsilon)\n",
    "\n",
    "def dice_coef_edema(y_true, y_pred, epsilon=1e-6):\n",
    "    intersection = K.sum(K.abs(y_true[:,:,:,2] * y_pred[:,:,:,2]))\n",
    "    return (2. * intersection) / (K.sum(K.square(y_true[:,:,:,2])) + K.sum(K.square(y_pred[:,:,:,2])) + epsilon)\n",
    "\n",
    "def dice_coef_enhancing(y_true, y_pred, epsilon=1e-6):\n",
    "    intersection = K.sum(K.abs(y_true[:,:,:,3] * y_pred[:,:,:,3]))\n",
    "    return (2. * intersection) / (K.sum(K.square(y_true[:,:,:,3])) + K.sum(K.square(y_pred[:,:,:,3])) + epsilon)\n",
    "\n",
    "\n",
    "\n",
    "# Computing Precision \n",
    "def precision(y_true, y_pred):\n",
    "        true_positives = K.sum(K.round(K.clip(y_true * y_pred, 0, 1)))\n",
    "        predicted_positives = K.sum(K.round(K.clip(y_pred, 0, 1)))\n",
    "        precision = true_positives / (predicted_positives + K.epsilon())\n",
    "        return precision\n",
    "\n",
    "    \n",
    "# Computing Sensitivity      \n",
    "def sensitivity(y_true, y_pred):\n",
    "    true_positives = K.sum(K.round(K.clip(y_true * y_pred, 0, 1)))\n",
    "    possible_positives = K.sum(K.round(K.clip(y_true, 0, 1)))\n",
    "    return true_positives / (possible_positives + K.epsilon())\n",
    "\n",
    "\n",
    "# Computing Specificity\n",
    "def specificity(y_true, y_pred):\n",
    "    true_negatives = K.sum(K.round(K.clip((1-y_true) * (1-y_pred), 0, 1)))\n",
    "    possible_negatives = K.sum(K.round(K.clip(1-y_true, 0, 1)))\n",
    "    return true_negatives / (possible_negatives + K.epsilon())\n",
    "############ load trained model ################\n",
    "seg_model = keras.models.load_model('../input/modelperclasseval/model_per_class.h5', \n",
    "                                   custom_objects={ 'accuracy' : tf.keras.metrics.MeanIoU(num_classes=4),\n",
    "                                                   \"dice_coef\": dice_coef,\n",
    "                                                   \"precision\": precision,\n",
    "                                                   \"sensitivity\":sensitivity,\n",
    "                                                   \"specificity\":specificity,\n",
    "                                                   \"dice_coef_necrotic\": dice_coef_necrotic,\n",
    "                                                   \"dice_coef_edema\": dice_coef_edema,\n",
    "                                                   \"dice_coef_enhancing\": dice_coef_enhancing\n",
    "                                                  }, compile=False)"
   ]
  },
  {
   "cell_type": "code",
   "execution_count": 7,
   "metadata": {
    "execution": {
     "iopub.execute_input": "2021-12-26T23:40:56.595807Z",
     "iopub.status.busy": "2021-12-26T23:40:56.595471Z",
     "iopub.status.idle": "2021-12-26T23:40:57.327292Z",
     "shell.execute_reply": "2021-12-26T23:40:57.326439Z",
     "shell.execute_reply.started": "2021-12-26T23:40:56.595770Z"
    }
   },
   "outputs": [],
   "source": [
    "DIM = 128\n",
    "SLICES = 64\n",
    "MR_DIM = 256\n",
    "TRAIN_DIR = r'../input/rsna-miccai-brain-tumor-radiogenomic-classification/train'\n",
    "TEST_DIR = r'../input/rsna-miccai-brain-tumor-radiogenomic-classification/test'\n",
    "flair = tf.keras.models.load_model('../input/mrequalizer-weights/flair_part1.h5')\n",
    "t1ce = tf.keras.models.load_model('../input/mrequalizer-weights/t1ce_part1.h5')\n",
    "t2 = tf.keras.models.load_model('../input/mrequalizer-weights/t2_part1.h5')\n",
    "\n",
    "enhancer_models = {'FLAIR': flair, 'T1wCE': t1ce, 'T2w': t2}\n",
    "\n",
    "planes_df = pd.read_csv('../input/labels-with-planes/train_labels_with_planes.csv',\n",
    "                        header=0,\n",
    "                        names=['ID', 'MGMT_Value', 'FLAIR', 'T1w', 'T1wCE', 'T2w'])\n",
    "\n",
    "planes_df['ID'] = [(5-len(str(n)))*'0'+str(n) for n in planes_df['ID']]\n",
    "\n",
    "# create key-value format\n",
    "AXIS = {}\n",
    "col_names = ['MGMT_Value', 'FLAIR', 'T1w', 'T1wCE', 'T2w']\n",
    "for index, row in planes_df.iterrows():\n",
    "#     for name in col_names:\n",
    "    AXIS[row['ID']] = {name: row[name] for name in col_names}\n",
    "\n",
    "    \n",
    "def axial_2_coronal(mri, show=False):\n",
    "#     print('init shape:', mri.shape)\n",
    "    cor = np.moveaxis(mri, 0, 2)\n",
    "    cor = get_cropped_region(cor, reshape=(DIM, DIM))\n",
    "    cor = np.moveaxis(cor, 0, 1)\n",
    "    cor = np.rot90(cor, 2)\n",
    "    if show:\n",
    "        show_mri(cor)\n",
    "    return cor\n",
    "\n",
    "def sagittal_2_coronal(mri, show=False):\n",
    "#     print('init shape:', mri.shape)\n",
    "    cor = np.moveaxis(mri, 1, 2)\n",
    "    cor = get_cropped_region(cor, reshape=(DIM, DIM))\n",
    "    cor = np.moveaxis(cor, 0, 1)\n",
    "    cor = np.rot90(cor, 3)\n",
    "    if show:\n",
    "        show_mri(cor)\n",
    "    return cor\n",
    "    \n",
    "def get_num(name):\n",
    "#     print(f'filename: {name}')\n",
    "    return int(name[name.index('-')+1:name.index('.')])\n",
    "\n",
    "def load_mri_arr(folder):\n",
    "    for file in os.listdir(folder):\n",
    "        slice_path = os.path.join(folder, file)\n",
    "        dicom = read_file(slice_path)\n",
    "        img = apply_voi_lut(dicom.pixel_array, dicom)\n",
    "        shape = (img.shape[0], img.shape[1], len(os.listdir(folder)))\n",
    "    out = np.empty(shape)\n",
    "#     files = [os.path.join(folder, file) for file in os.listdir(folder)]\n",
    "    data = sorted(os.listdir(folder), key=get_num)\n",
    "    for i, file in enumerate(data):\n",
    "        slice_path = os.path.join(folder, file)\n",
    "        img = read_file(slice_path).pixel_array \n",
    "        out[:, :, i] = img\n",
    "    out = out/np.max(out)\n",
    "    return out\n",
    "\n",
    "def show_mri(mri):\n",
    "    for i in range(mri.shape[2]):\n",
    "        clear_output(wait=True)\n",
    "        plt.axis(False)\n",
    "        plt.imshow(mri[:, :, i], cmap='gray')\n",
    "        plt.show()\n",
    "\n",
    "\n",
    "def lowleft_upright(img_arr):\n",
    "    ret,thresh = cv2.threshold(img_arr,20,255,0)\n",
    "    contours,hierarchy = cv2.findContours(thresh, 1, 2)\n",
    "    cnt2cons = [cnt for cnt in contours if cv2.contourArea(cnt) >= 100]\n",
    "    xmin, ymin = 500, 500\n",
    "    xmax, ymax = -1, -1\n",
    "    for cnt in cnt2cons:\n",
    "        area = cv2.contourArea(cnt)\n",
    "        x,y,w,h = cv2.boundingRect(cnt)\n",
    "        img = np.zeros((240, 240, 3))\n",
    "        cv2.rectangle(img,(x,y),(x+w,y+h),(255, 0, 0),2)\n",
    "        xmin = min(xmin, x)\n",
    "        xmax = max(xmax, x+w)\n",
    "        ymin = min(ymin, y)\n",
    "        ymax = max(ymax, y+h)\n",
    "    return xmin, xmax, ymin, ymax\n",
    "\n",
    "\n",
    "def get_cropped_region(img, reshape=None):\n",
    "    img = img*255.\n",
    "    img = img.astype(np.uint8)\n",
    "    xmin_true, ymin_true = 500, 500\n",
    "    xmax_true, ymax_true = -1, -1\n",
    "#     print('marker 1')\n",
    "    for i in range(img.shape[-1]):\n",
    "#         print('marker 2')\n",
    "        if np.sum(img[:, :, i]) == 0:\n",
    "#             print('marker 3')\n",
    "            continue\n",
    "        xmin, xmax, ymin, ymax = lowleft_upright(img[:, :, i])\n",
    "        xmin_true = min(xmin, xmin_true)\n",
    "        ymin_true = min(ymin, ymin_true)\n",
    "        xmax_true = max(xmax, xmax_true)\n",
    "        ymax_true = max(ymax, ymax_true)\n",
    "        \n",
    "    count_black = 0\n",
    "    for i in range(img.shape[-1]):\n",
    "        count_black += int(np.sum(img[:, :, i]) == 0)\n",
    "#     print(count_black)\n",
    "    if ymax_true-ymin_true < 0 or xmax_true-xmin_true < 0 or img.shape[-1]-count_black < 0:\n",
    "        print(ymax_true-ymin_true, xmax_true-xmin_true, img.shape[-1]-count_black)\n",
    "    cropped = np.empty((ymax_true-ymin_true, xmax_true-xmin_true, img.shape[-1]-count_black))\n",
    "    curr_slice = 0\n",
    "    for i in range(img.shape[-1]):\n",
    "        if np.sum(img[:, :, i]) == 0:\n",
    "            continue\n",
    "        \n",
    "        crop = img[:, :, i][ymin_true:ymax_true, xmin_true:xmax_true]\n",
    "        \n",
    "        cropped[:, :, curr_slice] = crop\n",
    "        curr_slice += 1\n",
    "    cropped = cropped/np.max(cropped)\n",
    "    if reshape is not None:\n",
    "        reshaped = np.empty((reshape[0], reshape[1], cropped.shape[-1]))\n",
    "        for i in range(cropped.shape[-1]):\n",
    "            resized = cv2.resize(cropped[:, :, i], reshape, interpolation=cv2.INTER_AREA)\n",
    "            reshaped[:, :, i] = resized\n",
    "        return reshaped\n",
    "    return cropped\n",
    "\n",
    "\n",
    "def apply_equalizer(mri, img_type):\n",
    "    original_dim = (mri.shape[1], mri.shape[0])\n",
    "    new = np.empty((mri.shape[0], mri.shape[1], 2*mri.shape[2]-1))\n",
    "    cur = 0\n",
    "    for i in range(mri.shape[-1]-1):\n",
    "#         print(mri[:, :, i].shape)\n",
    "        in1 = cv2.resize(mri[:, :, i], (MR_DIM, MR_DIM))\n",
    "        in2 = cv2.resize(mri[:, :, i+1], (MR_DIM, MR_DIM))\n",
    "        output = get_middle_image(in1, in2, img_type)\n",
    "        output = cv2.resize(output, original_dim)        \n",
    "        new[:, :, cur] = mri[:, :, i]\n",
    "        new[:, :, cur+1] = output\n",
    "        cur += 2\n",
    "    new[:, :, cur] = mri[:, :, -1]\n",
    "    return new\n",
    "\n",
    "def get_middle_image(in1, in2, img_type, show=False): # provide to 256x256 images\n",
    "#     print(in1.shape)\n",
    "    in1 = cv2.resize(in1, (MR_DIM, MR_DIM))\n",
    "    in2 = cv2.resize(in2, (MR_DIM, MR_DIM))\n",
    "    in1 = in1.reshape(1, MR_DIM, MR_DIM, 1)\n",
    "    in2 = in2.reshape(1, MR_DIM, MR_DIM, 1)\n",
    "    data = [in1, in2]\n",
    "    output = np.array(enhancer_models[img_type](data))\n",
    "    if show:\n",
    "        f, axarr = plt.subplots(1, 3, squeeze=False)\n",
    "        axarr[0][0].axis(False)\n",
    "        axarr[0][1].axis(False)\n",
    "        axarr[0][2].axis(False)\n",
    "        axarr[0][0].imshow(in1[0, :, :, 0], cmap='gray', vmin=0., vmax=1.)\n",
    "        axarr[0][1].imshow(output[0, :, :, 0], cmap='gray', vmin=0., vmax=1.)\n",
    "        axarr[0][2].imshow(in2[0, :, :, 0], cmap='gray', vmin=0., vmax=1.)\n",
    "        plt.show()\n",
    "    return output[0, :, :, 0]\n",
    "\n",
    "def get_image(folder, img_type, equalizer_iters=0):\n",
    "    loaded = load_mri_arr(folder)\n",
    "#     loaded = get_cropped_region(loaded)\n",
    "#     print('Before:', loaded.shape[-1])\n",
    "#     for i in range(equalizer_iters):\n",
    "    while loaded.shape[-1] < DIM and equalizer_iters != 0:\n",
    "        loaded = apply_equalizer(loaded, img_type)\n",
    "#     print('After:', loaded.shape[-1])\n",
    "    return loaded\n",
    "\n",
    "def resize(mri, shape):\n",
    "    init_shape = mri.shape\n",
    "    resized = zoom(mri, (shape[0]/init_shape[0], shape[1]/init_shape[1], shape[2]/init_shape[2]))\n",
    "    return resized\n",
    "\n",
    "def load_input_for_seg(folder, return_label=True, equalizer_iters=0):\n",
    "    idnum = folder[-5:]\n",
    "    data = AXIS[idnum]\n",
    "    label = data['MGMT_Value']\n",
    "    inp = np.empty((DIM, DIM, DIM, 2))\n",
    "    \n",
    "    path = os.path.join(folder, 'FLAIR')\n",
    "    loaded = get_cropped_region(get_image(path, 'flair', equalizer_iters=equalizer_iters), reshape=(DIM, DIM))\n",
    "    loaded = resize(loaded, (DIM, DIM, DIM))\n",
    "    if data['FLAIR'] == 'Sagittal':\n",
    "        loaded = sagittal_2_coronal(loaded, False)\n",
    "    if data['FLAIR'] == 'Axial':\n",
    "        loaded = axial_2_coronal(loaded, False)\n",
    "    inp[:, :, :, 0] = np.moveaxis(loaded, 2, 0)\n",
    "    \n",
    "    path = os.path.join(folder, 'T1wCE')\n",
    "    loaded = get_cropped_region(get_image(path, 't1ce', equalizer_iters=equalizer_iters), reshape=(DIM, DIM))\n",
    "    loaded = resize(loaded, (DIM, DIM, DIM))\n",
    "    if data['T1wCE'] == 'Sagittal':\n",
    "        loaded = sagittal_2_coronal(loaded, False)\n",
    "    if data['T1wCE'] == 'Axial':\n",
    "        loaded = axial_2_coronal(loaded, False)\n",
    "    inp[:, :, :, 1] = np.moveaxis(loaded, 2, 0)\n",
    "    \n",
    "    if return_label:\n",
    "        return inp, label\n",
    "    return inp\n",
    "\n",
    "\n",
    "def get_mask(inp):\n",
    "    out = seg_model.predict(inp)\n",
    "    out = np.argmax(out, axis=-1)\n",
    "#     print(out.shape)\n",
    "    out[out != 0] = 1\n",
    "    out[:12] = np.zeros((12, DIM, DIM), dtype=np.float32)\n",
    "    out[-12:] = np.zeros((12, DIM, DIM), dtype=np.float32)\n",
    "    return out\n",
    "\n",
    "def find_largest_tumor_slice(mask): # return ind of largest tumor slice\n",
    "    ind = -1\n",
    "    largest_size = -1\n",
    "    for i in range(mask.shape[-1]):\n",
    "        curr = mask[:, :, i]\n",
    "        tum_size = cv2.countNonZero(curr)\n",
    "        if tum_size >= largest_size:\n",
    "            largest_size = tum_size\n",
    "            ind = i\n",
    "    return ind\n",
    "\n",
    "def load_input(\n",
    "    case_id,\n",
    "    num_imgs=NUM_IMAGES_3D,\n",
    "    img_size=IMAGE_SIZE,\n",
    "    rotate=0,\n",
    "    equalizer_iters=0\n",
    "):\n",
    "    files_dir = r'../input/flair-npy/npy_files'\n",
    "    loaded = np.load(os.path.join(files_dir, case_id+'.npy'))\n",
    "    return loaded\n",
    "#     idnum = case_id[-5:]\n",
    "# #     print(idnum)\n",
    "#     data = AXIS[idnum]\n",
    "#     label = data['MGMT_Value']\n",
    "#     path2 = f\"../input/rsna-miccai-brain-tumor-radiogenomic-classification/train/{case_id}\"\n",
    "#     path = f\"../input/rsna-miccai-brain-tumor-radiogenomic-classification/train/{case_id}/{type_}\"\n",
    "#     flair_path = f\"../input/rsna-miccai-brain-tumor-radiogenomic-classification/train/{case_id}/FLAIR\"\n",
    "#     t1wce_path = f\"../input/rsna-miccai-brain-tumor-radiogenomic-classification/train/{case_id}/T1wCE\"\n",
    "\n",
    "#     try:\n",
    "#         loaded = get_cropped_region(get_image(path, type_, equalizer_iters=equalizer_iters), reshape=(DIM, DIM))\n",
    "#         loaded = resize(loaded, (DIM, DIM, DIM))\n",
    "#         loaded_flair = get_cropped_region(get_image(flair_path, type_, equalizer_iters=equalizer_iters), reshape=(DIM, DIM))\n",
    "#         loaded_flair = resize(loaded_flair, (DIM, DIM, DIM))\n",
    "#         loaded_t1wce = get_cropped_region(get_image(t1wce_path, type_, equalizer_iters=equalizer_iters), reshape=(DIM, DIM))\n",
    "#         loaded_t1wce = resize(loaded_t1wce, (DIM, DIM, DIM))\n",
    "#         seg_inp = np.empty((DIM, DIM, DIM, 2))\n",
    "#         seg_inp[:, :, :, 0] = np.moveaxis(loaded_flair, 2, 0)\n",
    "#         seg_inp[:, :, :, 1] = np.moveaxis(loaded_t1wce, 2, 0)\n",
    "#         if data['FLAIR'] == 'Sagittal':\n",
    "#             loadexd = sagittal_2_coronal(loaded, False)\n",
    "#         if data['FLAIR'] == 'Axial':\n",
    "#             loaded = axial_2_coronal(loaded, False)\n",
    "\n",
    "#         mask = get_mask(seg_inp)\n",
    "#         middle = find_largest_tumor_slice(mask)\n",
    "#         sl_each_side = SLICES//2\n",
    "#         e1 = max(0, middle-sl_each_side)\n",
    "#         e2 = min(loaded.shape[-1]-1, middle+sl_each_side)\n",
    "\n",
    "#         if middle-e1 < e2-middle:\n",
    "#             e2 += 32-(middle-e1)\n",
    "#         elif e2-middle < middle-e1:\n",
    "#             e1 -= 32-(e2-middle)\n",
    "#         to_return = np.empty((DIM, DIM, e2-e1))\n",
    "#         count = 0\n",
    "# #         print(e1, e2, middle)\n",
    "#         for i in range(e1, e2):\n",
    "#             to_return[:, :, count] = loaded[i]\n",
    "#             count += 1\n",
    "#         to_return = np.expand_dims(to_return, axis=0)\n",
    "#         to_return = (to_return-np.min(to_return))/(np.max(to_return)-np.min(to_return))\n",
    "#     #         print('marker 1')\n",
    "#         return to_return\n",
    "#     except Exception as e:\n",
    "#         print(e)\n",
    "#         print(f'Failed on case {idnum}')\n",
    "#         return np.zeros((1, DIM, DIM, SLICES))    "
   ]
  },
  {
   "cell_type": "code",
   "execution_count": 8,
   "metadata": {
    "execution": {
     "iopub.execute_input": "2021-12-26T23:40:57.330202Z",
     "iopub.status.busy": "2021-12-26T23:40:57.329864Z",
     "iopub.status.idle": "2021-12-26T23:40:57.340759Z",
     "shell.execute_reply": "2021-12-26T23:40:57.339200Z",
     "shell.execute_reply.started": "2021-12-26T23:40:57.330168Z"
    }
   },
   "outputs": [],
   "source": [
    "import random\n",
    "\n",
    "import cv2\n",
    "from torch.utils.data import Dataset\n",
    "\n",
    "\n",
    "class BrainRSNADataset(Dataset):\n",
    "    def __init__(\n",
    "        self, data, transform=None, target=\"MGMT_value\", mri_type=\"FLAIR\", is_train=True,\n",
    "        enhanced=False\n",
    "    ):\n",
    "        self.target = target\n",
    "        self.data = data\n",
    "        self.type = mri_type\n",
    "\n",
    "        self.transform = transform\n",
    "        self.is_train = is_train\n",
    "        self.folder = \"train\" #if self.is_train else \"test\"\n",
    "        self.enhanced = enhanced\n",
    "\n",
    "    def __len__(self):\n",
    "        return len(self.data)\n",
    "\n",
    "    def __getitem__(self, index):\n",
    "#         print('INDEX:', index)\n",
    "        row = self.data.loc[index]\n",
    "        case_id = int(row.BraTS21ID)\n",
    "        target = int(row[self.target])\n",
    "        _3d_images = self.load_dicom_images_3d(case_id)\n",
    "        _3d_images = torch.tensor(_3d_images).float()\n",
    "        if self.is_train:\n",
    "            return {\"image\": _3d_images, \"target\": target, \"case_id\": case_id}\n",
    "        else:\n",
    "            return {\"image\": _3d_images, \"case_id\": case_id}\n",
    "\n",
    "    def load_dicom_images_3d(\n",
    "        self,\n",
    "        case_id,\n",
    "        num_imgs=NUM_IMAGES_3D,\n",
    "        img_size=IMAGE_SIZE,\n",
    "        rotate=0,\n",
    "    ):\n",
    "#         print('marker 1')\n",
    "\n",
    "        case_id = str(case_id).zfill(5)\n",
    "#         case_id = '00000'\n",
    "        loaded = load_input(case_id, equalizer_iters=1 if self.enhanced else 0)\n",
    "#         print(loaded.shape)\n",
    "        return loaded"
   ]
  },
  {
   "cell_type": "code",
   "execution_count": 9,
   "metadata": {
    "execution": {
     "iopub.execute_input": "2021-12-26T23:40:57.342738Z",
     "iopub.status.busy": "2021-12-26T23:40:57.342450Z",
     "iopub.status.idle": "2021-12-26T23:40:58.097201Z",
     "shell.execute_reply": "2021-12-26T23:40:58.096202Z",
     "shell.execute_reply.started": "2021-12-26T23:40:57.342699Z"
    }
   },
   "outputs": [
    {
     "name": "stdout",
     "output_type": "stream",
     "text": [
      "\u001b[0m\u001b[01;34mflair-npy\u001b[0m/\n",
      "\u001b[01;34mlabels-with-planes\u001b[0m/\n",
      "\u001b[01;34mmodel-x80-dcs65\u001b[0m/\n",
      "\u001b[01;34mmodelperclasseval\u001b[0m/\n",
      "\u001b[01;34mmonai-v060-deep-learning-in-healthcare-imaging\u001b[0m/\n",
      "\u001b[01;34mmrequalizer-weights\u001b[0m/\n",
      "\u001b[01;34mresnet10rsna\u001b[0m/\n",
      "\u001b[01;34mrsna-miccai-brain-tumor-radiogenomic-classification\u001b[0m/\n",
      "\u001b[01;34mrsna-monai-packages\u001b[0m/\n"
     ]
    }
   ],
   "source": [
    "ls ../input/"
   ]
  },
  {
   "cell_type": "code",
   "execution_count": 10,
   "metadata": {
    "execution": {
     "iopub.execute_input": "2021-12-26T23:40:58.100814Z",
     "iopub.status.busy": "2021-12-26T23:40:58.100502Z",
     "iopub.status.idle": "2021-12-26T23:40:59.975537Z",
     "shell.execute_reply": "2021-12-26T23:40:59.974649Z",
     "shell.execute_reply.started": "2021-12-26T23:40:58.100784Z"
    }
   },
   "outputs": [],
   "source": [
    "import monai\n",
    "\n",
    "# model \n",
    "model = monai.networks.nets.resnet10(spatial_dims=3, n_input_channels=1, n_classes=1)\n",
    "device = torch.device(\"cuda\")\n",
    "model.to(device);\n",
    "all_weights = os.listdir(\"../input/resnet10rsna\")\n",
    "fold_files = [f for f in all_weights if type_ in f]\n",
    "criterion = nn.BCEWithLogitsLoss()"
   ]
  },
  {
   "cell_type": "code",
   "execution_count": 11,
   "metadata": {
    "execution": {
     "iopub.execute_input": "2021-12-26T23:40:59.977277Z",
     "iopub.status.busy": "2021-12-26T23:40:59.976919Z",
     "iopub.status.idle": "2021-12-26T23:41:00.003392Z",
     "shell.execute_reply": "2021-12-26T23:41:00.002594Z",
     "shell.execute_reply.started": "2021-12-26T23:40:59.977229Z"
    }
   },
   "outputs": [],
   "source": [
    "import argparse\n",
    "\n",
    "import pandas as pd\n",
    "from sklearn.model_selection import StratifiedKFold\n",
    "\n",
    "# parser = argparse.ArgumentParser()\n",
    "# parser.add_argument(\"--n_folds\", default=5, type=int)\n",
    "# args = parser.parse_args()\n",
    "\n",
    "train = pd.read_csv(\"../input/rsna-miccai-brain-tumor-radiogenomic-classification/train_labels.csv\")\n",
    "\n",
    "skf = StratifiedKFold(n_splits=5, shuffle=True, random_state=518)\n",
    "oof = []\n",
    "targets = []\n",
    "target = \"MGMT_value\"\n",
    "\n",
    "for fold, (trn_idx, val_idx) in enumerate(\n",
    "    skf.split(train, train[target])\n",
    "):\n",
    "    train.loc[val_idx, \"fold\"] = int(fold)\n",
    "\n",
    "\n",
    "train.to_csv(\"train.csv\", index=False)"
   ]
  },
  {
   "cell_type": "code",
   "execution_count": 12,
   "metadata": {
    "execution": {
     "iopub.execute_input": "2021-12-26T23:41:00.006439Z",
     "iopub.status.busy": "2021-12-26T23:41:00.006163Z",
     "iopub.status.idle": "2021-12-26T23:41:00.026644Z",
     "shell.execute_reply": "2021-12-26T23:41:00.025772Z",
     "shell.execute_reply.started": "2021-12-26T23:41:00.006414Z"
    }
   },
   "outputs": [
    {
     "data": {
      "text/html": [
       "<div>\n",
       "<style scoped>\n",
       "    .dataframe tbody tr th:only-of-type {\n",
       "        vertical-align: middle;\n",
       "    }\n",
       "\n",
       "    .dataframe tbody tr th {\n",
       "        vertical-align: top;\n",
       "    }\n",
       "\n",
       "    .dataframe thead th {\n",
       "        text-align: right;\n",
       "    }\n",
       "</style>\n",
       "<table border=\"1\" class=\"dataframe\">\n",
       "  <thead>\n",
       "    <tr style=\"text-align: right;\">\n",
       "      <th></th>\n",
       "      <th>BraTS21ID</th>\n",
       "      <th>MGMT_value</th>\n",
       "      <th>fold</th>\n",
       "    </tr>\n",
       "  </thead>\n",
       "  <tbody>\n",
       "    <tr>\n",
       "      <th>0</th>\n",
       "      <td>0</td>\n",
       "      <td>1</td>\n",
       "      <td>1.0</td>\n",
       "    </tr>\n",
       "    <tr>\n",
       "      <th>1</th>\n",
       "      <td>2</td>\n",
       "      <td>1</td>\n",
       "      <td>2.0</td>\n",
       "    </tr>\n",
       "    <tr>\n",
       "      <th>2</th>\n",
       "      <td>3</td>\n",
       "      <td>0</td>\n",
       "      <td>0.0</td>\n",
       "    </tr>\n",
       "    <tr>\n",
       "      <th>3</th>\n",
       "      <td>5</td>\n",
       "      <td>1</td>\n",
       "      <td>1.0</td>\n",
       "    </tr>\n",
       "    <tr>\n",
       "      <th>4</th>\n",
       "      <td>6</td>\n",
       "      <td>1</td>\n",
       "      <td>2.0</td>\n",
       "    </tr>\n",
       "  </tbody>\n",
       "</table>\n",
       "</div>"
      ],
      "text/plain": [
       "   BraTS21ID  MGMT_value  fold\n",
       "0          0           1   1.0\n",
       "1          2           1   2.0\n",
       "2          3           0   0.0\n",
       "3          5           1   1.0\n",
       "4          6           1   2.0"
      ]
     },
     "execution_count": 12,
     "metadata": {},
     "output_type": "execute_result"
    }
   ],
   "source": [
    "train.head()"
   ]
  },
  {
   "cell_type": "code",
   "execution_count": 13,
   "metadata": {
    "execution": {
     "iopub.execute_input": "2021-12-26T23:41:00.028423Z",
     "iopub.status.busy": "2021-12-26T23:41:00.028003Z",
     "iopub.status.idle": "2021-12-26T23:41:00.052531Z",
     "shell.execute_reply": "2021-12-26T23:41:00.051785Z",
     "shell.execute_reply.started": "2021-12-26T23:41:00.028384Z"
    }
   },
   "outputs": [],
   "source": [
    "data = pd.read_csv(\"./train.csv\")\n",
    "curr_fold = 1\n",
    "train_df = data[data.fold != curr_fold].reset_index(drop=False)\n",
    "val_df = data[data.fold == curr_fold].reset_index(drop=False)"
   ]
  },
  {
   "cell_type": "code",
   "execution_count": 14,
   "metadata": {
    "execution": {
     "iopub.execute_input": "2021-12-26T23:41:00.054167Z",
     "iopub.status.busy": "2021-12-26T23:41:00.053824Z",
     "iopub.status.idle": "2021-12-26T23:41:00.066512Z",
     "shell.execute_reply": "2021-12-26T23:41:00.064636Z",
     "shell.execute_reply.started": "2021-12-26T23:41:00.054133Z"
    }
   },
   "outputs": [
    {
     "data": {
      "text/html": [
       "<div>\n",
       "<style scoped>\n",
       "    .dataframe tbody tr th:only-of-type {\n",
       "        vertical-align: middle;\n",
       "    }\n",
       "\n",
       "    .dataframe tbody tr th {\n",
       "        vertical-align: top;\n",
       "    }\n",
       "\n",
       "    .dataframe thead th {\n",
       "        text-align: right;\n",
       "    }\n",
       "</style>\n",
       "<table border=\"1\" class=\"dataframe\">\n",
       "  <thead>\n",
       "    <tr style=\"text-align: right;\">\n",
       "      <th></th>\n",
       "      <th>index</th>\n",
       "      <th>BraTS21ID</th>\n",
       "      <th>MGMT_value</th>\n",
       "      <th>fold</th>\n",
       "    </tr>\n",
       "  </thead>\n",
       "  <tbody>\n",
       "    <tr>\n",
       "      <th>0</th>\n",
       "      <td>1</td>\n",
       "      <td>2</td>\n",
       "      <td>1</td>\n",
       "      <td>2.0</td>\n",
       "    </tr>\n",
       "    <tr>\n",
       "      <th>1</th>\n",
       "      <td>2</td>\n",
       "      <td>3</td>\n",
       "      <td>0</td>\n",
       "      <td>0.0</td>\n",
       "    </tr>\n",
       "    <tr>\n",
       "      <th>2</th>\n",
       "      <td>4</td>\n",
       "      <td>6</td>\n",
       "      <td>1</td>\n",
       "      <td>2.0</td>\n",
       "    </tr>\n",
       "    <tr>\n",
       "      <th>3</th>\n",
       "      <td>6</td>\n",
       "      <td>9</td>\n",
       "      <td>0</td>\n",
       "      <td>4.0</td>\n",
       "    </tr>\n",
       "    <tr>\n",
       "      <th>4</th>\n",
       "      <td>7</td>\n",
       "      <td>11</td>\n",
       "      <td>1</td>\n",
       "      <td>2.0</td>\n",
       "    </tr>\n",
       "  </tbody>\n",
       "</table>\n",
       "</div>"
      ],
      "text/plain": [
       "   index  BraTS21ID  MGMT_value  fold\n",
       "0      1          2           1   2.0\n",
       "1      2          3           0   0.0\n",
       "2      4          6           1   2.0\n",
       "3      6          9           0   4.0\n",
       "4      7         11           1   2.0"
      ]
     },
     "execution_count": 14,
     "metadata": {},
     "output_type": "execute_result"
    }
   ],
   "source": [
    "train_df.head()"
   ]
  },
  {
   "cell_type": "code",
   "execution_count": 15,
   "metadata": {
    "execution": {
     "iopub.execute_input": "2021-12-26T23:41:00.069265Z",
     "iopub.status.busy": "2021-12-26T23:41:00.068508Z",
     "iopub.status.idle": "2021-12-26T23:41:00.076973Z",
     "shell.execute_reply": "2021-12-26T23:41:00.076050Z",
     "shell.execute_reply.started": "2021-12-26T23:41:00.069213Z"
    }
   },
   "outputs": [],
   "source": [
    "train_dataset = BrainRSNADataset(data=train_df, mri_type=type_, is_train=True, enhanced=False)\n",
    "\n",
    "valid_dataset = BrainRSNADataset(data=val_df, mri_type=type_, is_train=True, enhanced=False)\n",
    "\n",
    "\n",
    "train_dl = torch.utils.data.DataLoader(\n",
    "    train_dataset,\n",
    "    batch_size=TRAINING_BATCH_SIZE,\n",
    "    shuffle=True,\n",
    "    num_workers=n_workers,\n",
    "    drop_last=True,\n",
    "    pin_memory=True,\n",
    ")\n",
    "\n",
    "validation_dl = torch.utils.data.DataLoader(\n",
    "    valid_dataset,\n",
    "    batch_size=TEST_BATCH_SIZE,\n",
    "    shuffle=False,\n",
    "    num_workers=n_workers,\n",
    "    pin_memory=True,\n",
    ")"
   ]
  },
  {
   "cell_type": "code",
   "execution_count": 16,
   "metadata": {
    "execution": {
     "iopub.execute_input": "2021-12-26T23:41:00.078931Z",
     "iopub.status.busy": "2021-12-26T23:41:00.078428Z",
     "iopub.status.idle": "2021-12-27T00:08:40.278906Z",
     "shell.execute_reply": "2021-12-27T00:08:40.277985Z",
     "shell.execute_reply.started": "2021-12-26T23:41:00.078820Z"
    }
   },
   "outputs": [
    {
     "name": "stderr",
     "output_type": "stream",
     "text": [
      "  0%|          | 0/468 [00:00<?, ?it/s]"
     ]
    },
    {
     "name": "stdout",
     "output_type": "stream",
     "text": [
      "Adjusting learning rate of group 0 to 1.0000e-04.\n"
     ]
    },
    {
     "name": "stderr",
     "output_type": "stream",
     "text": [
      "100%|██████████| 468/468 [00:40<00:00, 11.60it/s, batch_loss=0.667, loss=0.718]\n",
      "  0%|          | 0/59 [00:00<?, ?it/s]"
     ]
    },
    {
     "name": "stdout",
     "output_type": "stream",
     "text": [
      "Adjusting learning rate of group 0 to 1.0000e-04.\n"
     ]
    },
    {
     "name": "stderr",
     "output_type": "stream",
     "text": [
      "100%|██████████| 59/59 [00:02<00:00, 20.62it/s, batch_loss=0.752, loss=0.71] \n",
      "  0%|          | 0/468 [00:00<?, ?it/s]"
     ]
    },
    {
     "name": "stdout",
     "output_type": "stream",
     "text": [
      "EPOCH 0/40: Validation average loss: 0.7097897721549212 + AUC SCORE = 0.5390029325513197 + AUC SCORE THRESH 0.44897959183673464 = 0.564076246334311\n",
      "Best Accuracy: 0.49572649572649574\n",
      "Best Sensitivity: 0.25806451612903225\n",
      "Best Specificity: 0.7636363636363637\n",
      "Best Precision: 0.5517241379310345\n",
      "Best Recall: 0.25806451612903225\n",
      "Best AUROC: 0.564076246334311\n",
      "Saving the model...\n"
     ]
    },
    {
     "name": "stderr",
     "output_type": "stream",
     "text": [
      "100%|██████████| 468/468 [00:39<00:00, 11.87it/s, batch_loss=0.423, loss=0.689]\n",
      "  0%|          | 0/59 [00:00<?, ?it/s]"
     ]
    },
    {
     "name": "stdout",
     "output_type": "stream",
     "text": [
      "Adjusting learning rate of group 0 to 1.0000e-04.\n"
     ]
    },
    {
     "name": "stderr",
     "output_type": "stream",
     "text": [
      "100%|██████████| 59/59 [00:01<00:00, 30.20it/s, batch_loss=0.836, loss=0.696]\n",
      "  0%|          | 0/468 [00:00<?, ?it/s]"
     ]
    },
    {
     "name": "stdout",
     "output_type": "stream",
     "text": [
      "EPOCH 1/40: Validation average loss: 0.6955470139697447 + AUC SCORE = 0.5906158357771261 + AUC SCORE THRESH 0.5714285714285714 = 0.589149560117302\n",
      "Best Accuracy: 0.5128205128205128\n",
      "Best Sensitivity: 0.8548387096774194\n",
      "Best Specificity: 0.12727272727272726\n",
      "Best Precision: 0.5247524752475248\n",
      "Best Recall: 0.8548387096774194\n",
      "Best AUROC: 0.589149560117302\n",
      "Saving the model...\n"
     ]
    },
    {
     "name": "stderr",
     "output_type": "stream",
     "text": [
      "100%|██████████| 468/468 [00:39<00:00, 11.85it/s, batch_loss=0.754, loss=0.695]\n",
      "  0%|          | 0/59 [00:00<?, ?it/s]"
     ]
    },
    {
     "name": "stdout",
     "output_type": "stream",
     "text": [
      "Adjusting learning rate of group 0 to 1.0000e-04.\n"
     ]
    },
    {
     "name": "stderr",
     "output_type": "stream",
     "text": [
      "100%|██████████| 59/59 [00:01<00:00, 30.65it/s, batch_loss=0.514, loss=0.701]\n",
      "  0%|          | 0/468 [00:00<?, ?it/s]"
     ]
    },
    {
     "name": "stdout",
     "output_type": "stream",
     "text": [
      "EPOCH 2/40: Validation average loss: 0.7007652990898844 + AUC SCORE = 0.5466275659824047 + AUC SCORE THRESH 0.4897959183673469 = 0.5790322580645162\n",
      "Best Accuracy: 0.5897435897435898\n",
      "Best Sensitivity: 0.7096774193548387\n",
      "Best Specificity: 0.45454545454545453\n",
      "Best Precision: 0.5945945945945946\n",
      "Best Recall: 0.7096774193548387\n",
      "Best AUROC: 0.5790322580645162\n"
     ]
    },
    {
     "name": "stderr",
     "output_type": "stream",
     "text": [
      "100%|██████████| 468/468 [00:39<00:00, 11.89it/s, batch_loss=0.986, loss=0.688]\n",
      "  0%|          | 0/59 [00:00<?, ?it/s]"
     ]
    },
    {
     "name": "stdout",
     "output_type": "stream",
     "text": [
      "Adjusting learning rate of group 0 to 1.0000e-04.\n"
     ]
    },
    {
     "name": "stderr",
     "output_type": "stream",
     "text": [
      "100%|██████████| 59/59 [00:02<00:00, 24.91it/s, batch_loss=0.627, loss=0.682]\n",
      "  0%|          | 0/468 [00:00<?, ?it/s]"
     ]
    },
    {
     "name": "stdout",
     "output_type": "stream",
     "text": [
      "EPOCH 3/40: Validation average loss: 0.6821490930298627 + AUC SCORE = 0.5612903225806452 + AUC SCORE THRESH 0.5306122448979591 = 0.5539589442815249\n",
      "Best Accuracy: 0.5641025641025641\n",
      "Best Sensitivity: 0.8387096774193549\n",
      "Best Specificity: 0.2545454545454545\n",
      "Best Precision: 0.5591397849462365\n",
      "Best Recall: 0.8387096774193549\n",
      "Best AUROC: 0.5539589442815249\n"
     ]
    },
    {
     "name": "stderr",
     "output_type": "stream",
     "text": [
      "100%|██████████| 468/468 [00:39<00:00, 11.90it/s, batch_loss=0.661, loss=0.672]\n",
      "  0%|          | 0/59 [00:00<?, ?it/s]"
     ]
    },
    {
     "name": "stdout",
     "output_type": "stream",
     "text": [
      "Adjusting learning rate of group 0 to 1.0000e-04.\n"
     ]
    },
    {
     "name": "stderr",
     "output_type": "stream",
     "text": [
      "100%|██████████| 59/59 [00:01<00:00, 30.63it/s, batch_loss=0.675, loss=0.687]\n",
      "  0%|          | 0/468 [00:00<?, ?it/s]"
     ]
    },
    {
     "name": "stdout",
     "output_type": "stream",
     "text": [
      "EPOCH 4/40: Validation average loss: 0.6871688083066778 + AUC SCORE = 0.5519061583577712 + AUC SCORE THRESH 0.4693877551020408 = 0.5608504398826979\n",
      "Best Accuracy: 0.5641025641025641\n",
      "Best Sensitivity: 0.5645161290322581\n",
      "Best Specificity: 0.5636363636363636\n",
      "Best Precision: 0.5932203389830508\n",
      "Best Recall: 0.5645161290322581\n",
      "Best AUROC: 0.5608504398826979\n"
     ]
    },
    {
     "name": "stderr",
     "output_type": "stream",
     "text": [
      "100%|██████████| 468/468 [00:39<00:00, 11.92it/s, batch_loss=0.631, loss=0.661]\n",
      "  0%|          | 0/59 [00:00<?, ?it/s]"
     ]
    },
    {
     "name": "stdout",
     "output_type": "stream",
     "text": [
      "Adjusting learning rate of group 0 to 1.0000e-04.\n"
     ]
    },
    {
     "name": "stderr",
     "output_type": "stream",
     "text": [
      "100%|██████████| 59/59 [00:01<00:00, 30.66it/s, batch_loss=0.833, loss=0.699]\n",
      "  0%|          | 0/468 [00:00<?, ?it/s]"
     ]
    },
    {
     "name": "stdout",
     "output_type": "stream",
     "text": [
      "EPOCH 5/40: Validation average loss: 0.6989505290985107 + AUC SCORE = 0.5454545454545454 + AUC SCORE THRESH 0.44897959183673464 = 0.5507331378299121\n",
      "Best Accuracy: 0.5384615384615384\n",
      "Best Sensitivity: 0.5806451612903226\n",
      "Best Specificity: 0.4909090909090909\n",
      "Best Precision: 0.5625\n",
      "Best Recall: 0.5806451612903226\n",
      "Best AUROC: 0.5507331378299121\n"
     ]
    },
    {
     "name": "stderr",
     "output_type": "stream",
     "text": [
      "100%|██████████| 468/468 [00:39<00:00, 11.75it/s, batch_loss=0.417, loss=0.65] \n",
      "  0%|          | 0/59 [00:00<?, ?it/s]"
     ]
    },
    {
     "name": "stdout",
     "output_type": "stream",
     "text": [
      "Adjusting learning rate of group 0 to 1.0000e-04.\n"
     ]
    },
    {
     "name": "stderr",
     "output_type": "stream",
     "text": [
      "100%|██████████| 59/59 [00:01<00:00, 30.81it/s, batch_loss=0.615, loss=0.691]\n",
      "  0%|          | 0/468 [00:00<?, ?it/s]"
     ]
    },
    {
     "name": "stdout",
     "output_type": "stream",
     "text": [
      "EPOCH 6/40: Validation average loss: 0.690838425341299 + AUC SCORE = 0.5343108504398827 + AUC SCORE THRESH 0.5102040816326531 = 0.5718475073313782\n",
      "Best Accuracy: 0.5982905982905983\n",
      "Best Sensitivity: 0.9193548387096774\n",
      "Best Specificity: 0.23636363636363636\n",
      "Best Precision: 0.5757575757575758\n",
      "Best Recall: 0.9193548387096774\n",
      "Best AUROC: 0.5718475073313782\n"
     ]
    },
    {
     "name": "stderr",
     "output_type": "stream",
     "text": [
      "100%|██████████| 468/468 [00:39<00:00, 11.89it/s, batch_loss=0.416, loss=0.633]\n",
      "  0%|          | 0/59 [00:00<?, ?it/s]"
     ]
    },
    {
     "name": "stdout",
     "output_type": "stream",
     "text": [
      "Adjusting learning rate of group 0 to 1.0000e-04.\n"
     ]
    },
    {
     "name": "stderr",
     "output_type": "stream",
     "text": [
      "100%|██████████| 59/59 [00:01<00:00, 29.92it/s, batch_loss=0.46, loss=0.707] \n",
      "  0%|          | 0/468 [00:00<?, ?it/s]"
     ]
    },
    {
     "name": "stdout",
     "output_type": "stream",
     "text": [
      "EPOCH 7/40: Validation average loss: 0.7065169215202332 + AUC SCORE = 0.5296187683284458 + AUC SCORE THRESH 0.5510204081632653 = 0.5505865102639296\n",
      "Best Accuracy: 0.5470085470085471\n",
      "Best Sensitivity: 0.967741935483871\n",
      "Best Specificity: 0.07272727272727272\n",
      "Best Precision: 0.5405405405405406\n",
      "Best Recall: 0.967741935483871\n",
      "Best AUROC: 0.5505865102639296\n"
     ]
    },
    {
     "name": "stderr",
     "output_type": "stream",
     "text": [
      "100%|██████████| 468/468 [00:39<00:00, 11.89it/s, batch_loss=1.05, loss=0.609] \n",
      "  0%|          | 0/59 [00:00<?, ?it/s]"
     ]
    },
    {
     "name": "stdout",
     "output_type": "stream",
     "text": [
      "Adjusting learning rate of group 0 to 1.0000e-04.\n"
     ]
    },
    {
     "name": "stderr",
     "output_type": "stream",
     "text": [
      "100%|██████████| 59/59 [00:01<00:00, 30.88it/s, batch_loss=0.713, loss=0.693]\n",
      "  0%|          | 0/468 [00:00<?, ?it/s]"
     ]
    },
    {
     "name": "stdout",
     "output_type": "stream",
     "text": [
      "EPOCH 8/40: Validation average loss: 0.6934093312691834 + AUC SCORE = 0.5269794721407625 + AUC SCORE THRESH 0.4081632653061224 = 0.5596774193548386\n",
      "Best Accuracy: 0.49572649572649574\n",
      "Best Sensitivity: 0.46774193548387094\n",
      "Best Specificity: 0.5272727272727272\n",
      "Best Precision: 0.5272727272727272\n",
      "Best Recall: 0.46774193548387094\n",
      "Best AUROC: 0.5596774193548386\n"
     ]
    },
    {
     "name": "stderr",
     "output_type": "stream",
     "text": [
      "100%|██████████| 468/468 [00:39<00:00, 11.82it/s, batch_loss=0.817, loss=0.58] \n",
      "  0%|          | 0/59 [00:00<?, ?it/s]"
     ]
    },
    {
     "name": "stdout",
     "output_type": "stream",
     "text": [
      "Adjusting learning rate of group 0 to 5.0000e-05.\n"
     ]
    },
    {
     "name": "stderr",
     "output_type": "stream",
     "text": [
      "100%|██████████| 59/59 [00:01<00:00, 29.54it/s, batch_loss=0.708, loss=0.692]\n",
      "  0%|          | 0/468 [00:00<?, ?it/s]"
     ]
    },
    {
     "name": "stdout",
     "output_type": "stream",
     "text": [
      "EPOCH 9/40: Validation average loss: 0.6917426081027015 + AUC SCORE = 0.5513196480938416 + AUC SCORE THRESH 0.44897959183673464 = 0.5828445747800586\n",
      "Best Accuracy: 0.5470085470085471\n",
      "Best Sensitivity: 0.8548387096774194\n",
      "Best Specificity: 0.2\n",
      "Best Precision: 0.5463917525773195\n",
      "Best Recall: 0.8548387096774194\n",
      "Best AUROC: 0.5828445747800586\n"
     ]
    },
    {
     "name": "stderr",
     "output_type": "stream",
     "text": [
      "100%|██████████| 468/468 [00:39<00:00, 11.83it/s, batch_loss=0.459, loss=0.489]\n",
      "  0%|          | 0/59 [00:00<?, ?it/s]"
     ]
    },
    {
     "name": "stdout",
     "output_type": "stream",
     "text": [
      "Adjusting learning rate of group 0 to 5.0000e-05.\n"
     ]
    },
    {
     "name": "stderr",
     "output_type": "stream",
     "text": [
      "100%|██████████| 59/59 [00:01<00:00, 30.77it/s, batch_loss=0.701, loss=0.702]\n",
      "  0%|          | 0/468 [00:00<?, ?it/s]"
     ]
    },
    {
     "name": "stdout",
     "output_type": "stream",
     "text": [
      "EPOCH 10/40: Validation average loss: 0.7017559469756434 + AUC SCORE = 0.5501466275659824 + AUC SCORE THRESH 0.5918367346938775 = 0.5831378299120235\n",
      "Best Accuracy: 0.5555555555555556\n",
      "Best Sensitivity: 0.8709677419354839\n",
      "Best Specificity: 0.2\n",
      "Best Precision: 0.5510204081632653\n",
      "Best Recall: 0.8709677419354839\n",
      "Best AUROC: 0.5831378299120235\n"
     ]
    },
    {
     "name": "stderr",
     "output_type": "stream",
     "text": [
      "100%|██████████| 468/468 [00:39<00:00, 11.86it/s, batch_loss=0.319, loss=0.418] \n",
      "  0%|          | 0/59 [00:00<?, ?it/s]"
     ]
    },
    {
     "name": "stdout",
     "output_type": "stream",
     "text": [
      "Adjusting learning rate of group 0 to 5.0000e-05.\n"
     ]
    },
    {
     "name": "stderr",
     "output_type": "stream",
     "text": [
      "100%|██████████| 59/59 [00:01<00:00, 31.34it/s, batch_loss=0.51, loss=0.696] \n",
      "  0%|          | 0/468 [00:00<?, ?it/s]"
     ]
    },
    {
     "name": "stdout",
     "output_type": "stream",
     "text": [
      "EPOCH 11/40: Validation average loss: 0.6958325237540876 + AUC SCORE = 0.5668621700879766 + AUC SCORE THRESH 0.6326530612244897 = 0.5611436950146628\n",
      "Best Accuracy: 0.5470085470085471\n",
      "Best Sensitivity: 0.9032258064516129\n",
      "Best Specificity: 0.14545454545454545\n",
      "Best Precision: 0.5436893203883495\n",
      "Best Recall: 0.9032258064516129\n",
      "Best AUROC: 0.5611436950146628\n"
     ]
    },
    {
     "name": "stderr",
     "output_type": "stream",
     "text": [
      "100%|██████████| 468/468 [00:39<00:00, 11.92it/s, batch_loss=0.23, loss=0.32]   \n",
      "  0%|          | 0/59 [00:00<?, ?it/s]"
     ]
    },
    {
     "name": "stdout",
     "output_type": "stream",
     "text": [
      "Adjusting learning rate of group 0 to 5.0000e-05.\n"
     ]
    },
    {
     "name": "stderr",
     "output_type": "stream",
     "text": [
      "100%|██████████| 59/59 [00:02<00:00, 28.23it/s, batch_loss=0.557, loss=0.739]\n",
      "  0%|          | 0/468 [00:00<?, ?it/s]"
     ]
    },
    {
     "name": "stdout",
     "output_type": "stream",
     "text": [
      "EPOCH 12/40: Validation average loss: 0.739312885171276 + AUC SCORE = 0.5055718475073314 + AUC SCORE THRESH 0.5510204081632653 = 0.554692082111437\n",
      "Best Accuracy: 0.5726495726495726\n",
      "Best Sensitivity: 0.9354838709677419\n",
      "Best Specificity: 0.16363636363636364\n",
      "Best Precision: 0.5576923076923077\n",
      "Best Recall: 0.9354838709677419\n",
      "Best AUROC: 0.554692082111437\n"
     ]
    },
    {
     "name": "stderr",
     "output_type": "stream",
     "text": [
      "100%|██████████| 468/468 [00:39<00:00, 11.84it/s, batch_loss=0.0919, loss=0.203]\n",
      "  0%|          | 0/59 [00:00<?, ?it/s]"
     ]
    },
    {
     "name": "stdout",
     "output_type": "stream",
     "text": [
      "Adjusting learning rate of group 0 to 5.0000e-05.\n"
     ]
    },
    {
     "name": "stderr",
     "output_type": "stream",
     "text": [
      "100%|██████████| 59/59 [00:01<00:00, 31.64it/s, batch_loss=0.599, loss=0.687]\n",
      "  0%|          | 0/468 [00:00<?, ?it/s]"
     ]
    },
    {
     "name": "stdout",
     "output_type": "stream",
     "text": [
      "EPOCH 13/40: Validation average loss: 0.6871568313089468 + AUC SCORE = 0.6181818181818182 + AUC SCORE THRESH 0.5306122448979591 = 0.656891495601173\n",
      "Best Accuracy: 0.6581196581196581\n",
      "Best Sensitivity: 0.7580645161290323\n",
      "Best Specificity: 0.5454545454545454\n",
      "Best Precision: 0.6527777777777778\n",
      "Best Recall: 0.7580645161290323\n",
      "Best AUROC: 0.656891495601173\n",
      "Saving the model...\n"
     ]
    },
    {
     "name": "stderr",
     "output_type": "stream",
     "text": [
      "100%|██████████| 468/468 [00:39<00:00, 11.84it/s, batch_loss=0.156, loss=0.117] \n",
      "  0%|          | 0/59 [00:00<?, ?it/s]"
     ]
    },
    {
     "name": "stdout",
     "output_type": "stream",
     "text": [
      "Adjusting learning rate of group 0 to 5.0000e-05.\n"
     ]
    },
    {
     "name": "stderr",
     "output_type": "stream",
     "text": [
      "100%|██████████| 59/59 [00:01<00:00, 31.77it/s, batch_loss=0.736, loss=0.683]\n",
      "  0%|          | 0/468 [00:00<?, ?it/s]"
     ]
    },
    {
     "name": "stdout",
     "output_type": "stream",
     "text": [
      "EPOCH 14/40: Validation average loss: 0.6825521719657769 + AUC SCORE = 0.632258064516129 + AUC SCORE THRESH 0.42857142857142855 = 0.628592375366569\n",
      "Best Accuracy: 0.5555555555555556\n",
      "Best Sensitivity: 0.43548387096774194\n",
      "Best Specificity: 0.6909090909090909\n",
      "Best Precision: 0.6136363636363636\n",
      "Best Recall: 0.43548387096774194\n",
      "Best AUROC: 0.628592375366569\n",
      "Saving the model...\n"
     ]
    },
    {
     "name": "stderr",
     "output_type": "stream",
     "text": [
      "100%|██████████| 468/468 [00:39<00:00, 11.89it/s, batch_loss=0.0272, loss=0.0589]\n",
      "  0%|          | 0/59 [00:00<?, ?it/s]"
     ]
    },
    {
     "name": "stdout",
     "output_type": "stream",
     "text": [
      "Adjusting learning rate of group 0 to 5.0000e-05.\n"
     ]
    },
    {
     "name": "stderr",
     "output_type": "stream",
     "text": [
      "100%|██████████| 59/59 [00:01<00:00, 31.20it/s, batch_loss=0.607, loss=0.732] \n",
      "  0%|          | 0/468 [00:00<?, ?it/s]"
     ]
    },
    {
     "name": "stdout",
     "output_type": "stream",
     "text": [
      "EPOCH 15/40: Validation average loss: 0.7316976995286295 + AUC SCORE = 0.6357771260997068 + AUC SCORE THRESH 0.5510204081632653 = 0.6274193548387097\n",
      "Best Accuracy: 0.6410256410256411\n",
      "Best Sensitivity: 0.9193548387096774\n",
      "Best Specificity: 0.32727272727272727\n",
      "Best Precision: 0.6063829787234043\n",
      "Best Recall: 0.9193548387096774\n",
      "Best AUROC: 0.6274193548387097\n",
      "Saving the model...\n"
     ]
    },
    {
     "name": "stderr",
     "output_type": "stream",
     "text": [
      "100%|██████████| 468/468 [00:39<00:00, 11.91it/s, batch_loss=0.0227, loss=0.0314] \n",
      "  0%|          | 0/59 [00:00<?, ?it/s]"
     ]
    },
    {
     "name": "stdout",
     "output_type": "stream",
     "text": [
      "Adjusting learning rate of group 0 to 5.0000e-05.\n"
     ]
    },
    {
     "name": "stderr",
     "output_type": "stream",
     "text": [
      "100%|██████████| 59/59 [00:02<00:00, 24.29it/s, batch_loss=0.534, loss=0.857] \n",
      "  0%|          | 0/468 [00:00<?, ?it/s]"
     ]
    },
    {
     "name": "stdout",
     "output_type": "stream",
     "text": [
      "EPOCH 16/40: Validation average loss: 0.8566139861941338 + AUC SCORE = 0.6263929618768329 + AUC SCORE THRESH 0.5510204081632653 = 0.6475073313782991\n",
      "Best Accuracy: 0.6410256410256411\n",
      "Best Sensitivity: 0.9838709677419355\n",
      "Best Specificity: 0.2545454545454545\n",
      "Best Precision: 0.5980392156862745\n",
      "Best Recall: 0.9838709677419355\n",
      "Best AUROC: 0.6475073313782991\n"
     ]
    },
    {
     "name": "stderr",
     "output_type": "stream",
     "text": [
      "100%|██████████| 468/468 [00:39<00:00, 11.87it/s, batch_loss=0.00962, loss=0.0213]\n",
      "  0%|          | 0/59 [00:00<?, ?it/s]"
     ]
    },
    {
     "name": "stdout",
     "output_type": "stream",
     "text": [
      "Adjusting learning rate of group 0 to 5.0000e-05.\n"
     ]
    },
    {
     "name": "stderr",
     "output_type": "stream",
     "text": [
      "100%|██████████| 59/59 [00:01<00:00, 31.59it/s, batch_loss=0.636, loss=0.72] \n",
      "  0%|          | 0/468 [00:00<?, ?it/s]"
     ]
    },
    {
     "name": "stdout",
     "output_type": "stream",
     "text": [
      "EPOCH 17/40: Validation average loss: 0.7196952271259437 + AUC SCORE = 0.6067448680351906 + AUC SCORE THRESH 0.42857142857142855 = 0.616275659824047\n",
      "Best Accuracy: 0.5982905982905983\n",
      "Best Sensitivity: 0.7580645161290323\n",
      "Best Specificity: 0.41818181818181815\n",
      "Best Precision: 0.5949367088607594\n",
      "Best Recall: 0.7580645161290323\n",
      "Best AUROC: 0.616275659824047\n"
     ]
    },
    {
     "name": "stderr",
     "output_type": "stream",
     "text": [
      "100%|██████████| 468/468 [00:39<00:00, 11.89it/s, batch_loss=0.00951, loss=0.0151]\n",
      "  0%|          | 0/59 [00:00<?, ?it/s]"
     ]
    },
    {
     "name": "stdout",
     "output_type": "stream",
     "text": [
      "Adjusting learning rate of group 0 to 5.0000e-05.\n"
     ]
    },
    {
     "name": "stderr",
     "output_type": "stream",
     "text": [
      "100%|██████████| 59/59 [00:01<00:00, 31.26it/s, batch_loss=1.03, loss=0.716] \n",
      "  0%|          | 0/468 [00:00<?, ?it/s]"
     ]
    },
    {
     "name": "stdout",
     "output_type": "stream",
     "text": [
      "EPOCH 18/40: Validation average loss: 0.716332654326649 + AUC SCORE = 0.6392961876832846 + AUC SCORE THRESH 0.44897959183673464 = 0.6306451612903226\n",
      "Best Accuracy: 0.6068376068376068\n",
      "Best Sensitivity: 0.5967741935483871\n",
      "Best Specificity: 0.6181818181818182\n",
      "Best Precision: 0.6379310344827587\n",
      "Best Recall: 0.5967741935483871\n",
      "Best AUROC: 0.6306451612903226\n",
      "Saving the model...\n"
     ]
    },
    {
     "name": "stderr",
     "output_type": "stream",
     "text": [
      "100%|██████████| 468/468 [00:39<00:00, 11.88it/s, batch_loss=0.00587, loss=0.0128] \n",
      "  0%|          | 0/59 [00:00<?, ?it/s]"
     ]
    },
    {
     "name": "stdout",
     "output_type": "stream",
     "text": [
      "Adjusting learning rate of group 0 to 5.0000e-05.\n"
     ]
    },
    {
     "name": "stderr",
     "output_type": "stream",
     "text": [
      "100%|██████████| 59/59 [00:01<00:00, 31.34it/s, batch_loss=0.572, loss=0.711]\n",
      "  0%|          | 0/468 [00:00<?, ?it/s]"
     ]
    },
    {
     "name": "stdout",
     "output_type": "stream",
     "text": [
      "EPOCH 19/40: Validation average loss: 0.7107880138239618 + AUC SCORE = 0.6442815249266862 + AUC SCORE THRESH 0.4693877551020408 = 0.6577712609970674\n",
      "Best Accuracy: 0.6495726495726496\n",
      "Best Sensitivity: 0.7580645161290323\n",
      "Best Specificity: 0.5272727272727272\n",
      "Best Precision: 0.6438356164383562\n",
      "Best Recall: 0.7580645161290323\n",
      "Best AUROC: 0.6577712609970674\n",
      "Saving the model...\n"
     ]
    },
    {
     "name": "stderr",
     "output_type": "stream",
     "text": [
      "100%|██████████| 468/468 [00:39<00:00, 11.85it/s, batch_loss=0.00398, loss=0.0097] \n",
      "  0%|          | 0/59 [00:00<?, ?it/s]"
     ]
    },
    {
     "name": "stdout",
     "output_type": "stream",
     "text": [
      "Adjusting learning rate of group 0 to 5.0000e-05.\n"
     ]
    },
    {
     "name": "stderr",
     "output_type": "stream",
     "text": [
      "100%|██████████| 59/59 [00:01<00:00, 30.63it/s, batch_loss=0.24, loss=0.857]  \n",
      "  0%|          | 0/468 [00:00<?, ?it/s]"
     ]
    },
    {
     "name": "stdout",
     "output_type": "stream",
     "text": [
      "EPOCH 20/40: Validation average loss: 0.8574162158420531 + AUC SCORE = 0.5997067448680352 + AUC SCORE THRESH 0.6326530612244897 = 0.6173020527859238\n",
      "Best Accuracy: 0.5641025641025641\n",
      "Best Sensitivity: 0.9193548387096774\n",
      "Best Specificity: 0.16363636363636364\n",
      "Best Precision: 0.5533980582524272\n",
      "Best Recall: 0.9193548387096774\n",
      "Best AUROC: 0.6173020527859238\n"
     ]
    },
    {
     "name": "stderr",
     "output_type": "stream",
     "text": [
      "100%|██████████| 468/468 [00:39<00:00, 11.88it/s, batch_loss=0.00257, loss=0.00928]\n",
      "  0%|          | 0/59 [00:00<?, ?it/s]"
     ]
    },
    {
     "name": "stdout",
     "output_type": "stream",
     "text": [
      "Adjusting learning rate of group 0 to 5.0000e-05.\n"
     ]
    },
    {
     "name": "stderr",
     "output_type": "stream",
     "text": [
      "100%|██████████| 59/59 [00:02<00:00, 29.18it/s, batch_loss=0.405, loss=0.816] \n",
      "  0%|          | 0/468 [00:00<?, ?it/s]"
     ]
    },
    {
     "name": "stdout",
     "output_type": "stream",
     "text": [
      "EPOCH 21/40: Validation average loss: 0.8159323657973337 + AUC SCORE = 0.6258064516129033 + AUC SCORE THRESH 0.5714285714285714 = 0.6203812316715543\n",
      "Best Accuracy: 0.5897435897435898\n",
      "Best Sensitivity: 0.8548387096774194\n",
      "Best Specificity: 0.2909090909090909\n",
      "Best Precision: 0.5760869565217391\n",
      "Best Recall: 0.8548387096774194\n",
      "Best AUROC: 0.6203812316715543\n"
     ]
    },
    {
     "name": "stderr",
     "output_type": "stream",
     "text": [
      "100%|██████████| 468/468 [00:39<00:00, 11.92it/s, batch_loss=0.00373, loss=0.00915]\n",
      "  0%|          | 0/59 [00:00<?, ?it/s]"
     ]
    },
    {
     "name": "stdout",
     "output_type": "stream",
     "text": [
      "Adjusting learning rate of group 0 to 5.0000e-05.\n"
     ]
    },
    {
     "name": "stderr",
     "output_type": "stream",
     "text": [
      "100%|██████████| 59/59 [00:01<00:00, 31.29it/s, batch_loss=0.525, loss=0.789]\n",
      "  0%|          | 0/468 [00:00<?, ?it/s]"
     ]
    },
    {
     "name": "stdout",
     "output_type": "stream",
     "text": [
      "EPOCH 22/40: Validation average loss: 0.7886460028209928 + AUC SCORE = 0.6595307917888564 + AUC SCORE THRESH 0.7346938775510203 = 0.6448680351906159\n",
      "Best Accuracy: 0.6153846153846154\n",
      "Best Sensitivity: 0.8387096774193549\n",
      "Best Specificity: 0.36363636363636365\n",
      "Best Precision: 0.5977011494252874\n",
      "Best Recall: 0.8387096774193549\n",
      "Best AUROC: 0.6448680351906159\n",
      "Saving the model...\n"
     ]
    },
    {
     "name": "stderr",
     "output_type": "stream",
     "text": [
      "100%|██████████| 468/468 [00:39<00:00, 11.89it/s, batch_loss=0.00353, loss=0.00748] \n",
      "  0%|          | 0/59 [00:00<?, ?it/s]"
     ]
    },
    {
     "name": "stdout",
     "output_type": "stream",
     "text": [
      "Adjusting learning rate of group 0 to 5.0000e-05.\n"
     ]
    },
    {
     "name": "stderr",
     "output_type": "stream",
     "text": [
      "100%|██████████| 59/59 [00:01<00:00, 30.83it/s, batch_loss=0.656, loss=0.71]  \n",
      "  0%|          | 0/468 [00:00<?, ?it/s]"
     ]
    },
    {
     "name": "stdout",
     "output_type": "stream",
     "text": [
      "EPOCH 23/40: Validation average loss: 0.7103194682779959 + AUC SCORE = 0.6736070381231672 + AUC SCORE THRESH 0.5102040816326531 = 0.6870967741935483\n",
      "Best Accuracy: 0.6923076923076923\n",
      "Best Sensitivity: 0.7903225806451613\n",
      "Best Specificity: 0.5818181818181818\n",
      "Best Precision: 0.6805555555555556\n",
      "Best Recall: 0.7903225806451613\n",
      "Best AUROC: 0.6870967741935483\n",
      "Saving the model...\n"
     ]
    },
    {
     "name": "stderr",
     "output_type": "stream",
     "text": [
      "100%|██████████| 468/468 [00:39<00:00, 11.88it/s, batch_loss=0.00186, loss=0.00728] \n",
      "  0%|          | 0/59 [00:00<?, ?it/s]"
     ]
    },
    {
     "name": "stdout",
     "output_type": "stream",
     "text": [
      "Adjusting learning rate of group 0 to 5.0000e-05.\n"
     ]
    },
    {
     "name": "stderr",
     "output_type": "stream",
     "text": [
      "100%|██████████| 59/59 [00:01<00:00, 31.36it/s, batch_loss=0.615, loss=0.745] \n",
      "  0%|          | 0/468 [00:00<?, ?it/s]"
     ]
    },
    {
     "name": "stdout",
     "output_type": "stream",
     "text": [
      "EPOCH 24/40: Validation average loss: 0.7445755219560558 + AUC SCORE = 0.6648093841642229 + AUC SCORE THRESH 0.5714285714285714 = 0.6649560117302052\n",
      "Best Accuracy: 0.6495726495726496\n",
      "Best Sensitivity: 0.8064516129032258\n",
      "Best Specificity: 0.4727272727272727\n",
      "Best Precision: 0.6329113924050633\n",
      "Best Recall: 0.8064516129032258\n",
      "Best AUROC: 0.6649560117302052\n"
     ]
    },
    {
     "name": "stderr",
     "output_type": "stream",
     "text": [
      "100%|██████████| 468/468 [00:39<00:00, 11.93it/s, batch_loss=0.00255, loss=0.00714] \n",
      "  0%|          | 0/59 [00:00<?, ?it/s]"
     ]
    },
    {
     "name": "stdout",
     "output_type": "stream",
     "text": [
      "Adjusting learning rate of group 0 to 5.0000e-05.\n"
     ]
    },
    {
     "name": "stderr",
     "output_type": "stream",
     "text": [
      "100%|██████████| 59/59 [00:02<00:00, 27.44it/s, batch_loss=0.311, loss=0.834] \n",
      "  0%|          | 0/468 [00:00<?, ?it/s]"
     ]
    },
    {
     "name": "stdout",
     "output_type": "stream",
     "text": [
      "EPOCH 25/40: Validation average loss: 0.8338698241543971 + AUC SCORE = 0.6454545454545455 + AUC SCORE THRESH 0.6326530612244897 = 0.6385630498533725\n",
      "Best Accuracy: 0.6410256410256411\n",
      "Best Sensitivity: 0.9193548387096774\n",
      "Best Specificity: 0.32727272727272727\n",
      "Best Precision: 0.6063829787234043\n",
      "Best Recall: 0.9193548387096774\n",
      "Best AUROC: 0.6385630498533725\n"
     ]
    },
    {
     "name": "stderr",
     "output_type": "stream",
     "text": [
      "100%|██████████| 468/468 [00:39<00:00, 11.91it/s, batch_loss=0.00141, loss=0.0066]  \n",
      "  0%|          | 0/59 [00:00<?, ?it/s]"
     ]
    },
    {
     "name": "stdout",
     "output_type": "stream",
     "text": [
      "Adjusting learning rate of group 0 to 5.0000e-05.\n"
     ]
    },
    {
     "name": "stderr",
     "output_type": "stream",
     "text": [
      "100%|██████████| 59/59 [00:01<00:00, 30.94it/s, batch_loss=0.225, loss=0.893] \n",
      "  0%|          | 0/468 [00:00<?, ?it/s]"
     ]
    },
    {
     "name": "stdout",
     "output_type": "stream",
     "text": [
      "EPOCH 26/40: Validation average loss: 0.8926065344426591 + AUC SCORE = 0.6149560117302052 + AUC SCORE THRESH 0.8163265306122448 = 0.624633431085044\n",
      "Best Accuracy: 0.5811965811965812\n",
      "Best Sensitivity: 0.9032258064516129\n",
      "Best Specificity: 0.21818181818181817\n",
      "Best Precision: 0.5656565656565656\n",
      "Best Recall: 0.9032258064516129\n",
      "Best AUROC: 0.624633431085044\n"
     ]
    },
    {
     "name": "stderr",
     "output_type": "stream",
     "text": [
      "100%|██████████| 468/468 [00:39<00:00, 11.91it/s, batch_loss=0.00147, loss=0.00647] \n",
      "  0%|          | 0/59 [00:00<?, ?it/s]"
     ]
    },
    {
     "name": "stdout",
     "output_type": "stream",
     "text": [
      "Adjusting learning rate of group 0 to 5.0000e-05.\n"
     ]
    },
    {
     "name": "stderr",
     "output_type": "stream",
     "text": [
      "100%|██████████| 59/59 [00:02<00:00, 26.12it/s, batch_loss=0.548, loss=0.846] \n",
      "  0%|          | 0/468 [00:00<?, ?it/s]"
     ]
    },
    {
     "name": "stdout",
     "output_type": "stream",
     "text": [
      "EPOCH 27/40: Validation average loss: 0.8461090317785235 + AUC SCORE = 0.6366568914956011 + AUC SCORE THRESH 0.836734693877551 = 0.620674486803519\n",
      "Best Accuracy: 0.5897435897435898\n",
      "Best Sensitivity: 0.8709677419354839\n",
      "Best Specificity: 0.2727272727272727\n",
      "Best Precision: 0.574468085106383\n",
      "Best Recall: 0.8709677419354839\n",
      "Best AUROC: 0.620674486803519\n"
     ]
    },
    {
     "name": "stderr",
     "output_type": "stream",
     "text": [
      "100%|██████████| 468/468 [00:39<00:00, 11.93it/s, batch_loss=0.00096, loss=0.00595] \n",
      "  0%|          | 0/59 [00:00<?, ?it/s]"
     ]
    },
    {
     "name": "stdout",
     "output_type": "stream",
     "text": [
      "Adjusting learning rate of group 0 to 5.0000e-05.\n"
     ]
    },
    {
     "name": "stderr",
     "output_type": "stream",
     "text": [
      "100%|██████████| 59/59 [00:01<00:00, 31.39it/s, batch_loss=0.271, loss=0.945] \n",
      "  0%|          | 0/468 [00:00<?, ?it/s]"
     ]
    },
    {
     "name": "stdout",
     "output_type": "stream",
     "text": [
      "EPOCH 28/40: Validation average loss: 0.9448151762707758 + AUC SCORE = 0.6002932551319649 + AUC SCORE THRESH 0.8571428571428571 = 0.6105571847507331\n",
      "Best Accuracy: 0.5811965811965812\n",
      "Best Sensitivity: 0.9032258064516129\n",
      "Best Specificity: 0.21818181818181817\n",
      "Best Precision: 0.5656565656565656\n",
      "Best Recall: 0.9032258064516129\n",
      "Best AUROC: 0.6105571847507331\n"
     ]
    },
    {
     "name": "stderr",
     "output_type": "stream",
     "text": [
      "100%|██████████| 468/468 [00:39<00:00, 11.97it/s, batch_loss=0.000565, loss=0.00585] \n",
      "  0%|          | 0/59 [00:00<?, ?it/s]"
     ]
    },
    {
     "name": "stdout",
     "output_type": "stream",
     "text": [
      "Adjusting learning rate of group 0 to 5.0000e-05.\n"
     ]
    },
    {
     "name": "stderr",
     "output_type": "stream",
     "text": [
      "100%|██████████| 59/59 [00:02<00:00, 27.91it/s, batch_loss=0.271, loss=0.966] \n",
      "  0%|          | 0/468 [00:00<?, ?it/s]"
     ]
    },
    {
     "name": "stdout",
     "output_type": "stream",
     "text": [
      "EPOCH 29/40: Validation average loss: 0.9663168187805656 + AUC SCORE = 0.6252199413489736 + AUC SCORE THRESH 0.7755102040816326 = 0.6255131964809384\n",
      "Best Accuracy: 0.5726495726495726\n",
      "Best Sensitivity: 0.9193548387096774\n",
      "Best Specificity: 0.18181818181818182\n",
      "Best Precision: 0.5588235294117647\n",
      "Best Recall: 0.9193548387096774\n",
      "Best AUROC: 0.6255131964809384\n"
     ]
    },
    {
     "name": "stderr",
     "output_type": "stream",
     "text": [
      "100%|██████████| 468/468 [00:39<00:00, 11.95it/s, batch_loss=0.000864, loss=0.00557] \n",
      "  0%|          | 0/59 [00:00<?, ?it/s]"
     ]
    },
    {
     "name": "stdout",
     "output_type": "stream",
     "text": [
      "Adjusting learning rate of group 0 to 5.0000e-05.\n"
     ]
    },
    {
     "name": "stderr",
     "output_type": "stream",
     "text": [
      "100%|██████████| 59/59 [00:01<00:00, 31.34it/s, batch_loss=1.11, loss=0.712] \n"
     ]
    },
    {
     "name": "stdout",
     "output_type": "stream",
     "text": [
      "EPOCH 30/40: Validation average loss: 0.7115785181522369 + AUC SCORE = 0.673900293255132 + AUC SCORE THRESH 0.4693877551020408 = 0.699266862170088\n",
      "Best Accuracy: 0.6410256410256411\n",
      "Best Sensitivity: 0.6129032258064516\n",
      "Best Specificity: 0.6727272727272727\n",
      "Best Precision: 0.6785714285714286\n",
      "Best Recall: 0.6129032258064516\n",
      "Best AUROC: 0.699266862170088\n",
      "Saving the model...\n"
     ]
    },
    {
     "name": "stderr",
     "output_type": "stream",
     "text": [
      "100%|██████████| 468/468 [00:39<00:00, 11.95it/s, batch_loss=0.000601, loss=0.00574] \n",
      "  0%|          | 0/59 [00:00<?, ?it/s]"
     ]
    },
    {
     "name": "stdout",
     "output_type": "stream",
     "text": [
      "Adjusting learning rate of group 0 to 5.0000e-05.\n"
     ]
    },
    {
     "name": "stderr",
     "output_type": "stream",
     "text": [
      "100%|██████████| 59/59 [00:02<00:00, 26.15it/s, batch_loss=0.551, loss=0.723] \n",
      "  0%|          | 0/468 [00:00<?, ?it/s]"
     ]
    },
    {
     "name": "stdout",
     "output_type": "stream",
     "text": [
      "EPOCH 31/40: Validation average loss: 0.7232400210479558 + AUC SCORE = 0.6530791788856305 + AUC SCORE THRESH 0.6122448979591836 = 0.6417888563049853\n",
      "Best Accuracy: 0.6068376068376068\n",
      "Best Sensitivity: 0.6774193548387096\n",
      "Best Specificity: 0.5272727272727272\n",
      "Best Precision: 0.6176470588235294\n",
      "Best Recall: 0.6774193548387096\n",
      "Best AUROC: 0.6417888563049853\n"
     ]
    },
    {
     "name": "stderr",
     "output_type": "stream",
     "text": [
      "100%|██████████| 468/468 [00:39<00:00, 11.94it/s, batch_loss=0.000613, loss=0.00529] \n",
      "  0%|          | 0/59 [00:00<?, ?it/s]"
     ]
    },
    {
     "name": "stdout",
     "output_type": "stream",
     "text": [
      "Adjusting learning rate of group 0 to 5.0000e-05.\n"
     ]
    },
    {
     "name": "stderr",
     "output_type": "stream",
     "text": [
      "100%|██████████| 59/59 [00:01<00:00, 31.91it/s, batch_loss=0.654, loss=0.773] \n",
      "  0%|          | 0/468 [00:00<?, ?it/s]"
     ]
    },
    {
     "name": "stdout",
     "output_type": "stream",
     "text": [
      "EPOCH 32/40: Validation average loss: 0.7733431657365823 + AUC SCORE = 0.6741935483870967 + AUC SCORE THRESH 0.5714285714285714 = 0.6658357771260996\n",
      "Best Accuracy: 0.6068376068376068\n",
      "Best Sensitivity: 0.8548387096774194\n",
      "Best Specificity: 0.32727272727272727\n",
      "Best Precision: 0.5888888888888889\n",
      "Best Recall: 0.8548387096774194\n",
      "Best AUROC: 0.6658357771260996\n",
      "Saving the model...\n"
     ]
    },
    {
     "name": "stderr",
     "output_type": "stream",
     "text": [
      "100%|██████████| 468/468 [00:39<00:00, 11.92it/s, batch_loss=0.000647, loss=0.00605]\n",
      "  0%|          | 0/59 [00:00<?, ?it/s]"
     ]
    },
    {
     "name": "stdout",
     "output_type": "stream",
     "text": [
      "Adjusting learning rate of group 0 to 5.0000e-05.\n"
     ]
    },
    {
     "name": "stderr",
     "output_type": "stream",
     "text": [
      "100%|██████████| 59/59 [00:02<00:00, 28.83it/s, batch_loss=0.911, loss=0.745] \n",
      "  0%|          | 0/468 [00:00<?, ?it/s]"
     ]
    },
    {
     "name": "stdout",
     "output_type": "stream",
     "text": [
      "EPOCH 33/40: Validation average loss: 0.7454415633643078 + AUC SCORE = 0.675366568914956 + AUC SCORE THRESH 0.5918367346938775 = 0.6649560117302052\n",
      "Best Accuracy: 0.6581196581196581\n",
      "Best Sensitivity: 0.7258064516129032\n",
      "Best Specificity: 0.5818181818181818\n",
      "Best Precision: 0.6617647058823529\n",
      "Best Recall: 0.7258064516129032\n",
      "Best AUROC: 0.6649560117302052\n",
      "Saving the model...\n"
     ]
    },
    {
     "name": "stderr",
     "output_type": "stream",
     "text": [
      "100%|██████████| 468/468 [00:39<00:00, 11.96it/s, batch_loss=0.000445, loss=0.00503]\n",
      "  0%|          | 0/59 [00:00<?, ?it/s]"
     ]
    },
    {
     "name": "stdout",
     "output_type": "stream",
     "text": [
      "Adjusting learning rate of group 0 to 5.0000e-05.\n"
     ]
    },
    {
     "name": "stderr",
     "output_type": "stream",
     "text": [
      "100%|██████████| 59/59 [00:01<00:00, 31.25it/s, batch_loss=0.405, loss=0.799] \n",
      "  0%|          | 0/468 [00:00<?, ?it/s]"
     ]
    },
    {
     "name": "stdout",
     "output_type": "stream",
     "text": [
      "EPOCH 34/40: Validation average loss: 0.7993163709228827 + AUC SCORE = 0.6747800586510264 + AUC SCORE THRESH 0.6938775510204082 = 0.6618768328445748\n",
      "Best Accuracy: 0.6581196581196581\n",
      "Best Sensitivity: 0.8548387096774194\n",
      "Best Specificity: 0.43636363636363634\n",
      "Best Precision: 0.6309523809523809\n",
      "Best Recall: 0.8548387096774194\n",
      "Best AUROC: 0.6618768328445748\n"
     ]
    },
    {
     "name": "stderr",
     "output_type": "stream",
     "text": [
      "100%|██████████| 468/468 [00:39<00:00, 11.91it/s, batch_loss=0.000422, loss=0.00485] \n",
      "  0%|          | 0/59 [00:00<?, ?it/s]"
     ]
    },
    {
     "name": "stdout",
     "output_type": "stream",
     "text": [
      "Adjusting learning rate of group 0 to 5.0000e-05.\n"
     ]
    },
    {
     "name": "stderr",
     "output_type": "stream",
     "text": [
      "100%|██████████| 59/59 [00:01<00:00, 30.96it/s, batch_loss=0.535, loss=0.8]   \n",
      "  0%|          | 0/468 [00:00<?, ?it/s]"
     ]
    },
    {
     "name": "stdout",
     "output_type": "stream",
     "text": [
      "EPOCH 35/40: Validation average loss: 0.7998888750828929 + AUC SCORE = 0.6806451612903226 + AUC SCORE THRESH 0.5714285714285714 = 0.7011730205278593\n",
      "Best Accuracy: 0.6666666666666666\n",
      "Best Sensitivity: 0.8387096774193549\n",
      "Best Specificity: 0.4727272727272727\n",
      "Best Precision: 0.6419753086419753\n",
      "Best Recall: 0.8387096774193549\n",
      "Best AUROC: 0.7011730205278593\n",
      "Saving the model...\n"
     ]
    },
    {
     "name": "stderr",
     "output_type": "stream",
     "text": [
      "100%|██████████| 468/468 [00:39<00:00, 11.90it/s, batch_loss=0.000293, loss=0.00457]\n",
      "  0%|          | 0/59 [00:00<?, ?it/s]"
     ]
    },
    {
     "name": "stdout",
     "output_type": "stream",
     "text": [
      "Adjusting learning rate of group 0 to 5.0000e-05.\n"
     ]
    },
    {
     "name": "stderr",
     "output_type": "stream",
     "text": [
      "100%|██████████| 59/59 [00:01<00:00, 31.00it/s, batch_loss=0.464, loss=0.75]  \n",
      "  0%|          | 0/468 [00:00<?, ?it/s]"
     ]
    },
    {
     "name": "stdout",
     "output_type": "stream",
     "text": [
      "EPOCH 36/40: Validation average loss: 0.7502138054598186 + AUC SCORE = 0.6249266862170089 + AUC SCORE THRESH 0.6122448979591836 = 0.6335777126099706\n",
      "Best Accuracy: 0.6239316239316239\n",
      "Best Sensitivity: 0.8548387096774194\n",
      "Best Specificity: 0.36363636363636365\n",
      "Best Precision: 0.6022727272727273\n",
      "Best Recall: 0.8548387096774194\n",
      "Best AUROC: 0.6335777126099706\n"
     ]
    },
    {
     "name": "stderr",
     "output_type": "stream",
     "text": [
      "100%|██████████| 468/468 [00:39<00:00, 11.94it/s, batch_loss=0.000304, loss=0.00465]\n",
      "  0%|          | 0/59 [00:00<?, ?it/s]"
     ]
    },
    {
     "name": "stdout",
     "output_type": "stream",
     "text": [
      "Adjusting learning rate of group 0 to 5.0000e-05.\n"
     ]
    },
    {
     "name": "stderr",
     "output_type": "stream",
     "text": [
      "100%|██████████| 59/59 [00:02<00:00, 29.12it/s, batch_loss=0.486, loss=0.918] \n",
      "  0%|          | 0/468 [00:00<?, ?it/s]"
     ]
    },
    {
     "name": "stdout",
     "output_type": "stream",
     "text": [
      "EPOCH 37/40: Validation average loss: 0.9183316615931059 + AUC SCORE = 0.604692082111437 + AUC SCORE THRESH 0.3877551020408163 = 0.6121700879765396\n",
      "Best Accuracy: 0.5982905982905983\n",
      "Best Sensitivity: 0.8387096774193549\n",
      "Best Specificity: 0.32727272727272727\n",
      "Best Precision: 0.5842696629213483\n",
      "Best Recall: 0.8387096774193549\n",
      "Best AUROC: 0.6121700879765396\n"
     ]
    },
    {
     "name": "stderr",
     "output_type": "stream",
     "text": [
      "100%|██████████| 468/468 [00:39<00:00, 11.93it/s, batch_loss=0.000266, loss=0.00481]\n",
      "  0%|          | 0/59 [00:00<?, ?it/s]"
     ]
    },
    {
     "name": "stdout",
     "output_type": "stream",
     "text": [
      "Adjusting learning rate of group 0 to 5.0000e-05.\n"
     ]
    },
    {
     "name": "stderr",
     "output_type": "stream",
     "text": [
      "100%|██████████| 59/59 [00:01<00:00, 29.79it/s, batch_loss=0.777, loss=0.847] \n",
      "  0%|          | 0/468 [00:00<?, ?it/s]"
     ]
    },
    {
     "name": "stdout",
     "output_type": "stream",
     "text": [
      "EPOCH 38/40: Validation average loss: 0.8470530419657796 + AUC SCORE = 0.6404692082111437 + AUC SCORE THRESH 0.673469387755102 = 0.6296187683284457\n",
      "Best Accuracy: 0.6068376068376068\n",
      "Best Sensitivity: 0.7903225806451613\n",
      "Best Specificity: 0.4\n",
      "Best Precision: 0.5975609756097561\n",
      "Best Recall: 0.7903225806451613\n",
      "Best AUROC: 0.6296187683284457\n"
     ]
    },
    {
     "name": "stderr",
     "output_type": "stream",
     "text": [
      "100%|██████████| 468/468 [00:39<00:00, 11.84it/s, batch_loss=0.000304, loss=0.00445]\n",
      "  0%|          | 0/59 [00:00<?, ?it/s]"
     ]
    },
    {
     "name": "stdout",
     "output_type": "stream",
     "text": [
      "Adjusting learning rate of group 0 to 5.0000e-05.\n"
     ]
    },
    {
     "name": "stderr",
     "output_type": "stream",
     "text": [
      "100%|██████████| 59/59 [00:01<00:00, 30.69it/s, batch_loss=0.411, loss=0.795] \n"
     ]
    },
    {
     "name": "stdout",
     "output_type": "stream",
     "text": [
      "EPOCH 39/40: Validation average loss: 0.794994903128531 + AUC SCORE = 0.6533724340175953 + AUC SCORE THRESH 0.5918367346938775 = 0.6416422287390029\n",
      "Best Accuracy: 0.6153846153846154\n",
      "Best Sensitivity: 0.7903225806451613\n",
      "Best Specificity: 0.41818181818181815\n",
      "Best Precision: 0.6049382716049383\n",
      "Best Recall: 0.7903225806451613\n",
      "Best AUROC: 0.6416422287390029\n",
      "0.6806451612903226\n"
     ]
    }
   ],
   "source": [
    "model = monai.networks.nets.resnet10(spatial_dims=3, n_input_channels=1, n_classes=1)\n",
    "optimizer = optim.Adam(model.parameters(), lr=0.0001)\n",
    "\n",
    "scheduler = lr_scheduler.MultiStepLR(optimizer, milestones=[10], gamma=0.5, last_epoch=-1, verbose=True)\n",
    "\n",
    "model.zero_grad()\n",
    "model.to(device)\n",
    "best_loss = 9999\n",
    "best_auc = 0\n",
    "criterion = nn.BCEWithLogitsLoss()\n",
    "best_model = None\n",
    "final_thresh = 0.5\n",
    "best_val_acc = 0\n",
    "for counter in range(N_EPOCHS):\n",
    "\n",
    "    epoch_iterator_train = tqdm(train_dl)\n",
    "    tr_loss = 0.0\n",
    "    for step, batch in enumerate(epoch_iterator_train):\n",
    "        model.train()\n",
    "        images, targets = batch[\"image\"].to(device), batch[\"target\"].to(device)\n",
    "\n",
    "        outputs = model(images)\n",
    "        targets = targets  # .view(-1, 1)\n",
    "        loss = criterion(outputs.squeeze(1), targets.float())\n",
    "\n",
    "        loss.backward()\n",
    "        optimizer.step()\n",
    "        model.zero_grad()\n",
    "        optimizer.zero_grad()\n",
    "\n",
    "        tr_loss += loss.item()\n",
    "        epoch_iterator_train.set_postfix(\n",
    "            batch_loss=(loss.item()), loss=(tr_loss / (step + 1))\n",
    "        )\n",
    "    scheduler.step()  # Update learning rate schedule\n",
    "\n",
    "    if do_valid:\n",
    "        with torch.no_grad():\n",
    "            val_loss = 0.0\n",
    "            preds = []\n",
    "            true_labels = []\n",
    "            case_ids = []\n",
    "            epoch_iterator_val = tqdm(validation_dl)\n",
    "            for step, batch in enumerate(epoch_iterator_val):\n",
    "                model.eval()\n",
    "                images, targets = batch[\"image\"].to(device), batch[\"target\"].to(device)\n",
    "\n",
    "                outputs = model(images)\n",
    "                targets = targets  # .view(-1, 1)\n",
    "                loss = criterion(outputs.squeeze(1), targets.float())\n",
    "                val_loss += loss.item()\n",
    "                epoch_iterator_val.set_postfix(\n",
    "                    batch_loss=(loss.item()), loss=(val_loss / (step + 1))\n",
    "                )\n",
    "                preds.append(outputs.sigmoid().detach().cpu().numpy())\n",
    "                true_labels.append(targets.cpu().numpy())\n",
    "                case_ids.append(batch[\"case_id\"])\n",
    "        preds = np.vstack(preds).T[0].tolist()\n",
    "        true_labels = np.hstack(true_labels).tolist()\n",
    "        case_ids = np.hstack(case_ids).tolist()\n",
    "        auc_score = roc_auc_score(true_labels, preds)\n",
    "        auc_score_adj_best = 0\n",
    "        best_acc = 0\n",
    "        best_recall = 0\n",
    "        best_precision = 0\n",
    "        best_specificity = 0\n",
    "        best_sensitivity = 0\n",
    "        best_f_score = 0\n",
    "        for thresh in np.linspace(0, 1, 50):\n",
    "            adj_preds = list(np.array(preds) > thresh)\n",
    "            auc_score_adj = roc_auc_score(true_labels, adj_preds)\n",
    "            if auc_score_adj > auc_score_adj_best:\n",
    "                best_thresh = thresh\n",
    "                auc_score_adj_best = auc_score_adj\n",
    "        adj_preds = list(np.array(preds) > 0.5)\n",
    "        if accuracy_score(true_labels, adj_preds) > best_acc:\n",
    "            best_acc = max(best_acc, accuracy_score(true_labels, adj_preds))\n",
    "            tn, fp, fn, tp = confusion_matrix(true_labels, adj_preds).ravel()\n",
    "            specificity = tn/(tn+fp)\n",
    "            sensitivity = tp/(tp+fn)\n",
    "            precision = tp/(tp+fp)\n",
    "            recall = tp/(tp+fn)\n",
    "            f_score = 2*precision*recall/(precision+recall)\n",
    "#         best_recall = max(best_recall, recall)\n",
    "#         best_precision = max(best_precision, precision)\n",
    "#         best_specificity = max(best_specificity, specificity)\n",
    "#         best_sensitivity = max(best_sensitivity, sensitivity)\n",
    "#         best_f_score = max(best_f_score, f_score)\n",
    "                \n",
    "\n",
    "        print(\n",
    "            f\"EPOCH {counter}/{N_EPOCHS}: Validation average loss: {val_loss/(step+1)} + AUC SCORE = {auc_score} + AUC SCORE THRESH {best_thresh} = {auc_score_adj_best}\"\n",
    "        )\n",
    "        print(f'Best Accuracy: {best_acc}')\n",
    "        print(f'Best Sensitivity: {sensitivity}')\n",
    "        print(f'Best Specificity: {specificity}')\n",
    "        print(f'Best Precision: {precision}')\n",
    "        print(f'Best Recall: {recall}')\n",
    "        print(f'Best AUROC: {auc_score_adj_best}')\n",
    "        best_val_acc = max(best_val_acc, best_acc)\n",
    "        if auc_score > best_auc:\n",
    "            print(\"Saving the model...\")\n",
    "            final_thresh = best_thresh\n",
    "            all_files = os.listdir(\"./\")\n",
    "\n",
    "            for f in all_files:\n",
    "                if f\"{MODEL_NAME}_{type_}_fold{curr_fold}\" in f:\n",
    "                    os.remove(f\"./{f}\")\n",
    "\n",
    "            best_auc = auc_score\n",
    "            best_model = f\"./3d-{MODEL_NAME}_{type_}_fold{curr_fold}_{round(best_auc,3)}.pth\"\n",
    "            torch.save(\n",
    "                model.state_dict(),\n",
    "                f\"./3d-{MODEL_NAME}_{type_}_fold{curr_fold}_{round(best_auc,3)}.pth\",\n",
    "            )\n",
    "\n",
    "print(best_auc)"
   ]
  },
  {
   "cell_type": "code",
   "execution_count": 17,
   "metadata": {
    "execution": {
     "iopub.execute_input": "2021-12-27T00:08:40.281717Z",
     "iopub.status.busy": "2021-12-27T00:08:40.281449Z",
     "iopub.status.idle": "2021-12-27T00:08:42.562523Z",
     "shell.execute_reply": "2021-12-27T00:08:42.561535Z",
     "shell.execute_reply.started": "2021-12-27T00:08:40.281688Z"
    }
   },
   "outputs": [
    {
     "name": "stderr",
     "output_type": "stream",
     "text": [
      "100%|██████████| 117/117 [00:02<00:00, 52.71it/s]\n"
     ]
    }
   ],
   "source": [
    "tta_true_labels = []\n",
    "tta_preds = []\n",
    "test_dataset = BrainRSNADataset(data=val_df, mri_type=type_, is_train=True)\n",
    "test_dl = torch.utils.data.DataLoader(\n",
    "        test_dataset, batch_size=1, shuffle=False, num_workers=4\n",
    "    )\n",
    "\n",
    "# preds_f = np.zeros(len(sample))\n",
    "# for fold in range(5):\n",
    "image_ids = []\n",
    "model.load_state_dict(torch.load(best_model))\n",
    "preds = []\n",
    "labels = []\n",
    "epoch_iterator_test = tqdm(test_dl)\n",
    "with torch.no_grad():\n",
    "    for  step, batch in enumerate(epoch_iterator_test):\n",
    "        model.eval()\n",
    "        images = batch[\"image\"].to(device)\n",
    "\n",
    "        outputs = model(images)\n",
    "        preds.append(outputs.sigmoid().detach().cpu().numpy())\n",
    "        image_ids.append(batch[\"case_id\"].detach().cpu().numpy())\n",
    "        labels.append(batch['target'].detach().cpu().numpy())\n",
    "\n",
    "#     preds_f += np.vstack(preds).T[0]/5\n",
    "\n",
    "#     ids_f = np.hstack(image_ids)"
   ]
  },
  {
   "cell_type": "code",
   "execution_count": 18,
   "metadata": {
    "execution": {
     "iopub.execute_input": "2021-12-27T00:08:42.564429Z",
     "iopub.status.busy": "2021-12-27T00:08:42.564054Z",
     "iopub.status.idle": "2021-12-27T00:08:42.570783Z",
     "shell.execute_reply": "2021-12-27T00:08:42.569480Z",
     "shell.execute_reply.started": "2021-12-27T00:08:42.564386Z"
    }
   },
   "outputs": [],
   "source": [
    "all_preds = []\n",
    "for batch in preds:\n",
    "    for pred in batch:\n",
    "        all_preds.append(pred[0])"
   ]
  },
  {
   "cell_type": "code",
   "execution_count": 19,
   "metadata": {
    "execution": {
     "iopub.execute_input": "2021-12-27T00:08:42.572580Z",
     "iopub.status.busy": "2021-12-27T00:08:42.572202Z",
     "iopub.status.idle": "2021-12-27T00:08:42.580636Z",
     "shell.execute_reply": "2021-12-27T00:08:42.579653Z",
     "shell.execute_reply.started": "2021-12-27T00:08:42.572542Z"
    }
   },
   "outputs": [],
   "source": [
    "all_labels = []\n",
    "for batch in labels:\n",
    "    for lab in batch:\n",
    "        all_labels.append(lab)"
   ]
  },
  {
   "cell_type": "code",
   "execution_count": 20,
   "metadata": {
    "execution": {
     "iopub.execute_input": "2021-12-27T00:08:42.582245Z",
     "iopub.status.busy": "2021-12-27T00:08:42.581862Z",
     "iopub.status.idle": "2021-12-27T00:08:42.589710Z",
     "shell.execute_reply": "2021-12-27T00:08:42.588880Z",
     "shell.execute_reply.started": "2021-12-27T00:08:42.582208Z"
    }
   },
   "outputs": [],
   "source": [
    "assert len(all_preds) == len(all_labels)"
   ]
  },
  {
   "cell_type": "code",
   "execution_count": 21,
   "metadata": {
    "execution": {
     "iopub.execute_input": "2021-12-27T00:08:42.591606Z",
     "iopub.status.busy": "2021-12-27T00:08:42.591030Z",
     "iopub.status.idle": "2021-12-27T00:08:42.606940Z",
     "shell.execute_reply": "2021-12-27T00:08:42.606019Z",
     "shell.execute_reply.started": "2021-12-27T00:08:42.591455Z"
    }
   },
   "outputs": [
    {
     "name": "stdout",
     "output_type": "stream",
     "text": [
      "Best Accuracy: 0.7094017094017094\n",
      "Best Sensitivity: 0.8387096774193549\n",
      "Best Specificity: 0.5636363636363636\n",
      "Best Precision: 0.6842105263157895\n",
      "Best Recall: 0.8387096774193549\n",
      "Best AUROC: 0.7011730205278593\n"
     ]
    }
   ],
   "source": [
    "from sklearn.metrics import accuracy_score, roc_auc_score\n",
    "\n",
    "thresh = final_thresh\n",
    "all_preds_thresh = [val >= thresh for val in all_preds]\n",
    "best_acc = accuracy_score(all_labels, all_preds_thresh)\n",
    "auc_score = roc_auc_score(all_labels, all_preds_thresh)\n",
    "tn, fp, fn, tp = confusion_matrix(all_labels, all_preds_thresh).ravel()\n",
    "specificity = tn/(tn+fp)\n",
    "sensitivity = tp/(tp+fn)\n",
    "precision = tp/(tp+fp)\n",
    "recall = tp/(tp+fn)\n",
    "\n",
    "print(f'Best Accuracy: {best_acc}')\n",
    "print(f'Best Sensitivity: {sensitivity}')\n",
    "print(f'Best Specificity: {specificity}')\n",
    "print(f'Best Precision: {precision}')\n",
    "print(f'Best Recall: {recall}')\n",
    "print(f'Best AUROC: {auc_score}')"
   ]
  },
  {
   "cell_type": "code",
   "execution_count": null,
   "metadata": {},
   "outputs": [],
   "source": []
  }
 ],
 "metadata": {
  "kernelspec": {
   "display_name": "Python 3",
   "language": "python",
   "name": "python3"
  },
  "language_info": {
   "codemirror_mode": {
    "name": "ipython",
    "version": 3
   },
   "file_extension": ".py",
   "mimetype": "text/x-python",
   "name": "python",
   "nbconvert_exporter": "python",
   "pygments_lexer": "ipython3",
   "version": "3.8.5"
  }
 },
 "nbformat": 4,
 "nbformat_minor": 4
}
