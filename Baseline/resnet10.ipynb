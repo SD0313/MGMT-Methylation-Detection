{
 "cells": [
  {
   "cell_type": "code",
   "execution_count": 1,
   "id": "34b793f8",
   "metadata": {
    "execution": {
     "iopub.execute_input": "2021-12-24T20:23:47.189114Z",
     "iopub.status.busy": "2021-12-24T20:23:47.178230Z",
     "iopub.status.idle": "2021-12-24T20:24:15.340851Z",
     "shell.execute_reply": "2021-12-24T20:24:15.340243Z",
     "shell.execute_reply.started": "2021-12-24T15:26:13.642761Z"
    },
    "papermill": {
     "duration": 28.189311,
     "end_time": "2021-12-24T20:24:15.341015",
     "exception": false,
     "start_time": "2021-12-24T20:23:47.151704",
     "status": "completed"
    },
    "tags": []
   },
   "outputs": [
    {
     "name": "stdout",
     "output_type": "stream",
     "text": [
      "Processing /kaggle/input/rsna-monai-packages/monai-0.6.0-202107081903-py3-none-any.whl\r\n",
      "Requirement already satisfied: numpy>=1.17 in /opt/conda/lib/python3.7/site-packages (from monai==0.6.0) (1.19.5)\r\n",
      "Requirement already satisfied: torch>=1.5 in /opt/conda/lib/python3.7/site-packages (from monai==0.6.0) (1.7.0)\r\n",
      "Requirement already satisfied: future in /opt/conda/lib/python3.7/site-packages (from torch>=1.5->monai==0.6.0) (0.18.2)\r\n",
      "Requirement already satisfied: typing_extensions in /opt/conda/lib/python3.7/site-packages (from torch>=1.5->monai==0.6.0) (3.7.4.3)\r\n",
      "Requirement already satisfied: dataclasses in /opt/conda/lib/python3.7/site-packages (from torch>=1.5->monai==0.6.0) (0.6)\r\n",
      "Installing collected packages: monai\r\n",
      "Successfully installed monai-0.6.0\r\n",
      "\u001b[33mWARNING: Running pip as root will break packages and permissions. You should install packages reliably by using venv: https://pip.pypa.io/warnings/venv\u001b[0m\r\n",
      "Note: you may need to restart the kernel to use updated packages.\n"
     ]
    }
   ],
   "source": [
    "pip install '../input/rsna-monai-packages/monai-0.6.0-202107081903-py3-none-any.whl'"
   ]
  },
  {
   "cell_type": "code",
   "execution_count": 2,
   "id": "3f47861f",
   "metadata": {
    "_cell_guid": "b1076dfc-b9ad-4769-8c92-a6c4dae69d19",
    "_uuid": "8f2839f25d086af736a60e9eeb907d3b93b6e0e5",
    "execution": {
     "iopub.execute_input": "2021-12-24T20:24:15.378907Z",
     "iopub.status.busy": "2021-12-24T20:24:15.378051Z",
     "iopub.status.idle": "2021-12-24T20:24:16.299874Z",
     "shell.execute_reply": "2021-12-24T20:24:16.299255Z",
     "shell.execute_reply.started": "2021-12-24T15:26:39.776502Z"
    },
    "papermill": {
     "duration": 0.942598,
     "end_time": "2021-12-24T20:24:16.299997",
     "exception": false,
     "start_time": "2021-12-24T20:24:15.357399",
     "status": "completed"
    },
    "tags": []
   },
   "outputs": [],
   "source": [
    "import pandas as pd\n",
    "import numpy as np\n",
    "from tqdm import tqdm\n",
    "import os\n",
    "\n",
    "import pydicom\n",
    "from pydicom.pixel_data_handlers.util import apply_voi_lut\n",
    "\n",
    "from sklearn.model_selection import StratifiedKFold\n",
    "from sklearn.metrics import roc_auc_score\n",
    "import glob\n",
    "import matplotlib.pyplot as plt\n",
    "from IPython.display import clear_output"
   ]
  },
  {
   "cell_type": "code",
   "execution_count": 3,
   "id": "7d027aa6",
   "metadata": {
    "execution": {
     "iopub.execute_input": "2021-12-24T20:24:16.335133Z",
     "iopub.status.busy": "2021-12-24T20:24:16.334464Z",
     "iopub.status.idle": "2021-12-24T20:24:18.641013Z",
     "shell.execute_reply": "2021-12-24T20:24:18.641470Z",
     "shell.execute_reply.started": "2021-12-24T15:26:39.786345Z"
    },
    "papermill": {
     "duration": 2.326421,
     "end_time": "2021-12-24T20:24:18.641637",
     "exception": false,
     "start_time": "2021-12-24T20:24:16.315216",
     "status": "completed"
    },
    "tags": []
   },
   "outputs": [],
   "source": [
    "import albumentations as A\n",
    "import pandas as pd\n",
    "import numpy as np\n",
    "import torch\n",
    "import torch.nn as nn\n",
    "import torch.optim as optim\n",
    "from albumentations.pytorch import ToTensorV2\n",
    "from sklearn.metrics import roc_auc_score, accuracy_score\n",
    "from torch.optim import lr_scheduler\n",
    "from tqdm import tqdm\n",
    "import re"
   ]
  },
  {
   "cell_type": "code",
   "execution_count": 4,
   "id": "df5a60e1",
   "metadata": {
    "execution": {
     "iopub.execute_input": "2021-12-24T20:24:18.676437Z",
     "iopub.status.busy": "2021-12-24T20:24:18.675916Z",
     "iopub.status.idle": "2021-12-24T20:24:18.679500Z",
     "shell.execute_reply": "2021-12-24T20:24:18.679065Z",
     "shell.execute_reply.started": "2021-12-24T15:26:39.813043Z"
    },
    "papermill": {
     "duration": 0.022728,
     "end_time": "2021-12-24T20:24:18.679611",
     "exception": false,
     "start_time": "2021-12-24T20:24:18.656883",
     "status": "completed"
    },
    "tags": []
   },
   "outputs": [],
   "source": [
    "NUM_IMAGES_3D = 64\n",
    "TRAINING_BATCH_SIZE = 8\n",
    "TEST_BATCH_SIZE = 8\n",
    "IMAGE_SIZE = 256\n",
    "N_EPOCHS = 15\n",
    "do_valid = True\n",
    "n_workers = 4\n",
    "type_ = \"FLAIR\"\n",
    "MODEL_NAME = 'version2.FLAIR'"
   ]
  },
  {
   "cell_type": "code",
   "execution_count": 5,
   "id": "9a651785",
   "metadata": {
    "execution": {
     "iopub.execute_input": "2021-12-24T20:24:18.715093Z",
     "iopub.status.busy": "2021-12-24T20:24:18.714352Z",
     "iopub.status.idle": "2021-12-24T20:24:18.717124Z",
     "shell.execute_reply": "2021-12-24T20:24:18.716730Z",
     "shell.execute_reply.started": "2021-12-24T15:26:39.821169Z"
    },
    "papermill": {
     "duration": 0.022495,
     "end_time": "2021-12-24T20:24:18.717225",
     "exception": false,
     "start_time": "2021-12-24T20:24:18.694730",
     "status": "completed"
    },
    "tags": []
   },
   "outputs": [],
   "source": [
    "def load_dicom_image(path, img_size=IMAGE_SIZE, voi_lut=True, rotate=0):\n",
    "    dicom = pydicom.read_file(path)\n",
    "    data = dicom.pixel_array\n",
    "    if voi_lut:\n",
    "        data = apply_voi_lut(dicom.pixel_array, dicom)\n",
    "    else:\n",
    "        data = dicom.pixel_array\n",
    "\n",
    "    if rotate > 0:\n",
    "        rot_choices = [\n",
    "            0,\n",
    "            cv2.ROTATE_90_CLOCKWISE,\n",
    "            cv2.ROTATE_90_COUNTERCLOCKWISE,\n",
    "            cv2.ROTATE_180,\n",
    "        ]\n",
    "        data = cv2.rotate(data, rot_choices[rotate])\n",
    "\n",
    "    data = cv2.resize(data, (img_size, img_size))\n",
    "    return data"
   ]
  },
  {
   "cell_type": "code",
   "execution_count": 6,
   "id": "58106385",
   "metadata": {
    "execution": {
     "iopub.execute_input": "2021-12-24T20:24:18.759816Z",
     "iopub.status.busy": "2021-12-24T20:24:18.759068Z",
     "iopub.status.idle": "2021-12-24T20:24:18.761614Z",
     "shell.execute_reply": "2021-12-24T20:24:18.761204Z",
     "shell.execute_reply.started": "2021-12-24T15:26:39.830626Z"
    },
    "papermill": {
     "duration": 0.029738,
     "end_time": "2021-12-24T20:24:18.761716",
     "exception": false,
     "start_time": "2021-12-24T20:24:18.731978",
     "status": "completed"
    },
    "tags": []
   },
   "outputs": [],
   "source": [
    "import random\n",
    "\n",
    "import cv2\n",
    "from torch.utils.data import Dataset\n",
    "\n",
    "\n",
    "class BrainRSNADataset(Dataset):\n",
    "    def __init__(\n",
    "        self, data, transform=None, target=\"MGMT_value\", mri_type=\"FLAIR\", is_train=True\n",
    "    ):\n",
    "        self.target = target\n",
    "        self.data = data\n",
    "        self.type = mri_type\n",
    "\n",
    "        self.transform = transform\n",
    "        self.is_train = is_train\n",
    "        self.folder = \"train\" #if self.is_train else \"test\"\n",
    "\n",
    "    def __len__(self):\n",
    "        return len(self.data)\n",
    "\n",
    "    def __getitem__(self, index):\n",
    "        row = self.data.loc[index]\n",
    "        case_id = int(row.BraTS21ID)\n",
    "        target = int(row[self.target])\n",
    "        _3d_images = self.load_dicom_images_3d(case_id)\n",
    "        _3d_images = torch.tensor(_3d_images).float()\n",
    "        if self.is_train:\n",
    "            return {\"image\": _3d_images, \"target\": target, \"case_id\": case_id}\n",
    "        else:\n",
    "            return {\"image\": _3d_images, \"case_id\": case_id}\n",
    "\n",
    "    def load_dicom_images_3d(\n",
    "        self,\n",
    "        case_id,\n",
    "        num_imgs=NUM_IMAGES_3D,\n",
    "        img_size=IMAGE_SIZE,\n",
    "        rotate=0,\n",
    "    ):\n",
    "        case_id = str(case_id).zfill(5)\n",
    "\n",
    "        path = f\"../input/rsna-miccai-brain-tumor-radiogenomic-classification/{self.folder}/{case_id}/{self.type}/*.dcm\"\n",
    "        files = sorted(\n",
    "            glob.glob(path),\n",
    "            key=lambda var: [\n",
    "                int(x) if x.isdigit() else x for x in re.findall(r\"[^0-9]|[0-9]+\", var)\n",
    "            ],\n",
    "        )\n",
    "\n",
    "        middle = len(files) // 2\n",
    "        num_imgs2 = num_imgs // 2\n",
    "        p1 = max(0, middle - num_imgs2)\n",
    "        p2 = min(len(files), middle + num_imgs2)\n",
    "        \n",
    "        image_stack = [load_dicom_image(f, rotate=rotate) for f in files[p1:p2]]\n",
    "        img3d = np.stack(image_stack).T\n",
    "        if img3d.shape[-1] < num_imgs:\n",
    "            n_zero = np.zeros((img_size, img_size, num_imgs - img3d.shape[-1]))\n",
    "            img3d = np.concatenate((img3d, n_zero), axis=-1)\n",
    "\n",
    "        if np.min(img3d) < np.max(img3d):\n",
    "            img3d = img3d - np.min(img3d)\n",
    "            img3d = img3d / np.max(img3d)\n",
    "\n",
    "        return np.expand_dims(img3d, 0)\n",
    "\n"
   ]
  },
  {
   "cell_type": "code",
   "execution_count": 7,
   "id": "e12ae1ef",
   "metadata": {
    "execution": {
     "iopub.execute_input": "2021-12-24T20:24:18.805140Z",
     "iopub.status.busy": "2021-12-24T20:24:18.798227Z",
     "iopub.status.idle": "2021-12-24T20:24:19.475539Z",
     "shell.execute_reply": "2021-12-24T20:24:19.475073Z",
     "shell.execute_reply.started": "2021-12-24T15:26:47.646368Z"
    },
    "papermill": {
     "duration": 0.699089,
     "end_time": "2021-12-24T20:24:19.475680",
     "exception": false,
     "start_time": "2021-12-24T20:24:18.776591",
     "status": "completed"
    },
    "tags": []
   },
   "outputs": [
    {
     "name": "stdout",
     "output_type": "stream",
     "text": [
      "\u001b[0m\u001b[01;34mmonai-v060-deep-learning-in-healthcare-imaging\u001b[0m/\r\n",
      "\u001b[01;34mresnet10rsna\u001b[0m/\r\n",
      "\u001b[01;34mrsna-miccai-brain-tumor-radiogenomic-classification\u001b[0m/\r\n",
      "\u001b[01;34mrsna-monai-packages\u001b[0m/\r\n"
     ]
    }
   ],
   "source": [
    "ls ../input/"
   ]
  },
  {
   "cell_type": "code",
   "execution_count": 8,
   "id": "6f73a292",
   "metadata": {
    "execution": {
     "iopub.execute_input": "2021-12-24T20:24:19.512235Z",
     "iopub.status.busy": "2021-12-24T20:24:19.511418Z",
     "iopub.status.idle": "2021-12-24T20:24:25.979738Z",
     "shell.execute_reply": "2021-12-24T20:24:25.978782Z",
     "shell.execute_reply.started": "2021-12-24T15:26:49.234132Z"
    },
    "papermill": {
     "duration": 6.488745,
     "end_time": "2021-12-24T20:24:25.979888",
     "exception": false,
     "start_time": "2021-12-24T20:24:19.491143",
     "status": "completed"
    },
    "tags": []
   },
   "outputs": [],
   "source": [
    "import monai\n",
    "\n",
    "# model \n",
    "model = monai.networks.nets.resnet10(spatial_dims=3, n_input_channels=1, n_classes=1)\n",
    "device = torch.device(\"cuda\")\n",
    "model.to(device);\n",
    "all_weights = os.listdir(\"../input/resnet10rsna\")\n",
    "fold_files = [f for f in all_weights if type_ in f]\n",
    "criterion = nn.BCEWithLogitsLoss()"
   ]
  },
  {
   "cell_type": "code",
   "execution_count": 9,
   "id": "ace36410",
   "metadata": {
    "execution": {
     "iopub.execute_input": "2021-12-24T20:24:26.019656Z",
     "iopub.status.busy": "2021-12-24T20:24:26.019070Z",
     "iopub.status.idle": "2021-12-24T20:24:26.044775Z",
     "shell.execute_reply": "2021-12-24T20:24:26.045239Z",
     "shell.execute_reply.started": "2021-12-24T15:26:55.612111Z"
    },
    "papermill": {
     "duration": 0.047538,
     "end_time": "2021-12-24T20:24:26.045382",
     "exception": false,
     "start_time": "2021-12-24T20:24:25.997844",
     "status": "completed"
    },
    "tags": []
   },
   "outputs": [],
   "source": [
    "import argparse\n",
    "\n",
    "import pandas as pd\n",
    "from sklearn.model_selection import StratifiedKFold\n",
    "\n",
    "# parser = argparse.ArgumentParser()\n",
    "# parser.add_argument(\"--n_folds\", default=5, type=int)\n",
    "# args = parser.parse_args()\n",
    "\n",
    "train = pd.read_csv(\"../input/rsna-miccai-brain-tumor-radiogenomic-classification/train_labels.csv\")\n",
    "\n",
    "skf = StratifiedKFold(n_splits=5, shuffle=True, random_state=518)\n",
    "oof = []\n",
    "targets = []\n",
    "target = \"MGMT_value\"\n",
    "\n",
    "for fold, (trn_idx, val_idx) in enumerate(\n",
    "    skf.split(train, train[target])\n",
    "):\n",
    "    train.loc[val_idx, \"fold\"] = int(fold)\n",
    "\n",
    "\n",
    "train.to_csv(\"train.csv\", index=False)"
   ]
  },
  {
   "cell_type": "code",
   "execution_count": 10,
   "id": "4427e7cf",
   "metadata": {
    "execution": {
     "iopub.execute_input": "2021-12-24T20:24:26.081408Z",
     "iopub.status.busy": "2021-12-24T20:24:26.080793Z",
     "iopub.status.idle": "2021-12-24T20:24:26.093980Z",
     "shell.execute_reply": "2021-12-24T20:24:26.094502Z",
     "shell.execute_reply.started": "2021-12-24T15:26:55.646038Z"
    },
    "papermill": {
     "duration": 0.033796,
     "end_time": "2021-12-24T20:24:26.094641",
     "exception": false,
     "start_time": "2021-12-24T20:24:26.060845",
     "status": "completed"
    },
    "tags": []
   },
   "outputs": [
    {
     "data": {
      "text/html": [
       "<div>\n",
       "<style scoped>\n",
       "    .dataframe tbody tr th:only-of-type {\n",
       "        vertical-align: middle;\n",
       "    }\n",
       "\n",
       "    .dataframe tbody tr th {\n",
       "        vertical-align: top;\n",
       "    }\n",
       "\n",
       "    .dataframe thead th {\n",
       "        text-align: right;\n",
       "    }\n",
       "</style>\n",
       "<table border=\"1\" class=\"dataframe\">\n",
       "  <thead>\n",
       "    <tr style=\"text-align: right;\">\n",
       "      <th></th>\n",
       "      <th>BraTS21ID</th>\n",
       "      <th>MGMT_value</th>\n",
       "      <th>fold</th>\n",
       "    </tr>\n",
       "  </thead>\n",
       "  <tbody>\n",
       "    <tr>\n",
       "      <th>0</th>\n",
       "      <td>0</td>\n",
       "      <td>1</td>\n",
       "      <td>1.0</td>\n",
       "    </tr>\n",
       "    <tr>\n",
       "      <th>1</th>\n",
       "      <td>2</td>\n",
       "      <td>1</td>\n",
       "      <td>2.0</td>\n",
       "    </tr>\n",
       "    <tr>\n",
       "      <th>2</th>\n",
       "      <td>3</td>\n",
       "      <td>0</td>\n",
       "      <td>0.0</td>\n",
       "    </tr>\n",
       "    <tr>\n",
       "      <th>3</th>\n",
       "      <td>5</td>\n",
       "      <td>1</td>\n",
       "      <td>1.0</td>\n",
       "    </tr>\n",
       "    <tr>\n",
       "      <th>4</th>\n",
       "      <td>6</td>\n",
       "      <td>1</td>\n",
       "      <td>2.0</td>\n",
       "    </tr>\n",
       "  </tbody>\n",
       "</table>\n",
       "</div>"
      ],
      "text/plain": [
       "   BraTS21ID  MGMT_value  fold\n",
       "0          0           1   1.0\n",
       "1          2           1   2.0\n",
       "2          3           0   0.0\n",
       "3          5           1   1.0\n",
       "4          6           1   2.0"
      ]
     },
     "execution_count": 10,
     "metadata": {},
     "output_type": "execute_result"
    }
   ],
   "source": [
    "train.head()"
   ]
  },
  {
   "cell_type": "code",
   "execution_count": 11,
   "id": "e87f0c11",
   "metadata": {
    "execution": {
     "iopub.execute_input": "2021-12-24T20:24:26.134487Z",
     "iopub.status.busy": "2021-12-24T20:24:26.133630Z",
     "iopub.status.idle": "2021-12-24T20:24:26.152324Z",
     "shell.execute_reply": "2021-12-24T20:24:26.151932Z",
     "shell.execute_reply.started": "2021-12-24T15:26:55.665592Z"
    },
    "papermill": {
     "duration": 0.041282,
     "end_time": "2021-12-24T20:24:26.152455",
     "exception": false,
     "start_time": "2021-12-24T20:24:26.111173",
     "status": "completed"
    },
    "tags": []
   },
   "outputs": [],
   "source": [
    "data = pd.read_csv(\"./train.csv\")\n",
    "curr_fold = 2\n",
    "train_df = data[data.fold != curr_fold].reset_index(drop=False)\n",
    "val_df = data[data.fold == curr_fold].reset_index(drop=False)"
   ]
  },
  {
   "cell_type": "code",
   "execution_count": 12,
   "id": "6a15c985",
   "metadata": {
    "execution": {
     "iopub.execute_input": "2021-12-24T20:24:26.191861Z",
     "iopub.status.busy": "2021-12-24T20:24:26.191310Z",
     "iopub.status.idle": "2021-12-24T20:24:26.196151Z",
     "shell.execute_reply": "2021-12-24T20:24:26.195747Z",
     "shell.execute_reply.started": "2021-12-24T15:26:55.691077Z"
    },
    "papermill": {
     "duration": 0.028206,
     "end_time": "2021-12-24T20:24:26.196255",
     "exception": false,
     "start_time": "2021-12-24T20:24:26.168049",
     "status": "completed"
    },
    "tags": []
   },
   "outputs": [
    {
     "data": {
      "text/html": [
       "<div>\n",
       "<style scoped>\n",
       "    .dataframe tbody tr th:only-of-type {\n",
       "        vertical-align: middle;\n",
       "    }\n",
       "\n",
       "    .dataframe tbody tr th {\n",
       "        vertical-align: top;\n",
       "    }\n",
       "\n",
       "    .dataframe thead th {\n",
       "        text-align: right;\n",
       "    }\n",
       "</style>\n",
       "<table border=\"1\" class=\"dataframe\">\n",
       "  <thead>\n",
       "    <tr style=\"text-align: right;\">\n",
       "      <th></th>\n",
       "      <th>index</th>\n",
       "      <th>BraTS21ID</th>\n",
       "      <th>MGMT_value</th>\n",
       "      <th>fold</th>\n",
       "    </tr>\n",
       "  </thead>\n",
       "  <tbody>\n",
       "    <tr>\n",
       "      <th>0</th>\n",
       "      <td>0</td>\n",
       "      <td>0</td>\n",
       "      <td>1</td>\n",
       "      <td>1.0</td>\n",
       "    </tr>\n",
       "    <tr>\n",
       "      <th>1</th>\n",
       "      <td>2</td>\n",
       "      <td>3</td>\n",
       "      <td>0</td>\n",
       "      <td>0.0</td>\n",
       "    </tr>\n",
       "    <tr>\n",
       "      <th>2</th>\n",
       "      <td>3</td>\n",
       "      <td>5</td>\n",
       "      <td>1</td>\n",
       "      <td>1.0</td>\n",
       "    </tr>\n",
       "    <tr>\n",
       "      <th>3</th>\n",
       "      <td>5</td>\n",
       "      <td>8</td>\n",
       "      <td>1</td>\n",
       "      <td>1.0</td>\n",
       "    </tr>\n",
       "    <tr>\n",
       "      <th>4</th>\n",
       "      <td>6</td>\n",
       "      <td>9</td>\n",
       "      <td>0</td>\n",
       "      <td>4.0</td>\n",
       "    </tr>\n",
       "  </tbody>\n",
       "</table>\n",
       "</div>"
      ],
      "text/plain": [
       "   index  BraTS21ID  MGMT_value  fold\n",
       "0      0          0           1   1.0\n",
       "1      2          3           0   0.0\n",
       "2      3          5           1   1.0\n",
       "3      5          8           1   1.0\n",
       "4      6          9           0   4.0"
      ]
     },
     "execution_count": 12,
     "metadata": {},
     "output_type": "execute_result"
    }
   ],
   "source": [
    "train_df.head()"
   ]
  },
  {
   "cell_type": "code",
   "execution_count": 13,
   "id": "c284aafc",
   "metadata": {
    "execution": {
     "iopub.execute_input": "2021-12-24T20:24:26.234729Z",
     "iopub.status.busy": "2021-12-24T20:24:26.234072Z",
     "iopub.status.idle": "2021-12-24T20:24:26.236580Z",
     "shell.execute_reply": "2021-12-24T20:24:26.236954Z",
     "shell.execute_reply.started": "2021-12-24T15:27:02.114538Z"
    },
    "papermill": {
     "duration": 0.023965,
     "end_time": "2021-12-24T20:24:26.237072",
     "exception": false,
     "start_time": "2021-12-24T20:24:26.213107",
     "status": "completed"
    },
    "tags": []
   },
   "outputs": [],
   "source": [
    "train_dataset = BrainRSNADataset(data=train_df, mri_type=type_, is_train=True)\n",
    "\n",
    "valid_dataset = BrainRSNADataset(data=val_df, mri_type=type_, is_train=True)\n",
    "\n",
    "\n",
    "train_dl = torch.utils.data.DataLoader(\n",
    "    train_dataset,\n",
    "    batch_size=TRAINING_BATCH_SIZE,\n",
    "    shuffle=True,\n",
    "    num_workers=n_workers,\n",
    "    drop_last=True,\n",
    "    pin_memory=True,\n",
    ")\n",
    "\n",
    "validation_dl = torch.utils.data.DataLoader(\n",
    "    valid_dataset,\n",
    "    batch_size=TEST_BATCH_SIZE,\n",
    "    shuffle=False,\n",
    "    num_workers=n_workers,\n",
    "    pin_memory=True,\n",
    ")"
   ]
  },
  {
   "cell_type": "code",
   "execution_count": 14,
   "id": "16a0720c",
   "metadata": {
    "execution": {
     "iopub.execute_input": "2021-12-24T20:24:26.287450Z",
     "iopub.status.busy": "2021-12-24T20:24:26.286726Z",
     "iopub.status.idle": "2021-12-24T21:12:26.684060Z",
     "shell.execute_reply": "2021-12-24T21:12:26.684634Z",
     "shell.execute_reply.started": "2021-12-24T15:27:03.59403Z"
    },
    "papermill": {
     "duration": 2880.431921,
     "end_time": "2021-12-24T21:12:26.684792",
     "exception": false,
     "start_time": "2021-12-24T20:24:26.252871",
     "status": "completed"
    },
    "tags": []
   },
   "outputs": [
    {
     "name": "stderr",
     "output_type": "stream",
     "text": [
      "  0%|          | 0/58 [00:00<?, ?it/s]"
     ]
    },
    {
     "name": "stdout",
     "output_type": "stream",
     "text": [
      "Adjusting learning rate of group 0 to 1.0000e-04.\n"
     ]
    },
    {
     "name": "stderr",
     "output_type": "stream",
     "text": [
      "100%|██████████| 58/58 [02:48<00:00,  2.91s/it, batch_loss=0.69, loss=0.716]\n",
      "  0%|          | 0/15 [00:00<?, ?it/s]"
     ]
    },
    {
     "name": "stdout",
     "output_type": "stream",
     "text": [
      "Adjusting learning rate of group 0 to 1.0000e-04.\n"
     ]
    },
    {
     "name": "stderr",
     "output_type": "stream",
     "text": [
      "100%|██████████| 15/15 [00:43<00:00,  2.92s/it, batch_loss=0.958, loss=0.729]\n"
     ]
    },
    {
     "name": "stdout",
     "output_type": "stream",
     "text": [
      "EPOCH 0/15: Validation average loss: 0.7286055366198222 + AUC SCORE = 0.48448477751756447 + AUC SCORE THRESH 0.42857142857142855 = 0.5103922716627635\n",
      "Best Accuracy: 0.5299145299145299\n",
      "Saving the model...\n"
     ]
    },
    {
     "name": "stderr",
     "output_type": "stream",
     "text": [
      "100%|██████████| 58/58 [02:37<00:00,  2.71s/it, batch_loss=0.552, loss=0.708]\n",
      "  0%|          | 0/15 [00:00<?, ?it/s]"
     ]
    },
    {
     "name": "stdout",
     "output_type": "stream",
     "text": [
      "Adjusting learning rate of group 0 to 1.0000e-04.\n"
     ]
    },
    {
     "name": "stderr",
     "output_type": "stream",
     "text": [
      "100%|██████████| 15/15 [00:38<00:00,  2.59s/it, batch_loss=0.825, loss=0.707]\n",
      "  0%|          | 0/58 [00:00<?, ?it/s]"
     ]
    },
    {
     "name": "stdout",
     "output_type": "stream",
     "text": [
      "EPOCH 1/15: Validation average loss: 0.7065736373265584 + AUC SCORE = 0.5043911007025761 + AUC SCORE THRESH 0.44897959183673464 = 0.5461065573770492\n",
      "Best Accuracy: 0.5641025641025641\n",
      "Saving the model...\n"
     ]
    },
    {
     "name": "stderr",
     "output_type": "stream",
     "text": [
      "100%|██████████| 58/58 [02:32<00:00,  2.63s/it, batch_loss=0.65, loss=0.695]\n",
      "  0%|          | 0/15 [00:00<?, ?it/s]"
     ]
    },
    {
     "name": "stdout",
     "output_type": "stream",
     "text": [
      "Adjusting learning rate of group 0 to 1.0000e-04.\n"
     ]
    },
    {
     "name": "stderr",
     "output_type": "stream",
     "text": [
      "100%|██████████| 15/15 [00:38<00:00,  2.58s/it, batch_loss=0.484, loss=0.794]\n",
      "  0%|          | 0/58 [00:00<?, ?it/s]"
     ]
    },
    {
     "name": "stdout",
     "output_type": "stream",
     "text": [
      "EPOCH 2/15: Validation average loss: 0.79442444841067 + AUC SCORE = 0.4803864168618267 + AUC SCORE THRESH 0.5306122448979591 = 0.5408372365339579\n",
      "Best Accuracy: 0.5555555555555556\n"
     ]
    },
    {
     "name": "stderr",
     "output_type": "stream",
     "text": [
      "100%|██████████| 58/58 [02:32<00:00,  2.64s/it, batch_loss=0.779, loss=0.691]\n",
      "  0%|          | 0/15 [00:00<?, ?it/s]"
     ]
    },
    {
     "name": "stdout",
     "output_type": "stream",
     "text": [
      "Adjusting learning rate of group 0 to 1.0000e-04.\n"
     ]
    },
    {
     "name": "stderr",
     "output_type": "stream",
     "text": [
      "100%|██████████| 15/15 [00:39<00:00,  2.65s/it, batch_loss=0.861, loss=0.708]\n",
      "  0%|          | 0/58 [00:00<?, ?it/s]"
     ]
    },
    {
     "name": "stdout",
     "output_type": "stream",
     "text": [
      "EPOCH 3/15: Validation average loss: 0.7079754869143168 + AUC SCORE = 0.4973653395784543 + AUC SCORE THRESH 0.36734693877551017 = 0.5275175644028103\n",
      "Best Accuracy: 0.5470085470085471\n"
     ]
    },
    {
     "name": "stderr",
     "output_type": "stream",
     "text": [
      "100%|██████████| 58/58 [02:32<00:00,  2.62s/it, batch_loss=0.7, loss=0.677]\n",
      "  0%|          | 0/15 [00:00<?, ?it/s]"
     ]
    },
    {
     "name": "stdout",
     "output_type": "stream",
     "text": [
      "Adjusting learning rate of group 0 to 1.0000e-04.\n"
     ]
    },
    {
     "name": "stderr",
     "output_type": "stream",
     "text": [
      "100%|██████████| 15/15 [00:38<00:00,  2.56s/it, batch_loss=0.547, loss=0.712]\n"
     ]
    },
    {
     "name": "stdout",
     "output_type": "stream",
     "text": [
      "EPOCH 4/15: Validation average loss: 0.712087853749593 + AUC SCORE = 0.5752341920374707 + AUC SCORE THRESH 0.44897959183673464 = 0.6001170960187353\n",
      "Best Accuracy: 0.5982905982905983\n",
      "Saving the model...\n"
     ]
    },
    {
     "name": "stderr",
     "output_type": "stream",
     "text": [
      "100%|██████████| 58/58 [02:29<00:00,  2.58s/it, batch_loss=0.526, loss=0.682]\n",
      "  0%|          | 0/15 [00:00<?, ?it/s]"
     ]
    },
    {
     "name": "stdout",
     "output_type": "stream",
     "text": [
      "Adjusting learning rate of group 0 to 1.0000e-04.\n"
     ]
    },
    {
     "name": "stderr",
     "output_type": "stream",
     "text": [
      "100%|██████████| 15/15 [00:40<00:00,  2.73s/it, batch_loss=0.721, loss=0.717]\n",
      "  0%|          | 0/58 [00:00<?, ?it/s]"
     ]
    },
    {
     "name": "stdout",
     "output_type": "stream",
     "text": [
      "EPOCH 5/15: Validation average loss: 0.7169462283452351 + AUC SCORE = 0.5231264637002342 + AUC SCORE THRESH 0.6122448979591836 = 0.5292740046838407\n",
      "Best Accuracy: 0.5213675213675214\n"
     ]
    },
    {
     "name": "stderr",
     "output_type": "stream",
     "text": [
      "100%|██████████| 58/58 [02:31<00:00,  2.61s/it, batch_loss=0.634, loss=0.685]\n",
      "  0%|          | 0/15 [00:00<?, ?it/s]"
     ]
    },
    {
     "name": "stdout",
     "output_type": "stream",
     "text": [
      "Adjusting learning rate of group 0 to 1.0000e-04.\n"
     ]
    },
    {
     "name": "stderr",
     "output_type": "stream",
     "text": [
      "100%|██████████| 15/15 [00:38<00:00,  2.60s/it, batch_loss=0.645, loss=0.699]\n",
      "  0%|          | 0/58 [00:00<?, ?it/s]"
     ]
    },
    {
     "name": "stdout",
     "output_type": "stream",
     "text": [
      "EPOCH 6/15: Validation average loss: 0.6987573822339376 + AUC SCORE = 0.5281030444964872 + AUC SCORE THRESH 0.5102040816326531 = 0.5564988290398127\n",
      "Best Accuracy: 0.5726495726495726\n"
     ]
    },
    {
     "name": "stderr",
     "output_type": "stream",
     "text": [
      "100%|██████████| 58/58 [02:30<00:00,  2.59s/it, batch_loss=0.754, loss=0.667]\n",
      "  0%|          | 0/15 [00:00<?, ?it/s]"
     ]
    },
    {
     "name": "stdout",
     "output_type": "stream",
     "text": [
      "Adjusting learning rate of group 0 to 1.0000e-04.\n"
     ]
    },
    {
     "name": "stderr",
     "output_type": "stream",
     "text": [
      "100%|██████████| 15/15 [00:38<00:00,  2.57s/it, batch_loss=0.532, loss=0.766]\n",
      "  0%|          | 0/58 [00:00<?, ?it/s]"
     ]
    },
    {
     "name": "stdout",
     "output_type": "stream",
     "text": [
      "EPOCH 7/15: Validation average loss: 0.7661856452624003 + AUC SCORE = 0.5687939110070258 + AUC SCORE THRESH 0.3877551020408163 = 0.5898711943793911\n",
      "Best Accuracy: 0.5982905982905983\n"
     ]
    },
    {
     "name": "stderr",
     "output_type": "stream",
     "text": [
      "100%|██████████| 58/58 [02:30<00:00,  2.59s/it, batch_loss=0.625, loss=0.673]\n",
      "  0%|          | 0/15 [00:00<?, ?it/s]"
     ]
    },
    {
     "name": "stdout",
     "output_type": "stream",
     "text": [
      "Adjusting learning rate of group 0 to 1.0000e-04.\n"
     ]
    },
    {
     "name": "stderr",
     "output_type": "stream",
     "text": [
      "100%|██████████| 15/15 [00:38<00:00,  2.57s/it, batch_loss=0.348, loss=0.816]\n",
      "  0%|          | 0/58 [00:00<?, ?it/s]"
     ]
    },
    {
     "name": "stdout",
     "output_type": "stream",
     "text": [
      "EPOCH 8/15: Validation average loss: 0.8158074736595153 + AUC SCORE = 0.5032201405152226 + AUC SCORE THRESH 0.32653061224489793 = 0.5379098360655737\n",
      "Best Accuracy: 0.5555555555555556\n"
     ]
    },
    {
     "name": "stderr",
     "output_type": "stream",
     "text": [
      "100%|██████████| 58/58 [02:31<00:00,  2.61s/it, batch_loss=0.696, loss=0.66]\n",
      "  0%|          | 0/15 [00:00<?, ?it/s]"
     ]
    },
    {
     "name": "stdout",
     "output_type": "stream",
     "text": [
      "Adjusting learning rate of group 0 to 5.0000e-05.\n"
     ]
    },
    {
     "name": "stderr",
     "output_type": "stream",
     "text": [
      "100%|██████████| 15/15 [00:38<00:00,  2.53s/it, batch_loss=0.85, loss=0.698]\n",
      "  0%|          | 0/58 [00:00<?, ?it/s]"
     ]
    },
    {
     "name": "stdout",
     "output_type": "stream",
     "text": [
      "EPOCH 9/15: Validation average loss: 0.6977291266123454 + AUC SCORE = 0.5708430913348946 + AUC SCORE THRESH 0.5918367346938775 = 0.5642564402810304\n",
      "Best Accuracy: 0.5555555555555556\n"
     ]
    },
    {
     "name": "stderr",
     "output_type": "stream",
     "text": [
      "100%|██████████| 58/58 [02:29<00:00,  2.57s/it, batch_loss=0.581, loss=0.647]\n",
      "  0%|          | 0/15 [00:00<?, ?it/s]"
     ]
    },
    {
     "name": "stdout",
     "output_type": "stream",
     "text": [
      "Adjusting learning rate of group 0 to 5.0000e-05.\n"
     ]
    },
    {
     "name": "stderr",
     "output_type": "stream",
     "text": [
      "100%|██████████| 15/15 [00:38<00:00,  2.59s/it, batch_loss=0.218, loss=0.779]\n",
      "  0%|          | 0/58 [00:00<?, ?it/s]"
     ]
    },
    {
     "name": "stdout",
     "output_type": "stream",
     "text": [
      "EPOCH 10/15: Validation average loss: 0.7790408005317052 + AUC SCORE = 0.5518149882903982 + AUC SCORE THRESH 0.4081632653061224 = 0.5541569086651054\n",
      "Best Accuracy: 0.5641025641025641\n"
     ]
    },
    {
     "name": "stderr",
     "output_type": "stream",
     "text": [
      "100%|██████████| 58/58 [02:30<00:00,  2.60s/it, batch_loss=0.622, loss=0.645]\n",
      "  0%|          | 0/15 [00:00<?, ?it/s]"
     ]
    },
    {
     "name": "stdout",
     "output_type": "stream",
     "text": [
      "Adjusting learning rate of group 0 to 5.0000e-05.\n"
     ]
    },
    {
     "name": "stderr",
     "output_type": "stream",
     "text": [
      "100%|██████████| 15/15 [00:38<00:00,  2.56s/it, batch_loss=0.355, loss=0.822]\n",
      "  0%|          | 0/58 [00:00<?, ?it/s]"
     ]
    },
    {
     "name": "stdout",
     "output_type": "stream",
     "text": [
      "EPOCH 11/15: Validation average loss: 0.8221994698047638 + AUC SCORE = 0.5547423887587822 + AUC SCORE THRESH 0.5306122448979591 = 0.5525468384074941\n",
      "Best Accuracy: 0.5555555555555556\n"
     ]
    },
    {
     "name": "stderr",
     "output_type": "stream",
     "text": [
      "100%|██████████| 58/58 [02:29<00:00,  2.58s/it, batch_loss=0.587, loss=0.647]\n",
      "  0%|          | 0/15 [00:00<?, ?it/s]"
     ]
    },
    {
     "name": "stdout",
     "output_type": "stream",
     "text": [
      "Adjusting learning rate of group 0 to 5.0000e-05.\n"
     ]
    },
    {
     "name": "stderr",
     "output_type": "stream",
     "text": [
      "100%|██████████| 15/15 [00:38<00:00,  2.59s/it, batch_loss=0.619, loss=0.734]\n",
      "  0%|          | 0/58 [00:00<?, ?it/s]"
     ]
    },
    {
     "name": "stdout",
     "output_type": "stream",
     "text": [
      "EPOCH 12/15: Validation average loss: 0.7335605184237163 + AUC SCORE = 0.5357142857142857 + AUC SCORE THRESH 0.5306122448979591 = 0.5749414519906324\n",
      "Best Accuracy: 0.5811965811965812\n"
     ]
    },
    {
     "name": "stderr",
     "output_type": "stream",
     "text": [
      "100%|██████████| 58/58 [02:33<00:00,  2.64s/it, batch_loss=0.59, loss=0.647]\n",
      "  0%|          | 0/15 [00:00<?, ?it/s]"
     ]
    },
    {
     "name": "stdout",
     "output_type": "stream",
     "text": [
      "Adjusting learning rate of group 0 to 5.0000e-05.\n"
     ]
    },
    {
     "name": "stderr",
     "output_type": "stream",
     "text": [
      "100%|██████████| 15/15 [00:38<00:00,  2.55s/it, batch_loss=0.238, loss=0.976]\n",
      "  0%|          | 0/58 [00:00<?, ?it/s]"
     ]
    },
    {
     "name": "stdout",
     "output_type": "stream",
     "text": [
      "EPOCH 13/15: Validation average loss: 0.9759975999593735 + AUC SCORE = 0.5055620608899297 + AUC SCORE THRESH 0.4897959183673469 = 0.5623536299765808\n",
      "Best Accuracy: 0.5726495726495726\n"
     ]
    },
    {
     "name": "stderr",
     "output_type": "stream",
     "text": [
      "100%|██████████| 58/58 [02:31<00:00,  2.62s/it, batch_loss=0.652, loss=0.652]\n",
      "  0%|          | 0/15 [00:00<?, ?it/s]"
     ]
    },
    {
     "name": "stdout",
     "output_type": "stream",
     "text": [
      "Adjusting learning rate of group 0 to 5.0000e-05.\n"
     ]
    },
    {
     "name": "stderr",
     "output_type": "stream",
     "text": [
      "100%|██████████| 15/15 [00:38<00:00,  2.58s/it, batch_loss=0.671, loss=0.711]"
     ]
    },
    {
     "name": "stdout",
     "output_type": "stream",
     "text": [
      "EPOCH 14/15: Validation average loss: 0.7108534932136535 + AUC SCORE = 0.5377634660421545 + AUC SCORE THRESH 0.2857142857142857 = 0.5668911007025761\n",
      "Best Accuracy: 0.5811965811965812\n",
      "0.5752341920374707\n"
     ]
    },
    {
     "name": "stderr",
     "output_type": "stream",
     "text": [
      "\n"
     ]
    }
   ],
   "source": [
    "model = monai.networks.nets.resnet10(spatial_dims=3, n_input_channels=1, n_classes=1)\n",
    "optimizer = optim.Adam(model.parameters(), lr=0.0001)\n",
    "\n",
    "scheduler = lr_scheduler.MultiStepLR(optimizer, milestones=[10], gamma=0.5, last_epoch=-1, verbose=True)\n",
    "\n",
    "model.zero_grad()\n",
    "model.to(device)\n",
    "best_loss = 9999\n",
    "best_auc = 0\n",
    "criterion = nn.BCEWithLogitsLoss()\n",
    "best_model = None\n",
    "final_thresh = 0.5\n",
    "for counter in range(N_EPOCHS):\n",
    "\n",
    "    epoch_iterator_train = tqdm(train_dl)\n",
    "    tr_loss = 0.0\n",
    "    for step, batch in enumerate(epoch_iterator_train):\n",
    "        model.train()\n",
    "        images, targets = batch[\"image\"].to(device), batch[\"target\"].to(device)\n",
    "\n",
    "        outputs = model(images)\n",
    "        targets = targets  # .view(-1, 1)\n",
    "        loss = criterion(outputs.squeeze(1), targets.float())\n",
    "\n",
    "        loss.backward()\n",
    "        optimizer.step()\n",
    "        model.zero_grad()\n",
    "        optimizer.zero_grad()\n",
    "\n",
    "        tr_loss += loss.item()\n",
    "        epoch_iterator_train.set_postfix(\n",
    "            batch_loss=(loss.item()), loss=(tr_loss / (step + 1))\n",
    "        )\n",
    "    scheduler.step()  # Update learning rate schedule\n",
    "\n",
    "    if do_valid:\n",
    "        with torch.no_grad():\n",
    "            val_loss = 0.0\n",
    "            preds = []\n",
    "            true_labels = []\n",
    "            case_ids = []\n",
    "            epoch_iterator_val = tqdm(validation_dl)\n",
    "            for step, batch in enumerate(epoch_iterator_val):\n",
    "                model.eval()\n",
    "                images, targets = batch[\"image\"].to(device), batch[\"target\"].to(device)\n",
    "\n",
    "                outputs = model(images)\n",
    "                targets = targets  # .view(-1, 1)\n",
    "                loss = criterion(outputs.squeeze(1), targets.float())\n",
    "                val_loss += loss.item()\n",
    "                epoch_iterator_val.set_postfix(\n",
    "                    batch_loss=(loss.item()), loss=(val_loss / (step + 1))\n",
    "                )\n",
    "                preds.append(outputs.sigmoid().detach().cpu().numpy())\n",
    "                true_labels.append(targets.cpu().numpy())\n",
    "                case_ids.append(batch[\"case_id\"])\n",
    "        preds = np.vstack(preds).T[0].tolist()\n",
    "        true_labels = np.hstack(true_labels).tolist()\n",
    "        case_ids = np.hstack(case_ids).tolist()\n",
    "        auc_score = roc_auc_score(true_labels, preds)\n",
    "        auc_score_adj_best = 0\n",
    "        for thresh in np.linspace(0, 1, 50):\n",
    "            auc_score_adj = roc_auc_score(true_labels, list(np.array(preds) > thresh))\n",
    "            if auc_score_adj > auc_score_adj_best:\n",
    "                best_thresh = thresh\n",
    "                auc_score_adj_best = auc_score_adj\n",
    "                best_acc = accuracy_score(true_labels, list(np.array(preds) > thresh))\n",
    "\n",
    "        print(\n",
    "            f\"EPOCH {counter}/{N_EPOCHS}: Validation average loss: {val_loss/(step+1)} + AUC SCORE = {auc_score} + AUC SCORE THRESH {best_thresh} = {auc_score_adj_best}\"\n",
    "        )\n",
    "        print(f'Best Accuracy: {best_acc}')\n",
    "        if auc_score > best_auc:\n",
    "            print(\"Saving the model...\")\n",
    "            final_thresh = best_thresh\n",
    "            all_files = os.listdir(\"./\")\n",
    "\n",
    "            for f in all_files:\n",
    "                if f\"{MODEL_NAME}_{type_}_fold{curr_fold}\" in f:\n",
    "                    os.remove(f\"./{f}\")\n",
    "\n",
    "            best_auc = auc_score\n",
    "            best_model = f\"./3d-{MODEL_NAME}_{type_}_fold{curr_fold}_{round(best_auc,3)}.pth\"\n",
    "            torch.save(\n",
    "                model.state_dict(),\n",
    "                f\"./3d-{MODEL_NAME}_{type_}_fold{curr_fold}_{round(best_auc,3)}.pth\",\n",
    "            )\n",
    "\n",
    "print(best_auc)"
   ]
  },
  {
   "cell_type": "code",
   "execution_count": 15,
   "id": "8399a1cf",
   "metadata": {
    "execution": {
     "iopub.execute_input": "2021-12-24T21:12:27.899927Z",
     "iopub.status.busy": "2021-12-24T21:12:27.899175Z",
     "iopub.status.idle": "2021-12-24T21:15:17.431738Z",
     "shell.execute_reply": "2021-12-24T21:15:17.432132Z",
     "shell.execute_reply.started": "2021-12-23T22:04:14.799429Z"
    },
    "papermill": {
     "duration": 170.155105,
     "end_time": "2021-12-24T21:15:17.432289",
     "exception": false,
     "start_time": "2021-12-24T21:12:27.277184",
     "status": "completed"
    },
    "tags": []
   },
   "outputs": [
    {
     "name": "stderr",
     "output_type": "stream",
     "text": [
      "100%|██████████| 585/585 [02:49<00:00,  3.45it/s]\n"
     ]
    }
   ],
   "source": [
    "tta_true_labels = []\n",
    "tta_preds = []\n",
    "test_dataset = BrainRSNADataset(data=data, mri_type=type_, is_train=True)\n",
    "test_dl = torch.utils.data.DataLoader(\n",
    "        test_dataset, batch_size=1, shuffle=False, num_workers=4\n",
    "    )\n",
    "\n",
    "# preds_f = np.zeros(len(sample))\n",
    "# for fold in range(5):\n",
    "image_ids = []\n",
    "model.load_state_dict(torch.load(best_model))\n",
    "preds = []\n",
    "labels = []\n",
    "epoch_iterator_test = tqdm(test_dl)\n",
    "with torch.no_grad():\n",
    "    for  step, batch in enumerate(epoch_iterator_test):\n",
    "        model.eval()\n",
    "        images = batch[\"image\"].to(device)\n",
    "\n",
    "        outputs = model(images)\n",
    "        preds.append(outputs.sigmoid().detach().cpu().numpy())\n",
    "        image_ids.append(batch[\"case_id\"].detach().cpu().numpy())\n",
    "        labels.append(batch['target'].detach().cpu().numpy())\n",
    "\n",
    "#     preds_f += np.vstack(preds).T[0]/5\n",
    "\n",
    "#     ids_f = np.hstack(image_ids)"
   ]
  },
  {
   "cell_type": "code",
   "execution_count": 16,
   "id": "85b0355d",
   "metadata": {
    "execution": {
     "iopub.execute_input": "2021-12-24T21:15:18.823660Z",
     "iopub.status.busy": "2021-12-24T21:15:18.822356Z",
     "iopub.status.idle": "2021-12-24T21:15:18.825147Z",
     "shell.execute_reply": "2021-12-24T21:15:18.824749Z",
     "shell.execute_reply.started": "2021-12-23T22:06:40.613742Z"
    },
    "papermill": {
     "duration": 0.694944,
     "end_time": "2021-12-24T21:15:18.825256",
     "exception": false,
     "start_time": "2021-12-24T21:15:18.130312",
     "status": "completed"
    },
    "tags": []
   },
   "outputs": [],
   "source": [
    "all_preds = []\n",
    "for batch in preds:\n",
    "    for pred in batch:\n",
    "        all_preds.append(pred[0])"
   ]
  },
  {
   "cell_type": "code",
   "execution_count": 17,
   "id": "defec3a2",
   "metadata": {
    "execution": {
     "iopub.execute_input": "2021-12-24T21:15:20.253529Z",
     "iopub.status.busy": "2021-12-24T21:15:20.252683Z",
     "iopub.status.idle": "2021-12-24T21:15:20.255412Z",
     "shell.execute_reply": "2021-12-24T21:15:20.255013Z",
     "shell.execute_reply.started": "2021-12-23T22:06:41.401199Z"
    },
    "papermill": {
     "duration": 0.709503,
     "end_time": "2021-12-24T21:15:20.255548",
     "exception": false,
     "start_time": "2021-12-24T21:15:19.546045",
     "status": "completed"
    },
    "tags": []
   },
   "outputs": [],
   "source": [
    "all_labels = []\n",
    "for batch in labels:\n",
    "    for lab in batch:\n",
    "        all_labels.append(lab)"
   ]
  },
  {
   "cell_type": "code",
   "execution_count": 18,
   "id": "cabf3a47",
   "metadata": {
    "execution": {
     "iopub.execute_input": "2021-12-24T21:15:21.989619Z",
     "iopub.status.busy": "2021-12-24T21:15:21.987828Z",
     "iopub.status.idle": "2021-12-24T21:15:21.990288Z",
     "shell.execute_reply": "2021-12-24T21:15:21.990733Z",
     "shell.execute_reply.started": "2021-12-23T22:06:43.137328Z"
    },
    "papermill": {
     "duration": 1.001572,
     "end_time": "2021-12-24T21:15:21.990873",
     "exception": false,
     "start_time": "2021-12-24T21:15:20.989301",
     "status": "completed"
    },
    "tags": []
   },
   "outputs": [],
   "source": [
    "assert len(all_preds) == len(all_labels)"
   ]
  },
  {
   "cell_type": "code",
   "execution_count": 19,
   "id": "33dbae5a",
   "metadata": {
    "execution": {
     "iopub.execute_input": "2021-12-24T21:15:23.444693Z",
     "iopub.status.busy": "2021-12-24T21:15:23.444025Z",
     "iopub.status.idle": "2021-12-24T21:15:23.453558Z",
     "shell.execute_reply": "2021-12-24T21:15:23.452897Z",
     "shell.execute_reply.started": "2021-12-23T22:06:43.756986Z"
    },
    "papermill": {
     "duration": 0.710387,
     "end_time": "2021-12-24T21:15:23.453690",
     "exception": false,
     "start_time": "2021-12-24T21:15:22.743303",
     "status": "completed"
    },
    "tags": []
   },
   "outputs": [
    {
     "name": "stdout",
     "output_type": "stream",
     "text": [
      "0.6188034188034188\n",
      "0.6179492887774471\n"
     ]
    }
   ],
   "source": [
    "from sklearn.metrics import accuracy_score, roc_auc_score\n",
    "\n",
    "all_preds_thresh = [val >= final_thresh for val in all_preds]\n",
    "print(accuracy_score(all_labels, all_preds_thresh))\n",
    "print(roc_auc_score(all_labels, all_preds_thresh))"
   ]
  }
 ],
 "metadata": {
  "kernelspec": {
   "display_name": "Python 3",
   "language": "python",
   "name": "python3"
  },
  "language_info": {
   "codemirror_mode": {
    "name": "ipython",
    "version": 3
   },
   "file_extension": ".py",
   "mimetype": "text/x-python",
   "name": "python",
   "nbconvert_exporter": "python",
   "pygments_lexer": "ipython3",
   "version": "3.7.10"
  },
  "papermill": {
   "default_parameters": {},
   "duration": 3106.682779,
   "end_time": "2021-12-24T21:15:27.350483",
   "environment_variables": {},
   "exception": null,
   "input_path": "__notebook__.ipynb",
   "output_path": "__notebook__.ipynb",
   "parameters": {},
   "start_time": "2021-12-24T20:23:40.667704",
   "version": "2.3.3"
  }
 },
 "nbformat": 4,
 "nbformat_minor": 5
}
