{
 "cells": [
  {
   "cell_type": "code",
   "execution_count": 1,
   "metadata": {
    "scrolled": true
   },
   "outputs": [
    {
     "name": "stdout",
     "output_type": "stream",
     "text": [
      "Fri Jun 17 10:06:42 2022       \n",
      "+-----------------------------------------------------------------------------+\n",
      "| NVIDIA-SMI 460.91.03    Driver Version: 460.91.03    CUDA Version: 11.2     |\n",
      "|-------------------------------+----------------------+----------------------+\n",
      "| GPU  Name        Persistence-M| Bus-Id        Disp.A | Volatile Uncorr. ECC |\n",
      "| Fan  Temp  Perf  Pwr:Usage/Cap|         Memory-Usage | GPU-Util  Compute M. |\n",
      "|                               |                      |               MIG M. |\n",
      "|===============================+======================+======================|\n",
      "|   0  GeForce GTX 108...  Off  | 00000000:3B:00.0 Off |                  N/A |\n",
      "| 23%   24C    P8    15W / 250W |    263MiB / 11178MiB |      0%      Default |\n",
      "|                               |                      |                  N/A |\n",
      "+-------------------------------+----------------------+----------------------+\n",
      "|   1  GeForce GTX 108...  Off  | 00000000:5E:00.0 Off |                  N/A |\n",
      "| 23%   24C    P8     8W / 250W |  10914MiB / 11178MiB |      0%      Default |\n",
      "|                               |                      |                  N/A |\n",
      "+-------------------------------+----------------------+----------------------+\n",
      "|   2  GeForce GTX 108...  Off  | 00000000:AF:00.0 Off |                  N/A |\n",
      "| 23%   27C    P8     8W / 250W |  10914MiB / 11178MiB |      0%      Default |\n",
      "|                               |                      |                  N/A |\n",
      "+-------------------------------+----------------------+----------------------+\n",
      "|   3  GeForce GTX 108...  Off  | 00000000:D8:00.0 Off |                  N/A |\n",
      "| 23%   25C    P8     8W / 250W |  10914MiB / 11178MiB |      0%      Default |\n",
      "|                               |                      |                  N/A |\n",
      "+-------------------------------+----------------------+----------------------+\n",
      "                                                                               \n",
      "+-----------------------------------------------------------------------------+\n",
      "| Processes:                                                                  |\n",
      "|  GPU   GI   CI        PID   Type   Process name                  GPU Memory |\n",
      "|        ID   ID                                                   Usage      |\n",
      "|=============================================================================|\n",
      "+-----------------------------------------------------------------------------+\n"
     ]
    }
   ],
   "source": [
    "!nvidia-smi"
   ]
  },
  {
   "cell_type": "code",
   "execution_count": 2,
   "metadata": {},
   "outputs": [
    {
     "name": "stdout",
     "output_type": "stream",
     "text": [
      "[ 2022-06-17 10:06:44 ] CUDA_VISIBLE_DEVICES automatically set to: 0           \n"
     ]
    }
   ],
   "source": [
    "from jarvis.utils.general import gpus\n",
    "\n",
    "gpus.autoselect()"
   ]
  },
  {
   "cell_type": "code",
   "execution_count": 3,
   "metadata": {},
   "outputs": [],
   "source": [
    "import numpy as np\n",
    "from jarvis.train import datasets\n",
    "from jarvis.utils.display import imshow\n",
    "from tensorflow.keras import Input\n",
    "from jarvis.train.client import Client\n",
    "\n",
    "from IPython.display import clear_output\n",
    "import matplotlib.pyplot as plt\n",
    "import tensorflow as tf"
   ]
  },
  {
   "cell_type": "code",
   "execution_count": 4,
   "metadata": {},
   "outputs": [],
   "source": [
    "def show_mri(mri):\n",
    "    for i in range(mri.shape[0]):\n",
    "        clear_output(wait=True)\n",
    "        plt.axis(False)\n",
    "        plt.imshow(mri[i, :, :, 0], cmap='gray')\n",
    "        plt.show()"
   ]
  },
  {
   "cell_type": "code",
   "execution_count": 5,
   "metadata": {},
   "outputs": [],
   "source": [
    "# --- prepare generators\n",
    "client = Client('/data/raw/miccai_rsna/data/ymls/client-3d.yml')\n",
    "gen_train, gen_valid = client.create_generators()"
   ]
  },
  {
   "cell_type": "code",
   "execution_count": 6,
   "metadata": {},
   "outputs": [
    {
     "name": "stdout",
     "output_type": "stream",
     "text": [
      "[[[[1]]]]\n"
     ]
    }
   ],
   "source": [
    "# --- Show a sample training set\n",
    "xs, ys = next(gen_train)\n",
    "# imshow(xs['t2w'][0][24], radius=1)\n",
    "print(ys['lbl'][0])"
   ]
  },
  {
   "cell_type": "code",
   "execution_count": 7,
   "metadata": {},
   "outputs": [
    {
     "data": {
      "text/plain": [
       "(4, 48, 96, 96, 1)"
      ]
     },
     "execution_count": 7,
     "metadata": {},
     "output_type": "execute_result"
    }
   ],
   "source": [
    "flair = xs['fla']\n",
    "flair.shape"
   ]
  },
  {
   "cell_type": "code",
   "execution_count": 8,
   "metadata": {},
   "outputs": [],
   "source": [
    "flair1 = flair[0]"
   ]
  },
  {
   "cell_type": "code",
   "execution_count": 9,
   "metadata": {},
   "outputs": [
    {
     "data": {
      "text/plain": [
       "(48, 96, 96, 1)"
      ]
     },
     "execution_count": 9,
     "metadata": {},
     "output_type": "execute_result"
    }
   ],
   "source": [
    "flair1.shape"
   ]
  },
  {
   "cell_type": "code",
   "execution_count": 10,
   "metadata": {},
   "outputs": [
    {
     "data": {
      "text/plain": [
       "-1.082441068099527"
      ]
     },
     "execution_count": 10,
     "metadata": {},
     "output_type": "execute_result"
    }
   ],
   "source": [
    "np.min(flair1)"
   ]
  },
  {
   "cell_type": "code",
   "execution_count": 11,
   "metadata": {},
   "outputs": [
    {
     "data": {
      "image/png": "[encoded data removed]",
      "text/plain": [
       "<Figure size 432x288 with 1 Axes>"
      ]
     },
     "metadata": {
      "needs_background": "light"
     },
     "output_type": "display_data"
    }
   ],
   "source": [
    "show_mri(flair[1])"
   ]
  },
  {
   "cell_type": "code",
   "execution_count": 12,
   "metadata": {},
   "outputs": [
    {
     "data": {
      "text/plain": [
       "{'lbl': array([[[[[1]]]],\n",
       " \n",
       " \n",
       " \n",
       "        [[[[1]]]],\n",
       " \n",
       " \n",
       " \n",
       "        [[[[0]]]],\n",
       " \n",
       " \n",
       " \n",
       "        [[[[1]]]]], dtype=uint8)}"
      ]
     },
     "execution_count": 12,
     "metadata": {},
     "output_type": "execute_result"
    }
   ],
   "source": [
    "ys"
   ]
  },
  {
   "cell_type": "code",
   "execution_count": 13,
   "metadata": {},
   "outputs": [
    {
     "data": {
      "text/plain": [
       "array([[1],\n",
       "       [1],\n",
       "       [0],\n",
       "       [1]], dtype=uint8)"
      ]
     },
     "execution_count": 13,
     "metadata": {},
     "output_type": "execute_result"
    }
   ],
   "source": [
    "ys['lbl'][:, 0, 0, 0]"
   ]
  },
  {
   "cell_type": "code",
   "execution_count": 14,
   "metadata": {},
   "outputs": [
    {
     "data": {
      "text/plain": [
       "dict_keys(['t2w', 't1w', 't1wce', 'fla', 'lbl'])"
      ]
     },
     "execution_count": 14,
     "metadata": {},
     "output_type": "execute_result"
    }
   ],
   "source": [
    "xs.keys()"
   ]
  },
  {
   "cell_type": "code",
   "execution_count": 15,
   "metadata": {},
   "outputs": [
    {
     "name": "stdout",
     "output_type": "stream",
     "text": [
      "xs key: t2w      | shape = (4, 48, 96, 96, 1)\n",
      "xs key: t1w      | shape = (4, 48, 96, 96, 1)\n",
      "xs key: t1wce    | shape = (4, 48, 96, 96, 1)\n",
      "xs key: fla      | shape = (4, 48, 96, 96, 1)\n",
      "xs key: lbl      | shape = (4, 1, 1, 1, 1)\n"
     ]
    }
   ],
   "source": [
    "# --- Print keys \n",
    "for key, arr in xs.items():\n",
    "    print('xs key: {} | shape = {}'.format(key.ljust(8), arr.shape))"
   ]
  },
  {
   "cell_type": "code",
   "execution_count": 16,
   "metadata": {},
   "outputs": [],
   "source": [
    "# --- Create model inputs\n",
    "inputs = client.get_inputs(Input)"
   ]
  },
  {
   "cell_type": "code",
   "execution_count": 17,
   "metadata": {},
   "outputs": [
    {
     "data": {
      "text/plain": [
       "{'t2w': <KerasTensor: shape=(None, 48, 96, 96, 1) dtype=float32 (created by layer 't2w')>,\n",
       " 't1w': <KerasTensor: shape=(None, 48, 96, 96, 1) dtype=float32 (created by layer 't1w')>,\n",
       " 't1wce': <KerasTensor: shape=(None, 48, 96, 96, 1) dtype=float32 (created by layer 't1wce')>,\n",
       " 'fla': <KerasTensor: shape=(None, 48, 96, 96, 1) dtype=float32 (created by layer 'fla')>,\n",
       " 'lbl': <KerasTensor: shape=(None, 1, 1, 1, 1) dtype=uint8 (created by layer 'lbl')>}"
      ]
     },
     "execution_count": 17,
     "metadata": {},
     "output_type": "execute_result"
    }
   ],
   "source": [
    "inputs"
   ]
  },
  {
   "cell_type": "code",
   "execution_count": 18,
   "metadata": {},
   "outputs": [],
   "source": [
    "from tensorflow.keras.layers import Dense, Conv3D, GlobalAveragePooling3D, Flatten, InputLayer, MaxPool3D"
   ]
  },
  {
   "cell_type": "code",
   "execution_count": 19,
   "metadata": {},
   "outputs": [],
   "source": [
    "base_model = tf.keras.Sequential()\n",
    "base_model.add(InputLayer(input_shape=(48, 96, 96, 1)))\n",
    "base_model.add(Conv3D(16, 3, activation='relu', padding='same', data_format='channels_first'))\n",
    "base_model.add(MaxPool3D(padding='same', data_format='channels_first'))\n",
    "base_model.add(Conv3D(32, 3, activation='relu', padding='same', data_format='channels_first'))\n",
    "base_model.add(MaxPool3D(padding='same', data_format='channels_first'))\n",
    "base_model.add(Conv3D(48, 3, activation='relu', padding='same', data_format='channels_first'))\n",
    "base_model.add(MaxPool3D(padding='same', data_format='channels_first'))\n",
    "# base_model.add(Conv3D(64, 3, activation='relu', padding='same', data_format='channels_first'))\n",
    "# base_model.add(MaxPool3D(padding='same', data_format='channels_first'))\n",
    "# base_model.add(Conv3D(80, 3, activation='relu', padding='same', data_format='channels_first'))\n",
    "# base_model.add(MaxPool3D(padding='same', data_format='channels_first'))\n",
    "\n",
    "base_model.add(Flatten())\n",
    "base_model.add(Dense(128, activation='relu'))\n",
    "base_model.add(Dense(1, activation='sigmoid'))\n"
   ]
  },
  {
   "cell_type": "code",
   "execution_count": 20,
   "metadata": {},
   "outputs": [
    {
     "name": "stdout",
     "output_type": "stream",
     "text": [
      "Model: \"sequential\"\n",
      "_________________________________________________________________\n",
      "Layer (type)                 Output Shape              Param #   \n",
      "=================================================================\n",
      "conv3d (Conv3D)              (None, 16, 96, 96, 1)     20752     \n",
      "_________________________________________________________________\n",
      "max_pooling3d (MaxPooling3D) (None, 16, 48, 48, 1)     0         \n",
      "_________________________________________________________________\n",
      "conv3d_1 (Conv3D)            (None, 32, 48, 48, 1)     13856     \n",
      "_________________________________________________________________\n",
      "max_pooling3d_1 (MaxPooling3 (None, 32, 24, 24, 1)     0         \n",
      "_________________________________________________________________\n",
      "conv3d_2 (Conv3D)            (None, 48, 24, 24, 1)     41520     \n",
      "_________________________________________________________________\n",
      "max_pooling3d_2 (MaxPooling3 (None, 48, 12, 12, 1)     0         \n",
      "_________________________________________________________________\n",
      "flatten (Flatten)            (None, 6912)              0         \n",
      "_________________________________________________________________\n",
      "dense_1 (Dense)              (None, 128)               884864    \n",
      "_________________________________________________________________\n",
      "dense_2 (Dense)              (None, 1)                 129       \n",
      "=================================================================\n",
      "Total params: 961,121\n",
      "Trainable params: 961,121\n",
      "Non-trainable params: 0\n",
      "_________________________________________________________________\n"
     ]
    }
   ],
   "source": [
    "base_model.summary()"
   ]
  },
  {
   "cell_type": "code",
   "execution_count": 21,
   "metadata": {},
   "outputs": [],
   "source": [
    "from tensorflow.keras.losses import BinaryCrossentropy"
   ]
  },
  {
   "cell_type": "code",
   "execution_count": 22,
   "metadata": {},
   "outputs": [],
   "source": [
    "opt = tf.keras.optimizers.Adam(learning_rate=1e-2)\n",
    "bce = BinaryCrossentropy()\n",
    "# @tf.function\n",
    "def train_step(x, y):\n",
    "#     print(y.shape)\n",
    "    with tf.GradientTape() as tape:\n",
    "#         print('beginning training...')\n",
    "        y_hat = base_model(x, training=True)\n",
    "#         print(y_hat.shape)\n",
    "#         print('done training...')\n",
    "        loss = bce(y, y_hat)\n",
    "    grads = tape.gradient(loss, base_model.trainable_variables)\n",
    "    opt.apply_gradients(zip(grads, base_model.trainable_variables))\n",
    "    return loss"
   ]
  },
  {
   "cell_type": "code",
   "execution_count": 23,
   "metadata": {},
   "outputs": [],
   "source": [
    "annoying_case = None\n",
    "annoying_case_unproc = None"
   ]
  },
  {
   "cell_type": "code",
   "execution_count": 24,
   "metadata": {},
   "outputs": [],
   "source": [
    "def train(train_dataset, n_epochs=1, max_steps_per_epoch=None):\n",
    "    global annoying_case, annoying_case_unproc\n",
    "    for epoch in range(n_epochs):\n",
    "        for i, batch in enumerate(train_dataset):\n",
    "            xs, ys = batch\n",
    "            print(xs['fla'].shape)\n",
    "            fla = xs['fla']\n",
    "            x_prep = fla # (fla-np.min(fla))/(np.max(fla)-np.min(fla))\n",
    "            if max_steps_per_epoch is not None:\n",
    "                if i == max_steps_per_epoch:\n",
    "                    break\n",
    "#             adversarial = (epoch >= 1)\n",
    "            if(np.isnan(x_prep).any()):\n",
    "                continue\n",
    "            l1 = train_step(x_prep, ys['lbl'].reshape(4, 1))#[:, 0, 0, 0])\n",
    "#             del batch\n",
    "            clear_output(wait=True)\n",
    "            if np.isnan(np.max(x_prep)) or np.isnan(np.min(x_prep)):\n",
    "                annoying_case = x_prep\n",
    "                annoying_case_unproc = fla\n",
    "#             show_mri(x_prep[0])\n",
    "            print(\"Epoch {}/{}\".format(epoch + 1, n_epochs))\n",
    "            print(f'Step {i+1}')\n",
    "#             print(f'MRI Shape: {x_prep.shape}')\n",
    "#             print(f'Max Flair: {np.max(x_prep)}')\n",
    "#             print(f'Min Flair: {np.min(x_prep)}')\n",
    "            print(f'Loss: {round(l1.numpy(), 2)}')\n",
    "            "
   ]
  },
  {
   "cell_type": "code",
   "execution_count": 25,
   "metadata": {},
   "outputs": [
    {
     "name": "stdout",
     "output_type": "stream",
     "text": [
      "/device:GPU:0\n"
     ]
    }
   ],
   "source": [
    "print(tf.test.gpu_device_name())"
   ]
  },
  {
   "cell_type": "code",
   "execution_count": 26,
   "metadata": {},
   "outputs": [
    {
     "name": "stdout",
     "output_type": "stream",
     "text": [
      "Epoch 1/1\n",
      "Step 100\n",
      "Loss: 0.7200000286102295\n",
      "(4, 48, 96, 96, 1)\n"
     ]
    }
   ],
   "source": [
    "# --- prepare generators\n",
    "client = Client('/data/raw/miccai_rsna/data/ymls/client-3d.yml')\n",
    "gen_train, gen_valid = client.create_generators()\n",
    "train(gen_train, max_steps_per_epoch=100, n_epochs=1)"
   ]
  },
  {
   "cell_type": "code",
   "execution_count": 27,
   "metadata": {},
   "outputs": [],
   "source": [
    "NUM_VAL_SCANS = 100"
   ]
  },
  {
   "cell_type": "code",
   "execution_count": 28,
   "metadata": {},
   "outputs": [],
   "source": [
    "preds = []\n",
    "labels = []\n",
    "for i, batch in enumerate(gen_valid):\n",
    "    xs, ys = batch\n",
    "    pred = base_model.predict(xs['fla'])\n",
    "    y = ys['lbl']\n",
    "    labels.append(y.reshape(4, 1))\n",
    "    preds.append(pred)\n",
    "    if i == NUM_VAL_SCANS:\n",
    "        break"
   ]
  },
  {
   "cell_type": "code",
   "execution_count": 29,
   "metadata": {},
   "outputs": [],
   "source": [
    "preds = np.array(preds).reshape(-1,)\n",
    "labels = np.array(labels).reshape(-1,)"
   ]
  },
  {
   "cell_type": "code",
   "execution_count": 30,
   "metadata": {},
   "outputs": [
    {
     "data": {
      "text/plain": [
       "array([0.42531955, 0.5723657 , 0.43261427, 0.43311775, 0.70956856,\n",
       "       0.44074088, 0.4776696 , 0.43135336, 0.45288268, 0.4192042 ,\n",
       "       0.41218695, 0.36345667, 0.442863  , 0.5072268 , 0.4459786 ,\n",
       "       0.4035986 , 0.4688085 , 0.4258069 , 0.37644556, 0.20193318,\n",
       "       0.596744  , 0.46565664, 0.44616163, 0.41080862, 0.5828575 ,\n",
       "       0.42218193, 0.4411989 , 0.39959672, 0.40833747, 0.4631559 ,\n",
       "       0.42026815, 0.4183041 , 0.47352093, 0.38134593, 0.51032627,\n",
       "       0.418901  , 0.4304616 , 0.42843008, 0.45646054, 0.43224606,\n",
       "       0.6394574 , 0.35966563, 0.6036318 , 0.44432354, 0.28636777,\n",
       "       0.45510805, 0.46283802, 0.4736457 , 0.38456583, 0.4151377 ,\n",
       "       0.42144024, 0.583315  , 0.32162297, 0.55345637, 0.41629454,\n",
       "       0.6479506 , 0.4247523 , 0.59272057, 0.4339219 , 0.42032212,\n",
       "       0.48431605, 0.4261551 , 0.49194357, 0.45418754, 0.41211915,\n",
       "       0.4131581 , 0.5402255 , 0.42071694, 0.43794477, 0.58010024,\n",
       "       0.42362925, 0.43523523, 0.43698606, 0.4173553 , 0.45575988,\n",
       "       0.41966358, 0.42973334, 0.4373792 , 0.5918225 , 0.41540936,\n",
       "       0.42363873, 0.44042474, 0.42052954, 0.45442647, 0.41660878,\n",
       "       0.46317518, 0.44078404, 0.39265305, 0.4315672 , 0.41481328,\n",
       "       0.5423589 , 0.6929003 , 0.41505063, 0.7067469 , 0.44479582,\n",
       "       0.48493168, 0.42953882, 0.43293366, 0.4605453 , 0.43877217,\n",
       "       0.4247196 , 0.41609293, 0.4622769 , 0.45027158, 0.3680887 ,\n",
       "       0.41749108, 0.4293888 , 0.6071231 , 0.45012236, 0.403762  ,\n",
       "       0.39229947, 0.42944497, 0.44405296, 0.41739935, 0.43096164,\n",
       "       0.4285622 , 0.43649882, 0.4281597 , 0.57868856, 0.42579865,\n",
       "       0.46739644, 0.41816014, 0.44697574, 0.43755743, 0.58625597,\n",
       "       0.45502293, 0.4196253 , 0.45269457, 0.46498683, 0.4088495 ,\n",
       "       0.41288754, 0.41471758, 0.41618863, 0.4438959 , 0.3954537 ,\n",
       "       0.44579622, 0.3634463 , 0.5116312 , 0.46197996, 0.43601498,\n",
       "       0.41456646, 0.41495216, 0.53413993, 0.45163602, 0.5663271 ,\n",
       "       0.41872793, 0.43900162, 0.43816447, 0.42098543, 0.4340057 ,\n",
       "       0.4191147 , 0.42713463, 0.46241564, 0.42699504, 0.39757612,\n",
       "       0.42050818, 0.58753234, 0.4441158 , 0.40518945, 0.5721382 ,\n",
       "       0.4499739 , 0.5014429 , 0.43808955, 0.48893493, 0.34878814,\n",
       "       0.40571448, 0.411017  , 0.43768802, 0.39083   , 0.43727306,\n",
       "       0.66832393, 0.46028718, 0.4235472 , 0.41624084, 0.4128917 ,\n",
       "       0.42856637, 0.46296424, 0.44636485, 0.50448185, 0.20134969,\n",
       "       0.39476985, 0.43325853, 0.37386394, 0.43786824, 0.626475  ,\n",
       "       0.4298519 , 0.4289651 , 0.4245352 , 0.55328834, 0.44626668,\n",
       "       0.41852027, 0.49124905, 0.44658342, 0.3918671 , 0.4590708 ,\n",
       "       0.41145727, 0.4657716 , 0.3569157 , 0.3702889 , 0.42347613,\n",
       "       0.4355795 , 0.4407854 , 0.41535324, 0.48312703, 0.43095085,\n",
       "       0.57588506, 0.4123167 , 0.449913  , 0.34693187, 0.43208292,\n",
       "       0.4187384 , 0.46450582, 0.41955802, 0.44881222, 0.6041692 ,\n",
       "       0.442784  , 0.6083858 , 0.46056008, 0.4485662 , 0.6722986 ,\n",
       "       0.7227014 , 0.40928447, 0.4702414 , 0.30244926, 0.4276921 ,\n",
       "       0.43401325, 0.4098846 , 0.5031686 , 0.5727668 , 0.4315545 ,\n",
       "       0.35552084, 0.41717616, 0.39946246, 0.47826934, 0.50086987,\n",
       "       0.57391804, 0.46301135, 0.45859066, 0.46002737, 0.45803756,\n",
       "       0.42271286, 0.5457882 , 0.46136343, 0.51903695, 0.4343318 ,\n",
       "       0.44547975, 0.45605588, 0.4849393 , 0.43269348, 0.4154355 ,\n",
       "       0.4361635 , 0.44906387, 0.41719547, 0.3977258 , 0.39769298,\n",
       "       0.4150728 , 0.40704688, 0.41943905, 0.4332419 , 0.41747046,\n",
       "       0.41454753, 0.41995433, 0.5421931 , 0.4362373 , 0.2573809 ,\n",
       "       0.4198839 , 0.41903132, 0.4554289 , 0.40506095, 0.39640707,\n",
       "       0.41471058, 0.38211384, 0.4144421 , 0.41739634, 0.43100655,\n",
       "       0.5401041 , 0.48178875, 0.4524539 , 0.462185  , 0.44781917,\n",
       "       0.37538457, 0.4172829 , 0.33062062, 0.4675724 , 0.4276125 ,\n",
       "       0.45305818, 0.4305908 , 0.4192196 , 0.42961392, 0.46235946,\n",
       "       0.43542242, 0.42134926, 0.42918378, 0.4409678 , 0.44595414,\n",
       "       0.41924912, 0.41221938, 0.42541143, 0.67925316, 0.44796985,\n",
       "       0.4084468 , 0.5313864 , 0.5196641 , 0.57979417, 0.44106695,\n",
       "       0.42038286, 0.43661767, 0.40693107, 0.45569855, 0.44522026,\n",
       "       0.42270264, 0.42284554, 0.51764756, 0.5603313 , 0.42179617,\n",
       "       0.45440274, 0.43230665, 0.33377492, 0.47174633, 0.42656556,\n",
       "       0.42743245, 0.42118037, 0.44241837, 0.43292168, 0.4171174 ,\n",
       "       0.42921934, 0.53503567, 0.6615389 , 0.17972419, 0.44601628,\n",
       "       0.4128495 , 0.56819755, 0.44822735, 0.38863093, 0.48370615,\n",
       "       0.6944174 , 0.70600617, 0.42348108, 0.64410263, 0.43734848,\n",
       "       0.5752469 , 0.41453212, 0.5385812 , 0.3932551 , 0.4367813 ,\n",
       "       0.57793486, 0.43068662, 0.6839709 , 0.44062975, 0.6612134 ,\n",
       "       0.23510683, 0.44015935, 0.4190354 , 0.41952413, 0.3627076 ,\n",
       "       0.44828773, 0.42483455, 0.43159354, 0.42986098, 0.421744  ,\n",
       "       0.4741183 , 0.30850765, 0.457288  , 0.44113615, 0.42202616,\n",
       "       0.41654244, 0.44062248, 0.46319255, 0.46254078, 0.4403294 ,\n",
       "       0.34300318, 0.41447744, 0.4106659 , 0.36853343, 0.401714  ,\n",
       "       0.52360284, 0.41569942, 0.45395872, 0.42124653, 0.41984272,\n",
       "       0.4191976 , 0.5169445 , 0.56163096, 0.41966605, 0.46580306,\n",
       "       0.5411868 , 0.45933726, 0.46205762, 0.43530673, 0.40210024,\n",
       "       0.41170782, 0.3212063 , 0.4293851 , 0.5180576 , 0.55478567,\n",
       "       0.4251169 , 0.45431045, 0.4280636 , 0.5573386 , 0.51174664,\n",
       "       0.36931664, 0.433172  , 0.66719264, 0.45192227], dtype=float32)"
      ]
     },
     "execution_count": 30,
     "metadata": {},
     "output_type": "execute_result"
    }
   ],
   "source": [
    "preds"
   ]
  },
  {
   "cell_type": "code",
   "execution_count": 31,
   "metadata": {},
   "outputs": [],
   "source": [
    "preds[preds > 0.5] = 1\n",
    "preds[preds <= 0.5] = 0"
   ]
  },
  {
   "cell_type": "code",
   "execution_count": 32,
   "metadata": {},
   "outputs": [],
   "source": [
    "from sklearn.metrics import accuracy_score"
   ]
  },
  {
   "cell_type": "code",
   "execution_count": 33,
   "metadata": {},
   "outputs": [
    {
     "name": "stdout",
     "output_type": "stream",
     "text": [
      "Validated on 100 scans...\n",
      "Accuracy: 0.5544554455445545\n"
     ]
    }
   ],
   "source": [
    "acc = accuracy_score(preds, labels)\n",
    "print(f'Validated on {NUM_VAL_SCANS} scans...')\n",
    "print(f'Accuracy: {acc}')"
   ]
  },
  {
   "cell_type": "code",
   "execution_count": null,
   "metadata": {},
   "outputs": [],
   "source": []
  }
 ],
 "metadata": {
  "kernelspec": {
   "display_name": "Python 3",
   "language": "python",
   "name": "python3"
  },
  "language_info": {
   "codemirror_mode": {
    "name": "ipython",
    "version": 3
   },
   "file_extension": ".py",
   "mimetype": "text/x-python",
   "name": "python",
   "nbconvert_exporter": "python",
   "pygments_lexer": "ipython3",
   "version": "3.8.5"
  }
 },
 "nbformat": 4,
 "nbformat_minor": 4
}
