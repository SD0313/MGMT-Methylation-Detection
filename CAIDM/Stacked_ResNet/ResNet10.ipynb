{
 "cells": [
  {
   "cell_type": "code",
   "execution_count": 1,
   "metadata": {},
   "outputs": [
    {
     "name": "stdout",
     "output_type": "stream",
     "text": [
      "Thu Jul 21 11:17:00 2022       \n",
      "+-----------------------------------------------------------------------------+\n",
      "| NVIDIA-SMI 460.91.03    Driver Version: 460.91.03    CUDA Version: 11.2     |\n",
      "|-------------------------------+----------------------+----------------------+\n",
      "| GPU  Name        Persistence-M| Bus-Id        Disp.A | Volatile Uncorr. ECC |\n",
      "| Fan  Temp  Perf  Pwr:Usage/Cap|         Memory-Usage | GPU-Util  Compute M. |\n",
      "|                               |                      |               MIG M. |\n",
      "|===============================+======================+======================|\n",
      "|   0  GeForce GTX 108...  Off  | 00000000:3B:00.0 Off |                  N/A |\n",
      "| 23%   26C    P8    16W / 250W |  10913MiB / 11178MiB |      0%      Default |\n",
      "|                               |                      |                  N/A |\n",
      "+-------------------------------+----------------------+----------------------+\n",
      "|   1  GeForce GTX 108...  Off  | 00000000:5E:00.0 Off |                  N/A |\n",
      "| 23%   24C    P8     8W / 250W |  10913MiB / 11178MiB |      0%      Default |\n",
      "|                               |                      |                  N/A |\n",
      "+-------------------------------+----------------------+----------------------+\n",
      "|   2  GeForce GTX 108...  Off  | 00000000:AF:00.0 Off |                  N/A |\n",
      "| 22%   37C    P0    54W / 250W |      0MiB / 11178MiB |      0%      Default |\n",
      "|                               |                      |                  N/A |\n",
      "+-------------------------------+----------------------+----------------------+\n",
      "|   3  GeForce GTX 108...  Off  | 00000000:D8:00.0 Off |                  N/A |\n",
      "| 23%   24C    P8     8W / 250W |  10913MiB / 11178MiB |      0%      Default |\n",
      "|                               |                      |                  N/A |\n",
      "+-------------------------------+----------------------+----------------------+\n",
      "                                                                               \n",
      "+-----------------------------------------------------------------------------+\n",
      "| Processes:                                                                  |\n",
      "|  GPU   GI   CI        PID   Type   Process name                  GPU Memory |\n",
      "|        ID   ID                                                   Usage      |\n",
      "|=============================================================================|\n",
      "+-----------------------------------------------------------------------------+\n"
     ]
    }
   ],
   "source": [
    "!nvidia-smi"
   ]
  },
  {
   "cell_type": "code",
   "execution_count": 2,
   "metadata": {},
   "outputs": [
    {
     "data": {
      "text/plain": [
       "{0: {'alloc': 10913, 'total': 11178, 'percentage': 0.9762927178386116},\n",
       " 1: {'alloc': 10913, 'total': 11178, 'percentage': 0.9762927178386116},\n",
       " 2: {'alloc': 0, 'total': 11178, 'percentage': 0.0},\n",
       " 3: {'alloc': 10913, 'total': 11178, 'percentage': 0.9762927178386116}}"
      ]
     },
     "execution_count": 2,
     "metadata": {},
     "output_type": "execute_result"
    }
   ],
   "source": [
    "from jarvis.utils.general import gpus\n",
    "gpus.find_all()"
   ]
  },
  {
   "cell_type": "code",
   "execution_count": 3,
   "metadata": {},
   "outputs": [
    {
     "data": {
      "text/plain": [
       "{2: {'alloc': 0, 'total': 11178, 'percentage': 0.0}}"
      ]
     },
     "execution_count": 3,
     "metadata": {},
     "output_type": "execute_result"
    }
   ],
   "source": [
    "gpus.find_available()"
   ]
  },
  {
   "cell_type": "code",
   "execution_count": 4,
   "metadata": {},
   "outputs": [
    {
     "name": "stdout",
     "output_type": "stream",
     "text": [
      "[ 2022-07-21 11:17:04 ] CUDA_VISIBLE_DEVICES automatically set to: 2           \n"
     ]
    }
   ],
   "source": [
    "gpus.autoselect()"
   ]
  },
  {
   "cell_type": "code",
   "execution_count": 5,
   "metadata": {},
   "outputs": [],
   "source": [
    "import numpy as np\n",
    "from jarvis.train import datasets\n",
    "from jarvis.utils.display import imshow\n",
    "from tensorflow.keras import Input\n",
    "from jarvis.train.client import Client\n",
    "\n",
    "from IPython.display import clear_output\n",
    "import matplotlib.pyplot as plt\n",
    "import tensorflow as tf"
   ]
  },
  {
   "cell_type": "code",
   "execution_count": 6,
   "metadata": {},
   "outputs": [
    {
     "data": {
      "text/plain": [
       "'/device:GPU:0'"
      ]
     },
     "execution_count": 6,
     "metadata": {},
     "output_type": "execute_result"
    }
   ],
   "source": [
    "tf.test.gpu_device_name()"
   ]
  },
  {
   "cell_type": "code",
   "execution_count": 7,
   "metadata": {},
   "outputs": [],
   "source": [
    "def show_mri(mri):\n",
    "    for i in range(mri.shape[0]):\n",
    "        clear_output(wait=True)\n",
    "        plt.axis(False)\n",
    "        plt.imshow(mri[i, :, :, 0] if len(mri.shape) == 4 else mri[i, :, :], cmap='gray')\n",
    "        plt.show()"
   ]
  },
  {
   "cell_type": "code",
   "execution_count": 8,
   "metadata": {},
   "outputs": [],
   "source": [
    "# --- prepare generators\n",
    "client = Client('/data/raw/miccai_rsna/data/ymls/client-3d.yml')\n",
    "gen_train, gen_valid = client.create_generators()"
   ]
  },
  {
   "cell_type": "code",
   "execution_count": 9,
   "metadata": {},
   "outputs": [
    {
     "data": {
      "text/plain": [
       "array([[1],\n",
       "       [0],\n",
       "       [0],\n",
       "       [0]], dtype=uint8)"
      ]
     },
     "execution_count": 9,
     "metadata": {},
     "output_type": "execute_result"
    }
   ],
   "source": [
    "# --- Show a sample training set\n",
    "xs, ys = next(gen_train)\n",
    "# imshow(xs['t2w'][0][24], radius=1)\n",
    "ys['lbl'].reshape(4, 1)"
   ]
  },
  {
   "cell_type": "code",
   "execution_count": 10,
   "metadata": {},
   "outputs": [
    {
     "data": {
      "text/plain": [
       "(4, 48, 96, 96, 1)"
      ]
     },
     "execution_count": 10,
     "metadata": {},
     "output_type": "execute_result"
    }
   ],
   "source": [
    "flair = xs['fla']\n",
    "flair.shape"
   ]
  },
  {
   "cell_type": "code",
   "execution_count": 11,
   "metadata": {},
   "outputs": [],
   "source": [
    "flair1 = flair[0]"
   ]
  },
  {
   "cell_type": "code",
   "execution_count": 12,
   "metadata": {},
   "outputs": [
    {
     "data": {
      "text/plain": [
       "(48, 96, 96, 1)"
      ]
     },
     "execution_count": 12,
     "metadata": {},
     "output_type": "execute_result"
    }
   ],
   "source": [
    "flair1.shape"
   ]
  },
  {
   "cell_type": "code",
   "execution_count": 13,
   "metadata": {},
   "outputs": [
    {
     "data": {
      "text/plain": [
       "-0.7507961731464879"
      ]
     },
     "execution_count": 13,
     "metadata": {},
     "output_type": "execute_result"
    }
   ],
   "source": [
    "np.min(flair1)"
   ]
  },
  {
   "cell_type": "code",
   "execution_count": 14,
   "metadata": {},
   "outputs": [
    {
     "data": {
      "image/png": "[encoded data removed]",
      "text/plain": [
       "<Figure size 432x288 with 1 Axes>"
      ]
     },
     "metadata": {
      "needs_background": "light"
     },
     "output_type": "display_data"
    }
   ],
   "source": [
    "# show_mri(flair1)"
   ]
  },
  {
   "cell_type": "code",
   "execution_count": 15,
   "metadata": {},
   "outputs": [
    {
     "data": {
      "text/plain": [
       "{'lbl': array([[[[[1]]]],\n",
       " \n",
       " \n",
       " \n",
       "        [[[[0]]]],\n",
       " \n",
       " \n",
       " \n",
       "        [[[[0]]]],\n",
       " \n",
       " \n",
       " \n",
       "        [[[[0]]]]], dtype=uint8)}"
      ]
     },
     "execution_count": 15,
     "metadata": {},
     "output_type": "execute_result"
    }
   ],
   "source": [
    "ys"
   ]
  },
  {
   "cell_type": "code",
   "execution_count": 16,
   "metadata": {},
   "outputs": [
    {
     "data": {
      "text/plain": [
       "array([[1],\n",
       "       [0],\n",
       "       [0],\n",
       "       [0]], dtype=uint8)"
      ]
     },
     "execution_count": 16,
     "metadata": {},
     "output_type": "execute_result"
    }
   ],
   "source": [
    "ys['lbl'][:, 0, 0, 0]"
   ]
  },
  {
   "cell_type": "code",
   "execution_count": 17,
   "metadata": {},
   "outputs": [
    {
     "data": {
      "text/plain": [
       "dict_keys(['t2w', 't1w', 't1wce', 'fla', 'lbl'])"
      ]
     },
     "execution_count": 17,
     "metadata": {},
     "output_type": "execute_result"
    }
   ],
   "source": [
    "xs.keys()"
   ]
  },
  {
   "cell_type": "code",
   "execution_count": 18,
   "metadata": {},
   "outputs": [
    {
     "name": "stdout",
     "output_type": "stream",
     "text": [
      "xs key: t2w      | shape = (4, 48, 96, 96, 1)\n",
      "xs key: t1w      | shape = (4, 48, 96, 96, 1)\n",
      "xs key: t1wce    | shape = (4, 48, 96, 96, 1)\n",
      "xs key: fla      | shape = (4, 48, 96, 96, 1)\n",
      "xs key: lbl      | shape = (4, 1, 1, 1, 1)\n"
     ]
    }
   ],
   "source": [
    "# --- Print keys \n",
    "for key, arr in xs.items():\n",
    "    print('xs key: {} | shape = {}'.format(key.ljust(8), arr.shape))"
   ]
  },
  {
   "cell_type": "code",
   "execution_count": 19,
   "metadata": {},
   "outputs": [],
   "source": [
    "# --- Create model inputs\n",
    "inputs = client.get_inputs(Input)"
   ]
  },
  {
   "cell_type": "code",
   "execution_count": 20,
   "metadata": {},
   "outputs": [
    {
     "data": {
      "text/plain": [
       "{'t2w': <KerasTensor: shape=(None, 48, 96, 96, 1) dtype=float32 (created by layer 't2w')>,\n",
       " 't1w': <KerasTensor: shape=(None, 48, 96, 96, 1) dtype=float32 (created by layer 't1w')>,\n",
       " 't1wce': <KerasTensor: shape=(None, 48, 96, 96, 1) dtype=float32 (created by layer 't1wce')>,\n",
       " 'fla': <KerasTensor: shape=(None, 48, 96, 96, 1) dtype=float32 (created by layer 'fla')>,\n",
       " 'lbl': <KerasTensor: shape=(None, 1, 1, 1, 1) dtype=uint8 (created by layer 'lbl')>}"
      ]
     },
     "execution_count": 20,
     "metadata": {},
     "output_type": "execute_result"
    }
   ],
   "source": [
    "inputs"
   ]
  },
  {
   "cell_type": "markdown",
   "metadata": {},
   "source": [
    "## New Version"
   ]
  },
  {
   "cell_type": "code",
   "execution_count": 32,
   "metadata": {},
   "outputs": [],
   "source": [
    "from ResNet10.ResNet10_3D import ResNet10_3D\n",
    "base_model = ResNet10_3D()"
   ]
  },
  {
   "cell_type": "code",
   "execution_count": 33,
   "metadata": {},
   "outputs": [],
   "source": [
    "bce = tf.keras.losses.BinaryCrossentropy()"
   ]
  },
  {
   "cell_type": "code",
   "execution_count": 34,
   "metadata": {},
   "outputs": [],
   "source": [
    "base_model.compile(optimizer=tf.keras.optimizers.Adam(learning_rate=1e-2), loss=bce, metrics=['acc'])"
   ]
  },
  {
   "cell_type": "code",
   "execution_count": 35,
   "metadata": {},
   "outputs": [],
   "source": [
    "def prep(data):\n",
    "    xs, ys = data\n",
    "    inp = np.empty((4, 48, 96, 96, 4))\n",
    "    inp = np.stack([xs['t2w'], xs['t1w'], xs['t1wce'], xs['fla']], axis=4)\n",
    "    inp = inp.reshape((4, 48, 96, 96, 4))\n",
    "    x_prep = (inp-np.min(inp))/(np.max(inp)-np.min(inp))\n",
    "    if(np.isnan(x_prep).any()):\n",
    "        x_prep = np.random.normal(size=(4, 48, 96, 96, 4))\n",
    "    return (x_prep, ys['lbl'].reshape(4, 1))"
   ]
  },
  {
   "cell_type": "code",
   "execution_count": 36,
   "metadata": {},
   "outputs": [
    {
     "name": "stdout",
     "output_type": "stream",
     "text": [
      " 12/100 [==>...........................] - ETA: 1:07 - loss: 2.0683 - acc: 0.4375"
     ]
    },
    {
     "name": "stderr",
     "output_type": "stream",
     "text": [
      "/home/caidm/jarvis/jarvis-core/jarvis/train/client/client.py:983: RuntimeWarning: invalid value encountered in true_divide\n",
      "  arr_ = arr / scale\n"
     ]
    },
    {
     "name": "stdout",
     "output_type": "stream",
     "text": [
      "100/100 [==============================] - 82s 769ms/step - loss: 0.8913 - acc: 0.5125\n"
     ]
    }
   ],
   "source": [
    "# --- prepare generators\n",
    "client = Client('/data/raw/miccai_rsna/data/ymls/client-3d.yml')\n",
    "gen_train, gen_valid = client.create_generators()\n",
    "history = base_model.fit(x=map(prep, gen_train), steps_per_epoch=100, epochs=1)"
   ]
  },
  {
   "cell_type": "code",
   "execution_count": 37,
   "metadata": {},
   "outputs": [
    {
     "name": "stdout",
     "output_type": "stream",
     "text": [
      "10/10 [==============================] - 8s 808ms/step - loss: 66.7723 - acc: 0.5000\n"
     ]
    },
    {
     "data": {
      "text/plain": [
       "[66.77233123779297, 0.5]"
      ]
     },
     "execution_count": 37,
     "metadata": {},
     "output_type": "execute_result"
    }
   ],
   "source": [
    "base_model.evaluate(x=map(prep, gen_valid), steps=10)"
   ]
  },
  {
   "cell_type": "code",
   "execution_count": 38,
   "metadata": {},
   "outputs": [],
   "source": [
    "from tqdm import tqdm"
   ]
  },
  {
   "cell_type": "code",
   "execution_count": 39,
   "metadata": {},
   "outputs": [],
   "source": [
    "NUM_VAL_SCANS = 100"
   ]
  },
  {
   "cell_type": "code",
   "execution_count": 40,
   "metadata": {},
   "outputs": [
    {
     "name": "stderr",
     "output_type": "stream",
     "text": [
      "100it [01:24,  1.19it/s]\n"
     ]
    }
   ],
   "source": [
    "gen_valid_prep = map(prep, gen_valid)\n",
    "preds = []\n",
    "labels = []\n",
    "for i, data in tqdm(enumerate(gen_valid_prep)):\n",
    "    x, y = data\n",
    "    pred = base_model.predict(x)\n",
    "    preds.append(pred)\n",
    "    labels.append(y.reshape(4, 1))\n",
    "    if i == NUM_VAL_SCANS:\n",
    "        break"
   ]
  },
  {
   "cell_type": "code",
   "execution_count": 41,
   "metadata": {},
   "outputs": [],
   "source": [
    "preds = np.array(preds).reshape(-1,)\n",
    "labels = np.array(labels).reshape(-1,)"
   ]
  },
  {
   "cell_type": "code",
   "execution_count": 42,
   "metadata": {},
   "outputs": [],
   "source": [
    "disc_preds = np.zeros(preds.shape)\n",
    "disc_preds[preds > 0.5] = 1"
   ]
  },
  {
   "cell_type": "code",
   "execution_count": 43,
   "metadata": {},
   "outputs": [
    {
     "name": "stdout",
     "output_type": "stream",
     "text": [
      "Validated on 100 scans...\n",
      "Accuracy: 0.5198019801980198\n",
      "AUC: 0.5034486990672559\n"
     ]
    }
   ],
   "source": [
    "from sklearn.metrics import accuracy_score, roc_auc_score\n",
    "\n",
    "acc = accuracy_score(labels, disc_preds)\n",
    "auc = roc_auc_score(labels, preds)\n",
    "print(f'Validated on {NUM_VAL_SCANS} scans...')\n",
    "print(f'Accuracy: {acc}')\n",
    "print(f'AUC: {auc}')"
   ]
  },
  {
   "cell_type": "markdown",
   "metadata": {},
   "source": [
    "## Old Version"
   ]
  },
  {
   "cell_type": "code",
   "execution_count": 22,
   "metadata": {},
   "outputs": [],
   "source": [
    "from ResNet10.ResNet10_3D import build_resnet\n",
    "base_model = build_resnet()"
   ]
  },
  {
   "cell_type": "code",
   "execution_count": 23,
   "metadata": {},
   "outputs": [],
   "source": [
    "base_model.compile(optimizer=tf.keras.optimizers.Adam(learning_rate=1e-2), loss='binary_crossentropy', metrics=['acc'])"
   ]
  },
  {
   "cell_type": "code",
   "execution_count": 24,
   "metadata": {},
   "outputs": [],
   "source": [
    "from tensorflow.keras.losses import BinaryCrossentropy"
   ]
  },
  {
   "cell_type": "code",
   "execution_count": 25,
   "metadata": {},
   "outputs": [],
   "source": [
    "opt = tf.keras.optimizers.Adam(learning_rate=1e-2)\n",
    "bce = BinaryCrossentropy()\n",
    "# @tf.function\n",
    "def train_step(x, y):\n",
    "#     print(y.shape)\n",
    "    loss = base_model.train_on_batch(x, y)\n",
    "#     with tf.GradientTape() as tape:\n",
    "# #         print('beginning training...')\n",
    "#         y_hat = base_model(x, training=True)\n",
    "# #         print(y_hat.shape)\n",
    "# #         print('done training...')\n",
    "#         loss = bce(y, y_hat)\n",
    "#     grads = tape.gradient(loss, base_model.trainable_variables)\n",
    "#     opt.apply_gradients(zip(grads, base_model.trainable_variables))\n",
    "    return loss"
   ]
  },
  {
   "cell_type": "code",
   "execution_count": 26,
   "metadata": {},
   "outputs": [],
   "source": [
    "annoying_case = None\n",
    "annoying_case_unproc = None"
   ]
  },
  {
   "cell_type": "code",
   "execution_count": 27,
   "metadata": {},
   "outputs": [],
   "source": [
    "def train(train_dataset, n_epochs=1, max_steps_per_epoch=None):\n",
    "    global annoying_case, annoying_case_unproc\n",
    "    for epoch in range(n_epochs):\n",
    "        for i, batch in enumerate(train_dataset):\n",
    "            xs, ys = batch\n",
    "            inp = np.empty((4, 48, 96, 96, 4))\n",
    "            inp[:, :, :, :, 0] = xs['t2w'][:, :, :, 0]\n",
    "            inp[:, :, :, :, 1] = xs['t1w'][:, :, :, 0]\n",
    "            inp[:, :, :, :, 2] = xs['t1wce'][:, :, :, 0]\n",
    "            inp[:, :, :, :, 3] = xs['fla'][:, :, :, 0]\n",
    "            inp = tf.image.per_image_standardization(inp)\n",
    "#             print(xs['fla'].shape)\n",
    "#             fla = xs['fla']\n",
    "            x_prep = inp # (inp-np.min(inp))/(np.max(inp)-np.min(inp))\n",
    "            if max_steps_per_epoch is not None:\n",
    "                if i == max_steps_per_epoch:\n",
    "                    break\n",
    "#             adversarial = (epoch >= 1)\n",
    "            if(np.isnan(x_prep).any()):\n",
    "                continue\n",
    "            l1 = base_model.train_on_batch(x_prep, ys['lbl'].reshape(4, 1))\n",
    "#             train_step(x_prep, ys['lbl'].reshape(4, 1))#[:, 0, 0, 0])\n",
    "#             del batch\n",
    "            clear_output(wait=True)\n",
    "            if np.isnan(np.max(x_prep)) or np.isnan(np.min(x_prep)):\n",
    "                annoying_case = x_prep\n",
    "                annoying_case_unproc = fla\n",
    "#             show_mri(x_prep[0])\n",
    "            print(\"Epoch {}/{}\".format(epoch + 1, n_epochs))\n",
    "            print(f'Step {i+1}')\n",
    "#             print(f'MRI Shape: {x_prep.shape}')\n",
    "#             print(f'Max Flair: {np.max(x_prep)}')\n",
    "#             print(f'Min Flair: {np.min(x_prep)}')\n",
    "            print(f'Loss: {l1}')\n",
    "            "
   ]
  },
  {
   "cell_type": "code",
   "execution_count": 28,
   "metadata": {},
   "outputs": [
    {
     "name": "stdout",
     "output_type": "stream",
     "text": [
      "/device:GPU:0\n"
     ]
    }
   ],
   "source": [
    "print(tf.test.gpu_device_name())"
   ]
  },
  {
   "cell_type": "code",
   "execution_count": 29,
   "metadata": {},
   "outputs": [
    {
     "name": "stdout",
     "output_type": "stream",
     "text": [
      "Epoch 1/1\n",
      "Step 100\n",
      "Loss: [0.7631871104240417, 0.25]\n"
     ]
    }
   ],
   "source": [
    "# --- prepare generators\n",
    "client = Client('/data/raw/miccai_rsna/data/ymls/client-3d.yml')\n",
    "gen_train, gen_valid = client.create_generators()\n",
    "train(gen_train, max_steps_per_epoch=100, n_epochs=1)"
   ]
  },
  {
   "cell_type": "code",
   "execution_count": 30,
   "metadata": {},
   "outputs": [],
   "source": [
    "NUM_VAL_SCANS = 100"
   ]
  },
  {
   "cell_type": "code",
   "execution_count": 31,
   "metadata": {},
   "outputs": [],
   "source": [
    "preds = []\n",
    "labels = []\n",
    "for i, batch in enumerate(gen_train):\n",
    "    xs, ys = batch\n",
    "    inp = np.empty((4, 48, 96, 96, 4))\n",
    "    inp[:, :, :, :, 0] = xs['t2w'][:, :, :, 0]\n",
    "    inp[:, :, :, :, 1] = xs['t1w'][:, :, :, 0]\n",
    "    inp[:, :, :, :, 2] = xs['t1wce'][:, :, :, 0]\n",
    "    inp[:, :, :, :, 3] = xs['fla'][:, :, :, 0]\n",
    "    inp = tf.image.per_image_standardization(inp)\n",
    "    pred = base_model.predict(inp)\n",
    "    y = ys['lbl']\n",
    "    labels.append(y.reshape(4, 1))\n",
    "    preds.append(pred)\n",
    "    if i == NUM_VAL_SCANS:\n",
    "        break"
   ]
  },
  {
   "cell_type": "code",
   "execution_count": 32,
   "metadata": {},
   "outputs": [],
   "source": [
    "preds = np.array(preds).reshape(-1,)\n",
    "labels = np.array(labels).reshape(-1,)"
   ]
  },
  {
   "cell_type": "code",
   "execution_count": 33,
   "metadata": {},
   "outputs": [
    {
     "data": {
      "text/plain": [
       "array([4.10523031e-15, 3.63088812e-17, 3.89473364e-02, 2.49713717e-04,\n",
       "       3.00268695e-20, 3.44173370e-11, 1.50106683e-01, 4.26837393e-15,\n",
       "       5.15018962e-02, 1.92043602e-01, 1.82592703e-06, 2.41208831e-08,\n",
       "       8.91208035e-24, 1.77577785e-21, 3.25475866e-12, 2.54497737e-27,\n",
       "       1.88686100e-22, 2.08515996e-20, 4.04184963e-10, 1.06486969e-01,\n",
       "       6.40979820e-08, 4.82880331e-18, 1.08820432e-17, 8.77522715e-29,\n",
       "       6.08884124e-03, 2.18305066e-01, 1.52334134e-04, 1.59904305e-02,\n",
       "       5.87157682e-02, 1.99861659e-15, 1.49401511e-21, 1.87561383e-24,\n",
       "       1.99588034e-02, 6.54039752e-07, 5.03366859e-09, 2.17303992e-22,\n",
       "       5.01552466e-10, 3.12979944e-04, 3.44018162e-13, 1.73571447e-04,\n",
       "       3.89340261e-15, 1.80589159e-12, 1.65224788e-14, 2.00502690e-08,\n",
       "       1.62622424e-27, 6.60282901e-20, 1.76737960e-02, 1.01394165e-19,\n",
       "       2.16681563e-29, 9.02517431e-19, 2.73678684e-11, 5.77406958e-02,\n",
       "       2.18696311e-20, 7.96230512e-11, 1.66125474e-07, 4.32295674e-15,\n",
       "       4.69375551e-02, 2.05028862e-01, 4.04586763e-06, 1.30033206e-10,\n",
       "       8.97182226e-02, 1.65708329e-21, 1.89847463e-18, 1.76699294e-04,\n",
       "       2.44261931e-21, 4.90348657e-06, 5.52803576e-20, 2.36054175e-02,\n",
       "       3.68325226e-02, 3.57096940e-02, 2.42527422e-22, 1.49679240e-02,\n",
       "       1.34120037e-09, 9.37041222e-10, 3.99153471e-01, 1.35441744e-15,\n",
       "       1.15430861e-22, 1.97598181e-21, 7.42102414e-02, 2.09846286e-19,\n",
       "       1.14893701e-05, 5.86328795e-04, 6.90537282e-24, 9.42184404e-02,\n",
       "       1.23203305e-19, 7.26845002e-08, 1.46045983e-27, 1.85126180e-06,\n",
       "       4.18861950e-04, 4.17200129e-12, 1.44969085e-02, 3.24422023e-17,\n",
       "       2.52971622e-05, 2.53385529e-02, 2.35326603e-08, 5.58864232e-03,\n",
       "       1.49438606e-09, 4.61654153e-19, 1.61656000e-16, 1.25883596e-28,\n",
       "       3.96558757e-17, 9.46473556e-17, 2.20453690e-27, 3.87729275e-22,\n",
       "       2.57417131e-02, 3.80539298e-02, 6.04366898e-30, 5.03728664e-14,\n",
       "       2.11151351e-17, 1.09590136e-03, 9.38386702e-09, 7.41346133e-27,\n",
       "       3.33160599e-04, 2.12994605e-21, 7.67563317e-24, 1.51270680e-04,\n",
       "       1.26805268e-18, 5.84400557e-02, 3.51312555e-11, 3.15923073e-17,\n",
       "       5.26722985e-08, 1.59242657e-16, 5.54450956e-08, 1.17845218e-07,\n",
       "       1.84980772e-15, 3.12066151e-25, 4.75928858e-02, 1.07267407e-18,\n",
       "       1.23383231e-07, 1.47830874e-17, 1.46719320e-02, 2.95267627e-03,\n",
       "       4.03311354e-23, 5.06099503e-11, 1.88509759e-08, 2.25952243e-18,\n",
       "       7.87555462e-28, 3.35398728e-26, 6.80432422e-04, 1.43511612e-02,\n",
       "       6.49774946e-23, 2.28855948e-23, 1.31058216e-01, 4.11566614e-11,\n",
       "       1.61927111e-10, 1.74398941e-04, 2.80211505e-04, 1.68186895e-10,\n",
       "       5.25047118e-03, 1.18145754e-05, 2.76449203e-01, 4.91839778e-08,\n",
       "       5.15554663e-20, 1.08368552e-23, 1.59281220e-20, 6.38500508e-19,\n",
       "       2.84495181e-05, 2.98978484e-05, 5.13174839e-19, 2.11733805e-16,\n",
       "       8.68026820e-23, 2.82548591e-02, 6.64073980e-07, 6.63658077e-23,\n",
       "       7.44503268e-08, 1.69332239e-07, 3.13388279e-23, 9.65760458e-12,\n",
       "       7.65718730e-22, 9.38352868e-02, 1.28796543e-10, 2.51750015e-02,\n",
       "       1.20879437e-25, 5.06313158e-10, 1.50103154e-19, 4.74284804e-28,\n",
       "       1.25674820e-14, 1.12142801e-01, 8.94162700e-19, 1.03684443e-16,\n",
       "       2.55913264e-08, 1.04948611e-03, 1.01102439e-10, 5.39408962e-09,\n",
       "       7.27971178e-03, 4.91879322e-03, 6.13224638e-10, 9.52440709e-13,\n",
       "       1.09839553e-20, 1.56511620e-01, 4.56389176e-10, 6.33879425e-20,\n",
       "       2.96855462e-04, 1.32730696e-02, 3.56625184e-22, 1.84248213e-03,\n",
       "       3.22786610e-23, 1.00609938e-22, 3.42557440e-03, 1.12561935e-12,\n",
       "       2.35314178e-06, 1.58659875e-17, 5.18627220e-15, 1.40610617e-02,\n",
       "       6.75112682e-16, 5.03777899e-03, 5.69818444e-13, 2.50771839e-21,\n",
       "       1.54461414e-01, 8.80759023e-03, 1.43654554e-12, 3.94081842e-04,\n",
       "       2.53851056e-01, 5.10793029e-07, 1.16600512e-15, 2.14339681e-02,\n",
       "       1.39947872e-06, 1.88279419e-08, 1.18867329e-12, 1.42503438e-06,\n",
       "       4.63236498e-19, 1.89313903e-01, 8.93779086e-15, 2.74389028e-03,\n",
       "       4.68555372e-04, 1.67150617e-01, 8.83212239e-02, 1.50356789e-06,\n",
       "       7.04896888e-14, 3.84813757e-06, 4.22351803e-18, 2.09180305e-21,\n",
       "       1.90228049e-18, 5.08949318e-15, 6.95369580e-16, 8.53617936e-02,\n",
       "       3.09723641e-19, 1.68659851e-01, 9.61460525e-14, 1.36445202e-15,\n",
       "       1.65289217e-20, 6.06724794e-13, 2.60534734e-02, 2.33591549e-15,\n",
       "       1.28826405e-23, 1.28023492e-15, 8.71757365e-14, 1.47956684e-01,\n",
       "       5.25452629e-19, 8.50366583e-11, 7.89188270e-10, 7.95630140e-09,\n",
       "       9.27112137e-18, 5.71873672e-02, 9.49020307e-10, 2.70481497e-22,\n",
       "       5.74550219e-03, 1.02000013e-10, 6.75494522e-02, 8.40589481e-22,\n",
       "       3.33271122e-09, 5.43805660e-20, 1.43806874e-21, 1.96700948e-05,\n",
       "       7.08407942e-14, 1.10893539e-09, 1.55554535e-22, 1.08916126e-03,\n",
       "       7.06999213e-04, 4.63300139e-19, 4.30913035e-21, 5.12878411e-04,\n",
       "       7.68046050e-18, 2.33964082e-17, 1.53065776e-05, 2.73412764e-02,\n",
       "       1.46524970e-17, 1.39159644e-08, 5.80549497e-10, 4.26255586e-03,\n",
       "       3.88700954e-07, 5.61592802e-02, 5.09496915e-12, 1.01662324e-16,\n",
       "       1.32717121e-24, 3.52353159e-16, 1.96260149e-22, 6.65110007e-24,\n",
       "       6.07350096e-02, 1.55327385e-07, 1.10056154e-01, 1.58223488e-17,\n",
       "       3.40423571e-13, 1.90032424e-16, 3.20422550e-05, 3.47956757e-07,\n",
       "       5.01484054e-12, 1.24587264e-17, 1.30357501e-29, 3.65642533e-02,\n",
       "       2.49017396e-17, 6.13890189e-11, 2.79415602e-16, 6.79803236e-07,\n",
       "       5.28758252e-03, 2.04512201e-16, 3.15772235e-11, 1.86486704e-06,\n",
       "       3.68477573e-04, 1.24676554e-11, 4.09791863e-14, 4.70697414e-04,\n",
       "       4.70136683e-19, 5.35562426e-13, 3.34422039e-05, 1.46027371e-01,\n",
       "       5.42148948e-03, 8.27908661e-20, 5.86721897e-02, 5.13532274e-15,\n",
       "       1.90140461e-04, 1.42926350e-01, 7.37148254e-09, 2.81296810e-16,\n",
       "       4.52948501e-03, 4.44951599e-20, 1.07833430e-05, 1.08206758e-13,\n",
       "       2.81124820e-26, 1.50457971e-27, 1.84692825e-18, 5.59788059e-05,\n",
       "       7.57774706e-06, 1.47115688e-19, 7.01638637e-04, 4.72419057e-03,\n",
       "       1.90811175e-23, 2.67228597e-20, 4.42739506e-24, 1.57871557e-15,\n",
       "       9.16533696e-20, 3.92565653e-02, 1.84169083e-04, 4.25220785e-13,\n",
       "       5.02977514e-07, 9.25642475e-02, 4.82831600e-29, 3.58832978e-23,\n",
       "       3.95097705e-14, 2.35420610e-14, 1.58014038e-19, 6.63722008e-02,\n",
       "       1.20623522e-22, 1.09588627e-09, 3.34641065e-10, 6.19679575e-29,\n",
       "       4.51712056e-20, 1.58451927e-23, 3.56729332e-18, 2.00445186e-07,\n",
       "       1.78464783e-20, 1.46307862e-11, 2.24264132e-17, 2.49925796e-02,\n",
       "       1.91417778e-15, 1.26418099e-03, 2.02845633e-01, 6.97485732e-12,\n",
       "       6.26575376e-04, 4.44450766e-01, 1.67554859e-10, 2.80058975e-05,\n",
       "       4.71422013e-10, 7.53494523e-20, 1.95673144e-09, 3.85449450e-29,\n",
       "       4.25285339e-01, 1.74371642e-03, 8.74879126e-21, 8.99615744e-28,\n",
       "       2.35719078e-13, 2.21489631e-06, 8.35615189e-21, 9.53925716e-10,\n",
       "       2.87051119e-28, 1.43830989e-14, 1.93827933e-22, 6.51082661e-30,\n",
       "       1.61324278e-04, 2.72485991e-18, 3.00964020e-14, 2.19127187e-03,\n",
       "       7.99693859e-24, 1.21265600e-07, 1.13276066e-07, 4.05970568e-05,\n",
       "       3.17439391e-12, 5.63325329e-06, 1.58401810e-15, 7.01122715e-09,\n",
       "       1.77194327e-01, 6.57989801e-20, 1.52172074e-01, 4.75924835e-02],\n",
       "      dtype=float32)"
      ]
     },
     "execution_count": 33,
     "metadata": {},
     "output_type": "execute_result"
    }
   ],
   "source": [
    "preds"
   ]
  },
  {
   "cell_type": "code",
   "execution_count": 34,
   "metadata": {},
   "outputs": [],
   "source": [
    "disc_preds = np.zeros(preds.shape)\n",
    "disc_preds[preds > 0.5] = 1"
   ]
  },
  {
   "cell_type": "code",
   "execution_count": 35,
   "metadata": {},
   "outputs": [],
   "source": [
    "from sklearn.metrics import accuracy_score, roc_auc_score"
   ]
  },
  {
   "cell_type": "code",
   "execution_count": 36,
   "metadata": {},
   "outputs": [
    {
     "name": "stdout",
     "output_type": "stream",
     "text": [
      "Validated on 100 scans...\n",
      "Accuracy: 0.47277227722772275\n",
      "AUC: 0.5390703733746283\n"
     ]
    }
   ],
   "source": [
    "acc = accuracy_score(labels, disc_preds)\n",
    "auc = roc_auc_score(labels, preds)\n",
    "print(f'Validated on {NUM_VAL_SCANS} scans...')\n",
    "print(f'Accuracy: {acc}')\n",
    "print(f'AUC: {auc}')"
   ]
  },
  {
   "cell_type": "code",
   "execution_count": null,
   "metadata": {},
   "outputs": [],
   "source": []
  }
 ],
 "metadata": {
  "kernelspec": {
   "display_name": "Python 3",
   "language": "python",
   "name": "python3"
  },
  "language_info": {
   "codemirror_mode": {
    "name": "ipython",
    "version": 3
   },
   "file_extension": ".py",
   "mimetype": "text/x-python",
   "name": "python",
   "nbconvert_exporter": "python",
   "pygments_lexer": "ipython3",
   "version": "3.8.5"
  }
 },
 "nbformat": 4,
 "nbformat_minor": 4
}
