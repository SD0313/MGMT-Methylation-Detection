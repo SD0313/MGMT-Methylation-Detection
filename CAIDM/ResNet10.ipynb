{
 "cells": [
  {
   "cell_type": "code",
   "execution_count": 1,
   "metadata": {},
   "outputs": [
    {
     "name": "stdout",
     "output_type": "stream",
     "text": [
      "Fri Jul 22 14:58:25 2022       \n",
      "+-----------------------------------------------------------------------------+\n",
      "| NVIDIA-SMI 460.91.03    Driver Version: 460.91.03    CUDA Version: 11.2     |\n",
      "|-------------------------------+----------------------+----------------------+\n",
      "| GPU  Name        Persistence-M| Bus-Id        Disp.A | Volatile Uncorr. ECC |\n",
      "| Fan  Temp  Perf  Pwr:Usage/Cap|         Memory-Usage | GPU-Util  Compute M. |\n",
      "|                               |                      |               MIG M. |\n",
      "|===============================+======================+======================|\n",
      "|   0  GeForce GTX 108...  Off  | 00000000:3B:00.0 Off |                  N/A |\n",
      "| 23%   29C    P8    16W / 250W |  10913MiB / 11178MiB |      0%      Default |\n",
      "|                               |                      |                  N/A |\n",
      "+-------------------------------+----------------------+----------------------+\n",
      "|   1  GeForce GTX 108...  Off  | 00000000:5E:00.0 Off |                  N/A |\n",
      "| 16%   29C    P0    56W / 250W |      0MiB / 11178MiB |      0%      Default |\n",
      "|                               |                      |                  N/A |\n",
      "+-------------------------------+----------------------+----------------------+\n",
      "|   2  GeForce GTX 108...  Off  | 00000000:AF:00.0 Off |                  N/A |\n",
      "| 15%   28C    P0    57W / 250W |      0MiB / 11178MiB |      0%      Default |\n",
      "|                               |                      |                  N/A |\n",
      "+-------------------------------+----------------------+----------------------+\n",
      "|   3  GeForce GTX 108...  Off  | 00000000:D8:00.0 Off |                  N/A |\n",
      "| 14%   29C    P0    55W / 250W |      0MiB / 11178MiB |      0%      Default |\n",
      "|                               |                      |                  N/A |\n",
      "+-------------------------------+----------------------+----------------------+\n",
      "                                                                               \n",
      "+-----------------------------------------------------------------------------+\n",
      "| Processes:                                                                  |\n",
      "|  GPU   GI   CI        PID   Type   Process name                  GPU Memory |\n",
      "|        ID   ID                                                   Usage      |\n",
      "|=============================================================================|\n",
      "+-----------------------------------------------------------------------------+\n"
     ]
    }
   ],
   "source": [
    "!nvidia-smi"
   ]
  },
  {
   "cell_type": "code",
   "execution_count": 2,
   "metadata": {},
   "outputs": [
    {
     "data": {
      "text/plain": [
       "{0: {'alloc': 10913, 'total': 11178, 'percentage': 0.9762927178386116},\n",
       " 1: {'alloc': 0, 'total': 11178, 'percentage': 0.0},\n",
       " 2: {'alloc': 0, 'total': 11178, 'percentage': 0.0},\n",
       " 3: {'alloc': 0, 'total': 11178, 'percentage': 0.0}}"
      ]
     },
     "execution_count": 2,
     "metadata": {},
     "output_type": "execute_result"
    }
   ],
   "source": [
    "from jarvis.utils.general import gpus\n",
    "gpus.find_all()"
   ]
  },
  {
   "cell_type": "code",
   "execution_count": 3,
   "metadata": {},
   "outputs": [
    {
     "data": {
      "text/plain": [
       "{1: {'alloc': 0, 'total': 11178, 'percentage': 0.0},\n",
       " 2: {'alloc': 0, 'total': 11178, 'percentage': 0.0},\n",
       " 3: {'alloc': 0, 'total': 11178, 'percentage': 0.0}}"
      ]
     },
     "execution_count": 3,
     "metadata": {},
     "output_type": "execute_result"
    }
   ],
   "source": [
    "gpus.find_available()"
   ]
  },
  {
   "cell_type": "code",
   "execution_count": 4,
   "metadata": {},
   "outputs": [
    {
     "name": "stdout",
     "output_type": "stream",
     "text": [
      "[ 2022-07-22 14:58:31 ] CUDA_VISIBLE_DEVICES automatically set to: 1           \n"
     ]
    }
   ],
   "source": [
    "gpus.autoselect()"
   ]
  },
  {
   "cell_type": "code",
   "execution_count": 6,
   "metadata": {},
   "outputs": [],
   "source": [
    "import numpy as np\n",
    "from jarvis.train import datasets\n",
    "from jarvis.utils.display import imshow\n",
    "from tensorflow.keras import Input\n",
    "from jarvis.train.client import Client\n",
    "\n",
    "from IPython.display import clear_output\n",
    "import matplotlib.pyplot as plt\n",
    "import tensorflow as tf"
   ]
  },
  {
   "cell_type": "code",
   "execution_count": 7,
   "metadata": {},
   "outputs": [
    {
     "data": {
      "text/plain": [
       "'/device:GPU:0'"
      ]
     },
     "execution_count": 7,
     "metadata": {},
     "output_type": "execute_result"
    }
   ],
   "source": [
    "tf.test.gpu_device_name()"
   ]
  },
  {
   "cell_type": "code",
   "execution_count": 8,
   "metadata": {},
   "outputs": [],
   "source": [
    "def show_mri(mri):\n",
    "    for i in range(mri.shape[0]):\n",
    "        clear_output(wait=True)\n",
    "        plt.axis(False)\n",
    "        plt.imshow(mri[i, :, :, 0] if len(mri.shape) == 4 else mri[i, :, :], cmap='gray')\n",
    "        plt.show()"
   ]
  },
  {
   "cell_type": "markdown",
   "metadata": {},
   "source": [
    "## New Version"
   ]
  },
  {
   "cell_type": "code",
   "execution_count": 9,
   "metadata": {},
   "outputs": [],
   "source": [
    "from ResNet10.ResNet10_3D import QuadInput_ResNet\n",
    "base_model = QuadInput_ResNet()"
   ]
  },
  {
   "cell_type": "code",
   "execution_count": 10,
   "metadata": {},
   "outputs": [],
   "source": [
    "bce = tf.keras.losses.BinaryCrossentropy()"
   ]
  },
  {
   "cell_type": "code",
   "execution_count": 11,
   "metadata": {},
   "outputs": [],
   "source": [
    "base_model.compile(optimizer=tf.keras.optimizers.Adam(learning_rate=1e-2), loss=bce, metrics=['acc'])"
   ]
  },
  {
   "cell_type": "code",
   "execution_count": 12,
   "metadata": {},
   "outputs": [],
   "source": [
    "def prep(data):\n",
    "    xs, ys = data\n",
    "    inp = np.stack([xs['t2w'], xs['t1w'], xs['t1wce'], xs['fla']], axis=4)\n",
    "    inp = inp.reshape((4, 48, 96, 96, 4))\n",
    "    x_prep = (inp-np.min(inp))/(np.max(inp)-np.min(inp))\n",
    "    if(np.isnan(x_prep).any()):\n",
    "        x_prep = np.random.normal(size=(4, 48, 96, 96, 4))\n",
    "    return (x_prep, ys['lbl'].reshape(4, 1))\n",
    "\n",
    "def prep_quad(data):\n",
    "    xs, ys = data\n",
    "    inp = (xs['t2w'].reshape(4, 48, 96, 96), xs['t1w'].reshape(4, 48, 96, 96), xs['t1wce'].reshape(4, 48, 96, 96), xs['fla'].reshape(4, 48, 96, 96))\n",
    "    x_prep = inp\n",
    "    if(np.isnan(inp[0]).any() or np.isnan(inp[1]).any() or np.isnan(inp[2]).any() or np.isnan(inp[3]).any()):\n",
    "        x_prep = (np.random.normal(size=(4, 48, 96, 96)), np.random.normal(size=(4, 48, 96, 96)), np.random.normal(size=(4, 48, 96, 96)), np.random.normal(size=(4, 48, 96, 96)))\n",
    "    return (x_prep, ys['lbl'].reshape(4, 1))"
   ]
  },
  {
   "cell_type": "code",
   "execution_count": 13,
   "metadata": {},
   "outputs": [
    {
     "name": "stdout",
     "output_type": "stream",
     "text": [
      " 44/100 [============>.................] - ETA: 16s - loss: 0.7409 - acc: 0.4773"
     ]
    },
    {
     "name": "stderr",
     "output_type": "stream",
     "text": [
      "/home/caidm/jarvis/jarvis-core/jarvis/train/client/client.py:983: RuntimeWarning: invalid value encountered in true_divide\n",
      "  arr_ = arr / scale\n"
     ]
    },
    {
     "name": "stdout",
     "output_type": "stream",
     "text": [
      "100/100 [==============================] - 35s 298ms/step - loss: 0.7239 - acc: 0.4775\n"
     ]
    }
   ],
   "source": [
    "# --- prepare generators\n",
    "client = Client('/data/raw/miccai_rsna/data/ymls/client-3d.yml')\n",
    "gen_train, gen_valid = client.create_generators()\n",
    "history = base_model.fit(x=map(prep_quad, gen_train), steps_per_epoch=100, epochs=1)"
   ]
  },
  {
   "cell_type": "code",
   "execution_count": 14,
   "metadata": {},
   "outputs": [
    {
     "name": "stdout",
     "output_type": "stream",
     "text": [
      "10/10 [==============================] - 3s 283ms/step - loss: 6.8547 - acc: 0.5000\n"
     ]
    },
    {
     "data": {
      "text/plain": [
       "[6.854737281799316, 0.5]"
      ]
     },
     "execution_count": 14,
     "metadata": {},
     "output_type": "execute_result"
    }
   ],
   "source": [
    "base_model.evaluate(x=map(prep_quad, gen_valid), steps=10)"
   ]
  },
  {
   "cell_type": "code",
   "execution_count": 24,
   "metadata": {},
   "outputs": [],
   "source": [
    "from tqdm import tqdm"
   ]
  },
  {
   "cell_type": "code",
   "execution_count": 25,
   "metadata": {},
   "outputs": [],
   "source": [
    "NUM_VAL_SCANS = 100"
   ]
  },
  {
   "cell_type": "code",
   "execution_count": 27,
   "metadata": {},
   "outputs": [
    {
     "name": "stderr",
     "output_type": "stream",
     "text": [
      "100it [00:33,  2.99it/s]\n"
     ]
    }
   ],
   "source": [
    "gen_valid_prep = map(prep_quad, gen_valid)\n",
    "preds = []\n",
    "labels = []\n",
    "for i, data in tqdm(enumerate(gen_valid_prep)):\n",
    "    x, y = data\n",
    "    pred = base_model.predict(x)\n",
    "    preds.append(pred)\n",
    "    labels.append(y.reshape(4, 1))\n",
    "    if i == NUM_VAL_SCANS:\n",
    "        break"
   ]
  },
  {
   "cell_type": "code",
   "execution_count": 28,
   "metadata": {},
   "outputs": [],
   "source": [
    "preds = np.array(preds).reshape(-1,)\n",
    "labels = np.array(labels).reshape(-1,)"
   ]
  },
  {
   "cell_type": "code",
   "execution_count": 29,
   "metadata": {},
   "outputs": [],
   "source": [
    "disc_preds = np.zeros(preds.shape)\n",
    "disc_preds[preds > 0.5] = 1"
   ]
  },
  {
   "cell_type": "code",
   "execution_count": 30,
   "metadata": {},
   "outputs": [
    {
     "name": "stdout",
     "output_type": "stream",
     "text": [
      "Validated on 100 scans...\n",
      "Accuracy: 0.5074257425742574\n",
      "AUC: 0.5936059625380014\n"
     ]
    }
   ],
   "source": [
    "from sklearn.metrics import accuracy_score, roc_auc_score\n",
    "\n",
    "acc = accuracy_score(labels, disc_preds)\n",
    "auc = roc_auc_score(labels, preds)\n",
    "print(f'Validated on {NUM_VAL_SCANS} scans...')\n",
    "print(f'Accuracy: {acc}')\n",
    "print(f'AUC: {auc}')"
   ]
  }
 ],
 "metadata": {
  "kernelspec": {
   "display_name": "Python 3",
   "language": "python",
   "name": "python3"
  },
  "language_info": {
   "codemirror_mode": {
    "name": "ipython",
    "version": 3
   },
   "file_extension": ".py",
   "mimetype": "text/x-python",
   "name": "python",
   "nbconvert_exporter": "python",
   "pygments_lexer": "ipython3",
   "version": "3.8.5"
  }
 },
 "nbformat": 4,
 "nbformat_minor": 4
}
